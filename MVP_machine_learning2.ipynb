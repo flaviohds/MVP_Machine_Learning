{
  "nbformat": 4,
  "nbformat_minor": 0,
  "metadata": {
    "colab": {
      "provenance": [],
      "toc_visible": true,
      "authorship_tag": "ABX9TyNQafbLh5Xvaf73SGSjbd6R",
      "include_colab_link": true
    },
    "kernelspec": {
      "name": "python3",
      "display_name": "Python 3"
    },
    "language_info": {
      "name": "python"
    },
    "widgets": {
      "application/vnd.jupyter.widget-state+json": {
        "3fbf83e3443944d8bff8b70acb84f7d6": {
          "model_module": "@jupyter-widgets/controls",
          "model_name": "HBoxModel",
          "model_module_version": "1.5.0",
          "state": {
            "_dom_classes": [],
            "_model_module": "@jupyter-widgets/controls",
            "_model_module_version": "1.5.0",
            "_model_name": "HBoxModel",
            "_view_count": null,
            "_view_module": "@jupyter-widgets/controls",
            "_view_module_version": "1.5.0",
            "_view_name": "HBoxView",
            "box_style": "",
            "children": [
              "IPY_MODEL_8293ebf9e48b4b69b368e5482a9b1f1a",
              "IPY_MODEL_9bc7f4bb33454bf6a5f7e6eb6b86b641",
              "IPY_MODEL_d1c96c17ad124289b918189c7ed4b6c6"
            ],
            "layout": "IPY_MODEL_d12402ce553a4e49ad0c9bb48b56668e"
          }
        },
        "8293ebf9e48b4b69b368e5482a9b1f1a": {
          "model_module": "@jupyter-widgets/controls",
          "model_name": "HTMLModel",
          "model_module_version": "1.5.0",
          "state": {
            "_dom_classes": [],
            "_model_module": "@jupyter-widgets/controls",
            "_model_module_version": "1.5.0",
            "_model_name": "HTMLModel",
            "_view_count": null,
            "_view_module": "@jupyter-widgets/controls",
            "_view_module_version": "1.5.0",
            "_view_name": "HTMLView",
            "description": "",
            "description_tooltip": null,
            "layout": "IPY_MODEL_441eafd8c49f46a5bf3161a7a99ab8f1",
            "placeholder": "​",
            "style": "IPY_MODEL_185c45b2367c4885818fff08146cbf12",
            "value": "Downloading (…)okenizer_config.json: 100%"
          }
        },
        "9bc7f4bb33454bf6a5f7e6eb6b86b641": {
          "model_module": "@jupyter-widgets/controls",
          "model_name": "FloatProgressModel",
          "model_module_version": "1.5.0",
          "state": {
            "_dom_classes": [],
            "_model_module": "@jupyter-widgets/controls",
            "_model_module_version": "1.5.0",
            "_model_name": "FloatProgressModel",
            "_view_count": null,
            "_view_module": "@jupyter-widgets/controls",
            "_view_module_version": "1.5.0",
            "_view_name": "ProgressView",
            "bar_style": "success",
            "description": "",
            "description_tooltip": null,
            "layout": "IPY_MODEL_626aeedb9580410caccd45093501fc9d",
            "max": 29,
            "min": 0,
            "orientation": "horizontal",
            "style": "IPY_MODEL_74664b12fe244079ae45e067b8428ce7",
            "value": 29
          }
        },
        "d1c96c17ad124289b918189c7ed4b6c6": {
          "model_module": "@jupyter-widgets/controls",
          "model_name": "HTMLModel",
          "model_module_version": "1.5.0",
          "state": {
            "_dom_classes": [],
            "_model_module": "@jupyter-widgets/controls",
            "_model_module_version": "1.5.0",
            "_model_name": "HTMLModel",
            "_view_count": null,
            "_view_module": "@jupyter-widgets/controls",
            "_view_module_version": "1.5.0",
            "_view_name": "HTMLView",
            "description": "",
            "description_tooltip": null,
            "layout": "IPY_MODEL_74c40dad0b7042c78e0e677fc42e91d2",
            "placeholder": "​",
            "style": "IPY_MODEL_a92e2324344744e2ae7ead2a706c118e",
            "value": " 29.0/29.0 [00:00&lt;00:00, 699B/s]"
          }
        },
        "d12402ce553a4e49ad0c9bb48b56668e": {
          "model_module": "@jupyter-widgets/base",
          "model_name": "LayoutModel",
          "model_module_version": "1.2.0",
          "state": {
            "_model_module": "@jupyter-widgets/base",
            "_model_module_version": "1.2.0",
            "_model_name": "LayoutModel",
            "_view_count": null,
            "_view_module": "@jupyter-widgets/base",
            "_view_module_version": "1.2.0",
            "_view_name": "LayoutView",
            "align_content": null,
            "align_items": null,
            "align_self": null,
            "border": null,
            "bottom": null,
            "display": null,
            "flex": null,
            "flex_flow": null,
            "grid_area": null,
            "grid_auto_columns": null,
            "grid_auto_flow": null,
            "grid_auto_rows": null,
            "grid_column": null,
            "grid_gap": null,
            "grid_row": null,
            "grid_template_areas": null,
            "grid_template_columns": null,
            "grid_template_rows": null,
            "height": null,
            "justify_content": null,
            "justify_items": null,
            "left": null,
            "margin": null,
            "max_height": null,
            "max_width": null,
            "min_height": null,
            "min_width": null,
            "object_fit": null,
            "object_position": null,
            "order": null,
            "overflow": null,
            "overflow_x": null,
            "overflow_y": null,
            "padding": null,
            "right": null,
            "top": null,
            "visibility": null,
            "width": null
          }
        },
        "441eafd8c49f46a5bf3161a7a99ab8f1": {
          "model_module": "@jupyter-widgets/base",
          "model_name": "LayoutModel",
          "model_module_version": "1.2.0",
          "state": {
            "_model_module": "@jupyter-widgets/base",
            "_model_module_version": "1.2.0",
            "_model_name": "LayoutModel",
            "_view_count": null,
            "_view_module": "@jupyter-widgets/base",
            "_view_module_version": "1.2.0",
            "_view_name": "LayoutView",
            "align_content": null,
            "align_items": null,
            "align_self": null,
            "border": null,
            "bottom": null,
            "display": null,
            "flex": null,
            "flex_flow": null,
            "grid_area": null,
            "grid_auto_columns": null,
            "grid_auto_flow": null,
            "grid_auto_rows": null,
            "grid_column": null,
            "grid_gap": null,
            "grid_row": null,
            "grid_template_areas": null,
            "grid_template_columns": null,
            "grid_template_rows": null,
            "height": null,
            "justify_content": null,
            "justify_items": null,
            "left": null,
            "margin": null,
            "max_height": null,
            "max_width": null,
            "min_height": null,
            "min_width": null,
            "object_fit": null,
            "object_position": null,
            "order": null,
            "overflow": null,
            "overflow_x": null,
            "overflow_y": null,
            "padding": null,
            "right": null,
            "top": null,
            "visibility": null,
            "width": null
          }
        },
        "185c45b2367c4885818fff08146cbf12": {
          "model_module": "@jupyter-widgets/controls",
          "model_name": "DescriptionStyleModel",
          "model_module_version": "1.5.0",
          "state": {
            "_model_module": "@jupyter-widgets/controls",
            "_model_module_version": "1.5.0",
            "_model_name": "DescriptionStyleModel",
            "_view_count": null,
            "_view_module": "@jupyter-widgets/base",
            "_view_module_version": "1.2.0",
            "_view_name": "StyleView",
            "description_width": ""
          }
        },
        "626aeedb9580410caccd45093501fc9d": {
          "model_module": "@jupyter-widgets/base",
          "model_name": "LayoutModel",
          "model_module_version": "1.2.0",
          "state": {
            "_model_module": "@jupyter-widgets/base",
            "_model_module_version": "1.2.0",
            "_model_name": "LayoutModel",
            "_view_count": null,
            "_view_module": "@jupyter-widgets/base",
            "_view_module_version": "1.2.0",
            "_view_name": "LayoutView",
            "align_content": null,
            "align_items": null,
            "align_self": null,
            "border": null,
            "bottom": null,
            "display": null,
            "flex": null,
            "flex_flow": null,
            "grid_area": null,
            "grid_auto_columns": null,
            "grid_auto_flow": null,
            "grid_auto_rows": null,
            "grid_column": null,
            "grid_gap": null,
            "grid_row": null,
            "grid_template_areas": null,
            "grid_template_columns": null,
            "grid_template_rows": null,
            "height": null,
            "justify_content": null,
            "justify_items": null,
            "left": null,
            "margin": null,
            "max_height": null,
            "max_width": null,
            "min_height": null,
            "min_width": null,
            "object_fit": null,
            "object_position": null,
            "order": null,
            "overflow": null,
            "overflow_x": null,
            "overflow_y": null,
            "padding": null,
            "right": null,
            "top": null,
            "visibility": null,
            "width": null
          }
        },
        "74664b12fe244079ae45e067b8428ce7": {
          "model_module": "@jupyter-widgets/controls",
          "model_name": "ProgressStyleModel",
          "model_module_version": "1.5.0",
          "state": {
            "_model_module": "@jupyter-widgets/controls",
            "_model_module_version": "1.5.0",
            "_model_name": "ProgressStyleModel",
            "_view_count": null,
            "_view_module": "@jupyter-widgets/base",
            "_view_module_version": "1.2.0",
            "_view_name": "StyleView",
            "bar_color": null,
            "description_width": ""
          }
        },
        "74c40dad0b7042c78e0e677fc42e91d2": {
          "model_module": "@jupyter-widgets/base",
          "model_name": "LayoutModel",
          "model_module_version": "1.2.0",
          "state": {
            "_model_module": "@jupyter-widgets/base",
            "_model_module_version": "1.2.0",
            "_model_name": "LayoutModel",
            "_view_count": null,
            "_view_module": "@jupyter-widgets/base",
            "_view_module_version": "1.2.0",
            "_view_name": "LayoutView",
            "align_content": null,
            "align_items": null,
            "align_self": null,
            "border": null,
            "bottom": null,
            "display": null,
            "flex": null,
            "flex_flow": null,
            "grid_area": null,
            "grid_auto_columns": null,
            "grid_auto_flow": null,
            "grid_auto_rows": null,
            "grid_column": null,
            "grid_gap": null,
            "grid_row": null,
            "grid_template_areas": null,
            "grid_template_columns": null,
            "grid_template_rows": null,
            "height": null,
            "justify_content": null,
            "justify_items": null,
            "left": null,
            "margin": null,
            "max_height": null,
            "max_width": null,
            "min_height": null,
            "min_width": null,
            "object_fit": null,
            "object_position": null,
            "order": null,
            "overflow": null,
            "overflow_x": null,
            "overflow_y": null,
            "padding": null,
            "right": null,
            "top": null,
            "visibility": null,
            "width": null
          }
        },
        "a92e2324344744e2ae7ead2a706c118e": {
          "model_module": "@jupyter-widgets/controls",
          "model_name": "DescriptionStyleModel",
          "model_module_version": "1.5.0",
          "state": {
            "_model_module": "@jupyter-widgets/controls",
            "_model_module_version": "1.5.0",
            "_model_name": "DescriptionStyleModel",
            "_view_count": null,
            "_view_module": "@jupyter-widgets/base",
            "_view_module_version": "1.2.0",
            "_view_name": "StyleView",
            "description_width": ""
          }
        },
        "de0d858a07fe4fa1ba1927e4817b1a10": {
          "model_module": "@jupyter-widgets/controls",
          "model_name": "HBoxModel",
          "model_module_version": "1.5.0",
          "state": {
            "_dom_classes": [],
            "_model_module": "@jupyter-widgets/controls",
            "_model_module_version": "1.5.0",
            "_model_name": "HBoxModel",
            "_view_count": null,
            "_view_module": "@jupyter-widgets/controls",
            "_view_module_version": "1.5.0",
            "_view_name": "HBoxView",
            "box_style": "",
            "children": [
              "IPY_MODEL_2f85c0e91e824d1e9a2bb1ecda82459c",
              "IPY_MODEL_2668ad1cc9664fe98ffb13788bee56f7",
              "IPY_MODEL_a226bdab182944abbcb0f02cac6c0bdd"
            ],
            "layout": "IPY_MODEL_9893cdd1d0cf4716bbe69e9a655229d5"
          }
        },
        "2f85c0e91e824d1e9a2bb1ecda82459c": {
          "model_module": "@jupyter-widgets/controls",
          "model_name": "HTMLModel",
          "model_module_version": "1.5.0",
          "state": {
            "_dom_classes": [],
            "_model_module": "@jupyter-widgets/controls",
            "_model_module_version": "1.5.0",
            "_model_name": "HTMLModel",
            "_view_count": null,
            "_view_module": "@jupyter-widgets/controls",
            "_view_module_version": "1.5.0",
            "_view_name": "HTMLView",
            "description": "",
            "description_tooltip": null,
            "layout": "IPY_MODEL_c341df11ea344532a7ec77e5cb2a8bb3",
            "placeholder": "​",
            "style": "IPY_MODEL_3ef59181b0e3420b8a27a5c370542670",
            "value": "Downloading (…)lve/main/config.json: 100%"
          }
        },
        "2668ad1cc9664fe98ffb13788bee56f7": {
          "model_module": "@jupyter-widgets/controls",
          "model_name": "FloatProgressModel",
          "model_module_version": "1.5.0",
          "state": {
            "_dom_classes": [],
            "_model_module": "@jupyter-widgets/controls",
            "_model_module_version": "1.5.0",
            "_model_name": "FloatProgressModel",
            "_view_count": null,
            "_view_module": "@jupyter-widgets/controls",
            "_view_module_version": "1.5.0",
            "_view_name": "ProgressView",
            "bar_style": "success",
            "description": "",
            "description_tooltip": null,
            "layout": "IPY_MODEL_7cc7c9d4d4fa4acf8fce5db28959a8e5",
            "max": 570,
            "min": 0,
            "orientation": "horizontal",
            "style": "IPY_MODEL_2f4ac59a11f047ba83d4429db596dc9d",
            "value": 570
          }
        },
        "a226bdab182944abbcb0f02cac6c0bdd": {
          "model_module": "@jupyter-widgets/controls",
          "model_name": "HTMLModel",
          "model_module_version": "1.5.0",
          "state": {
            "_dom_classes": [],
            "_model_module": "@jupyter-widgets/controls",
            "_model_module_version": "1.5.0",
            "_model_name": "HTMLModel",
            "_view_count": null,
            "_view_module": "@jupyter-widgets/controls",
            "_view_module_version": "1.5.0",
            "_view_name": "HTMLView",
            "description": "",
            "description_tooltip": null,
            "layout": "IPY_MODEL_b61c3620f90543f2889567f59bd69088",
            "placeholder": "​",
            "style": "IPY_MODEL_562fe6299d044f44a09f1ee5ba26e574",
            "value": " 570/570 [00:00&lt;00:00, 28.1kB/s]"
          }
        },
        "9893cdd1d0cf4716bbe69e9a655229d5": {
          "model_module": "@jupyter-widgets/base",
          "model_name": "LayoutModel",
          "model_module_version": "1.2.0",
          "state": {
            "_model_module": "@jupyter-widgets/base",
            "_model_module_version": "1.2.0",
            "_model_name": "LayoutModel",
            "_view_count": null,
            "_view_module": "@jupyter-widgets/base",
            "_view_module_version": "1.2.0",
            "_view_name": "LayoutView",
            "align_content": null,
            "align_items": null,
            "align_self": null,
            "border": null,
            "bottom": null,
            "display": null,
            "flex": null,
            "flex_flow": null,
            "grid_area": null,
            "grid_auto_columns": null,
            "grid_auto_flow": null,
            "grid_auto_rows": null,
            "grid_column": null,
            "grid_gap": null,
            "grid_row": null,
            "grid_template_areas": null,
            "grid_template_columns": null,
            "grid_template_rows": null,
            "height": null,
            "justify_content": null,
            "justify_items": null,
            "left": null,
            "margin": null,
            "max_height": null,
            "max_width": null,
            "min_height": null,
            "min_width": null,
            "object_fit": null,
            "object_position": null,
            "order": null,
            "overflow": null,
            "overflow_x": null,
            "overflow_y": null,
            "padding": null,
            "right": null,
            "top": null,
            "visibility": null,
            "width": null
          }
        },
        "c341df11ea344532a7ec77e5cb2a8bb3": {
          "model_module": "@jupyter-widgets/base",
          "model_name": "LayoutModel",
          "model_module_version": "1.2.0",
          "state": {
            "_model_module": "@jupyter-widgets/base",
            "_model_module_version": "1.2.0",
            "_model_name": "LayoutModel",
            "_view_count": null,
            "_view_module": "@jupyter-widgets/base",
            "_view_module_version": "1.2.0",
            "_view_name": "LayoutView",
            "align_content": null,
            "align_items": null,
            "align_self": null,
            "border": null,
            "bottom": null,
            "display": null,
            "flex": null,
            "flex_flow": null,
            "grid_area": null,
            "grid_auto_columns": null,
            "grid_auto_flow": null,
            "grid_auto_rows": null,
            "grid_column": null,
            "grid_gap": null,
            "grid_row": null,
            "grid_template_areas": null,
            "grid_template_columns": null,
            "grid_template_rows": null,
            "height": null,
            "justify_content": null,
            "justify_items": null,
            "left": null,
            "margin": null,
            "max_height": null,
            "max_width": null,
            "min_height": null,
            "min_width": null,
            "object_fit": null,
            "object_position": null,
            "order": null,
            "overflow": null,
            "overflow_x": null,
            "overflow_y": null,
            "padding": null,
            "right": null,
            "top": null,
            "visibility": null,
            "width": null
          }
        },
        "3ef59181b0e3420b8a27a5c370542670": {
          "model_module": "@jupyter-widgets/controls",
          "model_name": "DescriptionStyleModel",
          "model_module_version": "1.5.0",
          "state": {
            "_model_module": "@jupyter-widgets/controls",
            "_model_module_version": "1.5.0",
            "_model_name": "DescriptionStyleModel",
            "_view_count": null,
            "_view_module": "@jupyter-widgets/base",
            "_view_module_version": "1.2.0",
            "_view_name": "StyleView",
            "description_width": ""
          }
        },
        "7cc7c9d4d4fa4acf8fce5db28959a8e5": {
          "model_module": "@jupyter-widgets/base",
          "model_name": "LayoutModel",
          "model_module_version": "1.2.0",
          "state": {
            "_model_module": "@jupyter-widgets/base",
            "_model_module_version": "1.2.0",
            "_model_name": "LayoutModel",
            "_view_count": null,
            "_view_module": "@jupyter-widgets/base",
            "_view_module_version": "1.2.0",
            "_view_name": "LayoutView",
            "align_content": null,
            "align_items": null,
            "align_self": null,
            "border": null,
            "bottom": null,
            "display": null,
            "flex": null,
            "flex_flow": null,
            "grid_area": null,
            "grid_auto_columns": null,
            "grid_auto_flow": null,
            "grid_auto_rows": null,
            "grid_column": null,
            "grid_gap": null,
            "grid_row": null,
            "grid_template_areas": null,
            "grid_template_columns": null,
            "grid_template_rows": null,
            "height": null,
            "justify_content": null,
            "justify_items": null,
            "left": null,
            "margin": null,
            "max_height": null,
            "max_width": null,
            "min_height": null,
            "min_width": null,
            "object_fit": null,
            "object_position": null,
            "order": null,
            "overflow": null,
            "overflow_x": null,
            "overflow_y": null,
            "padding": null,
            "right": null,
            "top": null,
            "visibility": null,
            "width": null
          }
        },
        "2f4ac59a11f047ba83d4429db596dc9d": {
          "model_module": "@jupyter-widgets/controls",
          "model_name": "ProgressStyleModel",
          "model_module_version": "1.5.0",
          "state": {
            "_model_module": "@jupyter-widgets/controls",
            "_model_module_version": "1.5.0",
            "_model_name": "ProgressStyleModel",
            "_view_count": null,
            "_view_module": "@jupyter-widgets/base",
            "_view_module_version": "1.2.0",
            "_view_name": "StyleView",
            "bar_color": null,
            "description_width": ""
          }
        },
        "b61c3620f90543f2889567f59bd69088": {
          "model_module": "@jupyter-widgets/base",
          "model_name": "LayoutModel",
          "model_module_version": "1.2.0",
          "state": {
            "_model_module": "@jupyter-widgets/base",
            "_model_module_version": "1.2.0",
            "_model_name": "LayoutModel",
            "_view_count": null,
            "_view_module": "@jupyter-widgets/base",
            "_view_module_version": "1.2.0",
            "_view_name": "LayoutView",
            "align_content": null,
            "align_items": null,
            "align_self": null,
            "border": null,
            "bottom": null,
            "display": null,
            "flex": null,
            "flex_flow": null,
            "grid_area": null,
            "grid_auto_columns": null,
            "grid_auto_flow": null,
            "grid_auto_rows": null,
            "grid_column": null,
            "grid_gap": null,
            "grid_row": null,
            "grid_template_areas": null,
            "grid_template_columns": null,
            "grid_template_rows": null,
            "height": null,
            "justify_content": null,
            "justify_items": null,
            "left": null,
            "margin": null,
            "max_height": null,
            "max_width": null,
            "min_height": null,
            "min_width": null,
            "object_fit": null,
            "object_position": null,
            "order": null,
            "overflow": null,
            "overflow_x": null,
            "overflow_y": null,
            "padding": null,
            "right": null,
            "top": null,
            "visibility": null,
            "width": null
          }
        },
        "562fe6299d044f44a09f1ee5ba26e574": {
          "model_module": "@jupyter-widgets/controls",
          "model_name": "DescriptionStyleModel",
          "model_module_version": "1.5.0",
          "state": {
            "_model_module": "@jupyter-widgets/controls",
            "_model_module_version": "1.5.0",
            "_model_name": "DescriptionStyleModel",
            "_view_count": null,
            "_view_module": "@jupyter-widgets/base",
            "_view_module_version": "1.2.0",
            "_view_name": "StyleView",
            "description_width": ""
          }
        },
        "6f59c94d84464553a8adbb4140819657": {
          "model_module": "@jupyter-widgets/controls",
          "model_name": "HBoxModel",
          "model_module_version": "1.5.0",
          "state": {
            "_dom_classes": [],
            "_model_module": "@jupyter-widgets/controls",
            "_model_module_version": "1.5.0",
            "_model_name": "HBoxModel",
            "_view_count": null,
            "_view_module": "@jupyter-widgets/controls",
            "_view_module_version": "1.5.0",
            "_view_name": "HBoxView",
            "box_style": "",
            "children": [
              "IPY_MODEL_1a27da39b3974697a784ee0b64df4f87",
              "IPY_MODEL_5ffe81f3a4c34186b4ff0e9e36a7e8a9",
              "IPY_MODEL_f32cef1e78f14bd4ac2237616e683b3c"
            ],
            "layout": "IPY_MODEL_f619a6ce49c849889eea08b310c29c21"
          }
        },
        "1a27da39b3974697a784ee0b64df4f87": {
          "model_module": "@jupyter-widgets/controls",
          "model_name": "HTMLModel",
          "model_module_version": "1.5.0",
          "state": {
            "_dom_classes": [],
            "_model_module": "@jupyter-widgets/controls",
            "_model_module_version": "1.5.0",
            "_model_name": "HTMLModel",
            "_view_count": null,
            "_view_module": "@jupyter-widgets/controls",
            "_view_module_version": "1.5.0",
            "_view_name": "HTMLView",
            "description": "",
            "description_tooltip": null,
            "layout": "IPY_MODEL_1417eadfe61c4f158d05b41dff97c636",
            "placeholder": "​",
            "style": "IPY_MODEL_13344776f5094e10adc4a99df0cd633d",
            "value": "Downloading (…)solve/main/vocab.txt: 100%"
          }
        },
        "5ffe81f3a4c34186b4ff0e9e36a7e8a9": {
          "model_module": "@jupyter-widgets/controls",
          "model_name": "FloatProgressModel",
          "model_module_version": "1.5.0",
          "state": {
            "_dom_classes": [],
            "_model_module": "@jupyter-widgets/controls",
            "_model_module_version": "1.5.0",
            "_model_name": "FloatProgressModel",
            "_view_count": null,
            "_view_module": "@jupyter-widgets/controls",
            "_view_module_version": "1.5.0",
            "_view_name": "ProgressView",
            "bar_style": "success",
            "description": "",
            "description_tooltip": null,
            "layout": "IPY_MODEL_9e6258bb97254c718d76d643c19a73c4",
            "max": 213450,
            "min": 0,
            "orientation": "horizontal",
            "style": "IPY_MODEL_e63dbf8b3b4640de809f05a76d75a333",
            "value": 213450
          }
        },
        "f32cef1e78f14bd4ac2237616e683b3c": {
          "model_module": "@jupyter-widgets/controls",
          "model_name": "HTMLModel",
          "model_module_version": "1.5.0",
          "state": {
            "_dom_classes": [],
            "_model_module": "@jupyter-widgets/controls",
            "_model_module_version": "1.5.0",
            "_model_name": "HTMLModel",
            "_view_count": null,
            "_view_module": "@jupyter-widgets/controls",
            "_view_module_version": "1.5.0",
            "_view_name": "HTMLView",
            "description": "",
            "description_tooltip": null,
            "layout": "IPY_MODEL_3abe912f0d4e479da32276cc79594e5e",
            "placeholder": "​",
            "style": "IPY_MODEL_bd19391fed0645ac9d41947ddb0b81b1",
            "value": " 213k/213k [00:00&lt;00:00, 2.09MB/s]"
          }
        },
        "f619a6ce49c849889eea08b310c29c21": {
          "model_module": "@jupyter-widgets/base",
          "model_name": "LayoutModel",
          "model_module_version": "1.2.0",
          "state": {
            "_model_module": "@jupyter-widgets/base",
            "_model_module_version": "1.2.0",
            "_model_name": "LayoutModel",
            "_view_count": null,
            "_view_module": "@jupyter-widgets/base",
            "_view_module_version": "1.2.0",
            "_view_name": "LayoutView",
            "align_content": null,
            "align_items": null,
            "align_self": null,
            "border": null,
            "bottom": null,
            "display": null,
            "flex": null,
            "flex_flow": null,
            "grid_area": null,
            "grid_auto_columns": null,
            "grid_auto_flow": null,
            "grid_auto_rows": null,
            "grid_column": null,
            "grid_gap": null,
            "grid_row": null,
            "grid_template_areas": null,
            "grid_template_columns": null,
            "grid_template_rows": null,
            "height": null,
            "justify_content": null,
            "justify_items": null,
            "left": null,
            "margin": null,
            "max_height": null,
            "max_width": null,
            "min_height": null,
            "min_width": null,
            "object_fit": null,
            "object_position": null,
            "order": null,
            "overflow": null,
            "overflow_x": null,
            "overflow_y": null,
            "padding": null,
            "right": null,
            "top": null,
            "visibility": null,
            "width": null
          }
        },
        "1417eadfe61c4f158d05b41dff97c636": {
          "model_module": "@jupyter-widgets/base",
          "model_name": "LayoutModel",
          "model_module_version": "1.2.0",
          "state": {
            "_model_module": "@jupyter-widgets/base",
            "_model_module_version": "1.2.0",
            "_model_name": "LayoutModel",
            "_view_count": null,
            "_view_module": "@jupyter-widgets/base",
            "_view_module_version": "1.2.0",
            "_view_name": "LayoutView",
            "align_content": null,
            "align_items": null,
            "align_self": null,
            "border": null,
            "bottom": null,
            "display": null,
            "flex": null,
            "flex_flow": null,
            "grid_area": null,
            "grid_auto_columns": null,
            "grid_auto_flow": null,
            "grid_auto_rows": null,
            "grid_column": null,
            "grid_gap": null,
            "grid_row": null,
            "grid_template_areas": null,
            "grid_template_columns": null,
            "grid_template_rows": null,
            "height": null,
            "justify_content": null,
            "justify_items": null,
            "left": null,
            "margin": null,
            "max_height": null,
            "max_width": null,
            "min_height": null,
            "min_width": null,
            "object_fit": null,
            "object_position": null,
            "order": null,
            "overflow": null,
            "overflow_x": null,
            "overflow_y": null,
            "padding": null,
            "right": null,
            "top": null,
            "visibility": null,
            "width": null
          }
        },
        "13344776f5094e10adc4a99df0cd633d": {
          "model_module": "@jupyter-widgets/controls",
          "model_name": "DescriptionStyleModel",
          "model_module_version": "1.5.0",
          "state": {
            "_model_module": "@jupyter-widgets/controls",
            "_model_module_version": "1.5.0",
            "_model_name": "DescriptionStyleModel",
            "_view_count": null,
            "_view_module": "@jupyter-widgets/base",
            "_view_module_version": "1.2.0",
            "_view_name": "StyleView",
            "description_width": ""
          }
        },
        "9e6258bb97254c718d76d643c19a73c4": {
          "model_module": "@jupyter-widgets/base",
          "model_name": "LayoutModel",
          "model_module_version": "1.2.0",
          "state": {
            "_model_module": "@jupyter-widgets/base",
            "_model_module_version": "1.2.0",
            "_model_name": "LayoutModel",
            "_view_count": null,
            "_view_module": "@jupyter-widgets/base",
            "_view_module_version": "1.2.0",
            "_view_name": "LayoutView",
            "align_content": null,
            "align_items": null,
            "align_self": null,
            "border": null,
            "bottom": null,
            "display": null,
            "flex": null,
            "flex_flow": null,
            "grid_area": null,
            "grid_auto_columns": null,
            "grid_auto_flow": null,
            "grid_auto_rows": null,
            "grid_column": null,
            "grid_gap": null,
            "grid_row": null,
            "grid_template_areas": null,
            "grid_template_columns": null,
            "grid_template_rows": null,
            "height": null,
            "justify_content": null,
            "justify_items": null,
            "left": null,
            "margin": null,
            "max_height": null,
            "max_width": null,
            "min_height": null,
            "min_width": null,
            "object_fit": null,
            "object_position": null,
            "order": null,
            "overflow": null,
            "overflow_x": null,
            "overflow_y": null,
            "padding": null,
            "right": null,
            "top": null,
            "visibility": null,
            "width": null
          }
        },
        "e63dbf8b3b4640de809f05a76d75a333": {
          "model_module": "@jupyter-widgets/controls",
          "model_name": "ProgressStyleModel",
          "model_module_version": "1.5.0",
          "state": {
            "_model_module": "@jupyter-widgets/controls",
            "_model_module_version": "1.5.0",
            "_model_name": "ProgressStyleModel",
            "_view_count": null,
            "_view_module": "@jupyter-widgets/base",
            "_view_module_version": "1.2.0",
            "_view_name": "StyleView",
            "bar_color": null,
            "description_width": ""
          }
        },
        "3abe912f0d4e479da32276cc79594e5e": {
          "model_module": "@jupyter-widgets/base",
          "model_name": "LayoutModel",
          "model_module_version": "1.2.0",
          "state": {
            "_model_module": "@jupyter-widgets/base",
            "_model_module_version": "1.2.0",
            "_model_name": "LayoutModel",
            "_view_count": null,
            "_view_module": "@jupyter-widgets/base",
            "_view_module_version": "1.2.0",
            "_view_name": "LayoutView",
            "align_content": null,
            "align_items": null,
            "align_self": null,
            "border": null,
            "bottom": null,
            "display": null,
            "flex": null,
            "flex_flow": null,
            "grid_area": null,
            "grid_auto_columns": null,
            "grid_auto_flow": null,
            "grid_auto_rows": null,
            "grid_column": null,
            "grid_gap": null,
            "grid_row": null,
            "grid_template_areas": null,
            "grid_template_columns": null,
            "grid_template_rows": null,
            "height": null,
            "justify_content": null,
            "justify_items": null,
            "left": null,
            "margin": null,
            "max_height": null,
            "max_width": null,
            "min_height": null,
            "min_width": null,
            "object_fit": null,
            "object_position": null,
            "order": null,
            "overflow": null,
            "overflow_x": null,
            "overflow_y": null,
            "padding": null,
            "right": null,
            "top": null,
            "visibility": null,
            "width": null
          }
        },
        "bd19391fed0645ac9d41947ddb0b81b1": {
          "model_module": "@jupyter-widgets/controls",
          "model_name": "DescriptionStyleModel",
          "model_module_version": "1.5.0",
          "state": {
            "_model_module": "@jupyter-widgets/controls",
            "_model_module_version": "1.5.0",
            "_model_name": "DescriptionStyleModel",
            "_view_count": null,
            "_view_module": "@jupyter-widgets/base",
            "_view_module_version": "1.2.0",
            "_view_name": "StyleView",
            "description_width": ""
          }
        },
        "4fc168ca04c040c487a34b7fcee2a3b7": {
          "model_module": "@jupyter-widgets/controls",
          "model_name": "HBoxModel",
          "model_module_version": "1.5.0",
          "state": {
            "_dom_classes": [],
            "_model_module": "@jupyter-widgets/controls",
            "_model_module_version": "1.5.0",
            "_model_name": "HBoxModel",
            "_view_count": null,
            "_view_module": "@jupyter-widgets/controls",
            "_view_module_version": "1.5.0",
            "_view_name": "HBoxView",
            "box_style": "",
            "children": [
              "IPY_MODEL_41bd856b31f84feb8a967b081b325c0d",
              "IPY_MODEL_623bf6b177094d84aa3e6bceea35ebc9",
              "IPY_MODEL_3f5fcc5770674b8aaa82ee91cb06a226"
            ],
            "layout": "IPY_MODEL_b2287402f56a48fe800df3328e91ffbd"
          }
        },
        "41bd856b31f84feb8a967b081b325c0d": {
          "model_module": "@jupyter-widgets/controls",
          "model_name": "HTMLModel",
          "model_module_version": "1.5.0",
          "state": {
            "_dom_classes": [],
            "_model_module": "@jupyter-widgets/controls",
            "_model_module_version": "1.5.0",
            "_model_name": "HTMLModel",
            "_view_count": null,
            "_view_module": "@jupyter-widgets/controls",
            "_view_module_version": "1.5.0",
            "_view_name": "HTMLView",
            "description": "",
            "description_tooltip": null,
            "layout": "IPY_MODEL_64ddcf64c8004e2ba4cd7923f0783fd6",
            "placeholder": "​",
            "style": "IPY_MODEL_de2c09da38ad46f19a3283b716cb06d4",
            "value": "Downloading (…)/main/tokenizer.json: 100%"
          }
        },
        "623bf6b177094d84aa3e6bceea35ebc9": {
          "model_module": "@jupyter-widgets/controls",
          "model_name": "FloatProgressModel",
          "model_module_version": "1.5.0",
          "state": {
            "_dom_classes": [],
            "_model_module": "@jupyter-widgets/controls",
            "_model_module_version": "1.5.0",
            "_model_name": "FloatProgressModel",
            "_view_count": null,
            "_view_module": "@jupyter-widgets/controls",
            "_view_module_version": "1.5.0",
            "_view_name": "ProgressView",
            "bar_style": "success",
            "description": "",
            "description_tooltip": null,
            "layout": "IPY_MODEL_3cad9da4fad6445fa9e97ed359721680",
            "max": 435797,
            "min": 0,
            "orientation": "horizontal",
            "style": "IPY_MODEL_c3e70709a42148608357b15490d600f1",
            "value": 435797
          }
        },
        "3f5fcc5770674b8aaa82ee91cb06a226": {
          "model_module": "@jupyter-widgets/controls",
          "model_name": "HTMLModel",
          "model_module_version": "1.5.0",
          "state": {
            "_dom_classes": [],
            "_model_module": "@jupyter-widgets/controls",
            "_model_module_version": "1.5.0",
            "_model_name": "HTMLModel",
            "_view_count": null,
            "_view_module": "@jupyter-widgets/controls",
            "_view_module_version": "1.5.0",
            "_view_name": "HTMLView",
            "description": "",
            "description_tooltip": null,
            "layout": "IPY_MODEL_15dad87d4d59454b9e5ad655ab950993",
            "placeholder": "​",
            "style": "IPY_MODEL_ad1535cf18cf40e9b690a34911d31925",
            "value": " 436k/436k [00:00&lt;00:00, 6.13MB/s]"
          }
        },
        "b2287402f56a48fe800df3328e91ffbd": {
          "model_module": "@jupyter-widgets/base",
          "model_name": "LayoutModel",
          "model_module_version": "1.2.0",
          "state": {
            "_model_module": "@jupyter-widgets/base",
            "_model_module_version": "1.2.0",
            "_model_name": "LayoutModel",
            "_view_count": null,
            "_view_module": "@jupyter-widgets/base",
            "_view_module_version": "1.2.0",
            "_view_name": "LayoutView",
            "align_content": null,
            "align_items": null,
            "align_self": null,
            "border": null,
            "bottom": null,
            "display": null,
            "flex": null,
            "flex_flow": null,
            "grid_area": null,
            "grid_auto_columns": null,
            "grid_auto_flow": null,
            "grid_auto_rows": null,
            "grid_column": null,
            "grid_gap": null,
            "grid_row": null,
            "grid_template_areas": null,
            "grid_template_columns": null,
            "grid_template_rows": null,
            "height": null,
            "justify_content": null,
            "justify_items": null,
            "left": null,
            "margin": null,
            "max_height": null,
            "max_width": null,
            "min_height": null,
            "min_width": null,
            "object_fit": null,
            "object_position": null,
            "order": null,
            "overflow": null,
            "overflow_x": null,
            "overflow_y": null,
            "padding": null,
            "right": null,
            "top": null,
            "visibility": null,
            "width": null
          }
        },
        "64ddcf64c8004e2ba4cd7923f0783fd6": {
          "model_module": "@jupyter-widgets/base",
          "model_name": "LayoutModel",
          "model_module_version": "1.2.0",
          "state": {
            "_model_module": "@jupyter-widgets/base",
            "_model_module_version": "1.2.0",
            "_model_name": "LayoutModel",
            "_view_count": null,
            "_view_module": "@jupyter-widgets/base",
            "_view_module_version": "1.2.0",
            "_view_name": "LayoutView",
            "align_content": null,
            "align_items": null,
            "align_self": null,
            "border": null,
            "bottom": null,
            "display": null,
            "flex": null,
            "flex_flow": null,
            "grid_area": null,
            "grid_auto_columns": null,
            "grid_auto_flow": null,
            "grid_auto_rows": null,
            "grid_column": null,
            "grid_gap": null,
            "grid_row": null,
            "grid_template_areas": null,
            "grid_template_columns": null,
            "grid_template_rows": null,
            "height": null,
            "justify_content": null,
            "justify_items": null,
            "left": null,
            "margin": null,
            "max_height": null,
            "max_width": null,
            "min_height": null,
            "min_width": null,
            "object_fit": null,
            "object_position": null,
            "order": null,
            "overflow": null,
            "overflow_x": null,
            "overflow_y": null,
            "padding": null,
            "right": null,
            "top": null,
            "visibility": null,
            "width": null
          }
        },
        "de2c09da38ad46f19a3283b716cb06d4": {
          "model_module": "@jupyter-widgets/controls",
          "model_name": "DescriptionStyleModel",
          "model_module_version": "1.5.0",
          "state": {
            "_model_module": "@jupyter-widgets/controls",
            "_model_module_version": "1.5.0",
            "_model_name": "DescriptionStyleModel",
            "_view_count": null,
            "_view_module": "@jupyter-widgets/base",
            "_view_module_version": "1.2.0",
            "_view_name": "StyleView",
            "description_width": ""
          }
        },
        "3cad9da4fad6445fa9e97ed359721680": {
          "model_module": "@jupyter-widgets/base",
          "model_name": "LayoutModel",
          "model_module_version": "1.2.0",
          "state": {
            "_model_module": "@jupyter-widgets/base",
            "_model_module_version": "1.2.0",
            "_model_name": "LayoutModel",
            "_view_count": null,
            "_view_module": "@jupyter-widgets/base",
            "_view_module_version": "1.2.0",
            "_view_name": "LayoutView",
            "align_content": null,
            "align_items": null,
            "align_self": null,
            "border": null,
            "bottom": null,
            "display": null,
            "flex": null,
            "flex_flow": null,
            "grid_area": null,
            "grid_auto_columns": null,
            "grid_auto_flow": null,
            "grid_auto_rows": null,
            "grid_column": null,
            "grid_gap": null,
            "grid_row": null,
            "grid_template_areas": null,
            "grid_template_columns": null,
            "grid_template_rows": null,
            "height": null,
            "justify_content": null,
            "justify_items": null,
            "left": null,
            "margin": null,
            "max_height": null,
            "max_width": null,
            "min_height": null,
            "min_width": null,
            "object_fit": null,
            "object_position": null,
            "order": null,
            "overflow": null,
            "overflow_x": null,
            "overflow_y": null,
            "padding": null,
            "right": null,
            "top": null,
            "visibility": null,
            "width": null
          }
        },
        "c3e70709a42148608357b15490d600f1": {
          "model_module": "@jupyter-widgets/controls",
          "model_name": "ProgressStyleModel",
          "model_module_version": "1.5.0",
          "state": {
            "_model_module": "@jupyter-widgets/controls",
            "_model_module_version": "1.5.0",
            "_model_name": "ProgressStyleModel",
            "_view_count": null,
            "_view_module": "@jupyter-widgets/base",
            "_view_module_version": "1.2.0",
            "_view_name": "StyleView",
            "bar_color": null,
            "description_width": ""
          }
        },
        "15dad87d4d59454b9e5ad655ab950993": {
          "model_module": "@jupyter-widgets/base",
          "model_name": "LayoutModel",
          "model_module_version": "1.2.0",
          "state": {
            "_model_module": "@jupyter-widgets/base",
            "_model_module_version": "1.2.0",
            "_model_name": "LayoutModel",
            "_view_count": null,
            "_view_module": "@jupyter-widgets/base",
            "_view_module_version": "1.2.0",
            "_view_name": "LayoutView",
            "align_content": null,
            "align_items": null,
            "align_self": null,
            "border": null,
            "bottom": null,
            "display": null,
            "flex": null,
            "flex_flow": null,
            "grid_area": null,
            "grid_auto_columns": null,
            "grid_auto_flow": null,
            "grid_auto_rows": null,
            "grid_column": null,
            "grid_gap": null,
            "grid_row": null,
            "grid_template_areas": null,
            "grid_template_columns": null,
            "grid_template_rows": null,
            "height": null,
            "justify_content": null,
            "justify_items": null,
            "left": null,
            "margin": null,
            "max_height": null,
            "max_width": null,
            "min_height": null,
            "min_width": null,
            "object_fit": null,
            "object_position": null,
            "order": null,
            "overflow": null,
            "overflow_x": null,
            "overflow_y": null,
            "padding": null,
            "right": null,
            "top": null,
            "visibility": null,
            "width": null
          }
        },
        "ad1535cf18cf40e9b690a34911d31925": {
          "model_module": "@jupyter-widgets/controls",
          "model_name": "DescriptionStyleModel",
          "model_module_version": "1.5.0",
          "state": {
            "_model_module": "@jupyter-widgets/controls",
            "_model_module_version": "1.5.0",
            "_model_name": "DescriptionStyleModel",
            "_view_count": null,
            "_view_module": "@jupyter-widgets/base",
            "_view_module_version": "1.2.0",
            "_view_name": "StyleView",
            "description_width": ""
          }
        },
        "e5fd00fc333e4a87a868b1cc8f32025c": {
          "model_module": "@jupyter-widgets/controls",
          "model_name": "HBoxModel",
          "model_module_version": "1.5.0",
          "state": {
            "_dom_classes": [],
            "_model_module": "@jupyter-widgets/controls",
            "_model_module_version": "1.5.0",
            "_model_name": "HBoxModel",
            "_view_count": null,
            "_view_module": "@jupyter-widgets/controls",
            "_view_module_version": "1.5.0",
            "_view_name": "HBoxView",
            "box_style": "",
            "children": [
              "IPY_MODEL_09589ea09e8e4f06b12786f4efcedc56",
              "IPY_MODEL_3dd38cd2a32a4129966ba4daa2179cdf",
              "IPY_MODEL_bd57179b1c3843419b3dcb902cff1c54"
            ],
            "layout": "IPY_MODEL_95e6872490fe48d797ae4841f508b0c9"
          }
        },
        "09589ea09e8e4f06b12786f4efcedc56": {
          "model_module": "@jupyter-widgets/controls",
          "model_name": "HTMLModel",
          "model_module_version": "1.5.0",
          "state": {
            "_dom_classes": [],
            "_model_module": "@jupyter-widgets/controls",
            "_model_module_version": "1.5.0",
            "_model_name": "HTMLModel",
            "_view_count": null,
            "_view_module": "@jupyter-widgets/controls",
            "_view_module_version": "1.5.0",
            "_view_name": "HTMLView",
            "description": "",
            "description_tooltip": null,
            "layout": "IPY_MODEL_4cc3b8c821824d0383cafa09872387cc",
            "placeholder": "​",
            "style": "IPY_MODEL_f3481b6a252243ab90767fcdaded24e5",
            "value": "Map: 100%"
          }
        },
        "3dd38cd2a32a4129966ba4daa2179cdf": {
          "model_module": "@jupyter-widgets/controls",
          "model_name": "FloatProgressModel",
          "model_module_version": "1.5.0",
          "state": {
            "_dom_classes": [],
            "_model_module": "@jupyter-widgets/controls",
            "_model_module_version": "1.5.0",
            "_model_name": "FloatProgressModel",
            "_view_count": null,
            "_view_module": "@jupyter-widgets/controls",
            "_view_module_version": "1.5.0",
            "_view_name": "ProgressView",
            "bar_style": "",
            "description": "",
            "description_tooltip": null,
            "layout": "IPY_MODEL_6c70fc809663458ea70c860980e00500",
            "max": 30720,
            "min": 0,
            "orientation": "horizontal",
            "style": "IPY_MODEL_4d96d31b6f6247f1951b3c8a50558e88",
            "value": 30720
          }
        },
        "bd57179b1c3843419b3dcb902cff1c54": {
          "model_module": "@jupyter-widgets/controls",
          "model_name": "HTMLModel",
          "model_module_version": "1.5.0",
          "state": {
            "_dom_classes": [],
            "_model_module": "@jupyter-widgets/controls",
            "_model_module_version": "1.5.0",
            "_model_name": "HTMLModel",
            "_view_count": null,
            "_view_module": "@jupyter-widgets/controls",
            "_view_module_version": "1.5.0",
            "_view_name": "HTMLView",
            "description": "",
            "description_tooltip": null,
            "layout": "IPY_MODEL_c7ab6ccf4e7c4359bd15b034bf7498b3",
            "placeholder": "​",
            "style": "IPY_MODEL_df990255b8ee4f749badd490867ee9d4",
            "value": " 30720/30720 [00:27&lt;00:00, 1001.82 examples/s]"
          }
        },
        "95e6872490fe48d797ae4841f508b0c9": {
          "model_module": "@jupyter-widgets/base",
          "model_name": "LayoutModel",
          "model_module_version": "1.2.0",
          "state": {
            "_model_module": "@jupyter-widgets/base",
            "_model_module_version": "1.2.0",
            "_model_name": "LayoutModel",
            "_view_count": null,
            "_view_module": "@jupyter-widgets/base",
            "_view_module_version": "1.2.0",
            "_view_name": "LayoutView",
            "align_content": null,
            "align_items": null,
            "align_self": null,
            "border": null,
            "bottom": null,
            "display": null,
            "flex": null,
            "flex_flow": null,
            "grid_area": null,
            "grid_auto_columns": null,
            "grid_auto_flow": null,
            "grid_auto_rows": null,
            "grid_column": null,
            "grid_gap": null,
            "grid_row": null,
            "grid_template_areas": null,
            "grid_template_columns": null,
            "grid_template_rows": null,
            "height": null,
            "justify_content": null,
            "justify_items": null,
            "left": null,
            "margin": null,
            "max_height": null,
            "max_width": null,
            "min_height": null,
            "min_width": null,
            "object_fit": null,
            "object_position": null,
            "order": null,
            "overflow": null,
            "overflow_x": null,
            "overflow_y": null,
            "padding": null,
            "right": null,
            "top": null,
            "visibility": "hidden",
            "width": null
          }
        },
        "4cc3b8c821824d0383cafa09872387cc": {
          "model_module": "@jupyter-widgets/base",
          "model_name": "LayoutModel",
          "model_module_version": "1.2.0",
          "state": {
            "_model_module": "@jupyter-widgets/base",
            "_model_module_version": "1.2.0",
            "_model_name": "LayoutModel",
            "_view_count": null,
            "_view_module": "@jupyter-widgets/base",
            "_view_module_version": "1.2.0",
            "_view_name": "LayoutView",
            "align_content": null,
            "align_items": null,
            "align_self": null,
            "border": null,
            "bottom": null,
            "display": null,
            "flex": null,
            "flex_flow": null,
            "grid_area": null,
            "grid_auto_columns": null,
            "grid_auto_flow": null,
            "grid_auto_rows": null,
            "grid_column": null,
            "grid_gap": null,
            "grid_row": null,
            "grid_template_areas": null,
            "grid_template_columns": null,
            "grid_template_rows": null,
            "height": null,
            "justify_content": null,
            "justify_items": null,
            "left": null,
            "margin": null,
            "max_height": null,
            "max_width": null,
            "min_height": null,
            "min_width": null,
            "object_fit": null,
            "object_position": null,
            "order": null,
            "overflow": null,
            "overflow_x": null,
            "overflow_y": null,
            "padding": null,
            "right": null,
            "top": null,
            "visibility": null,
            "width": null
          }
        },
        "f3481b6a252243ab90767fcdaded24e5": {
          "model_module": "@jupyter-widgets/controls",
          "model_name": "DescriptionStyleModel",
          "model_module_version": "1.5.0",
          "state": {
            "_model_module": "@jupyter-widgets/controls",
            "_model_module_version": "1.5.0",
            "_model_name": "DescriptionStyleModel",
            "_view_count": null,
            "_view_module": "@jupyter-widgets/base",
            "_view_module_version": "1.2.0",
            "_view_name": "StyleView",
            "description_width": ""
          }
        },
        "6c70fc809663458ea70c860980e00500": {
          "model_module": "@jupyter-widgets/base",
          "model_name": "LayoutModel",
          "model_module_version": "1.2.0",
          "state": {
            "_model_module": "@jupyter-widgets/base",
            "_model_module_version": "1.2.0",
            "_model_name": "LayoutModel",
            "_view_count": null,
            "_view_module": "@jupyter-widgets/base",
            "_view_module_version": "1.2.0",
            "_view_name": "LayoutView",
            "align_content": null,
            "align_items": null,
            "align_self": null,
            "border": null,
            "bottom": null,
            "display": null,
            "flex": null,
            "flex_flow": null,
            "grid_area": null,
            "grid_auto_columns": null,
            "grid_auto_flow": null,
            "grid_auto_rows": null,
            "grid_column": null,
            "grid_gap": null,
            "grid_row": null,
            "grid_template_areas": null,
            "grid_template_columns": null,
            "grid_template_rows": null,
            "height": null,
            "justify_content": null,
            "justify_items": null,
            "left": null,
            "margin": null,
            "max_height": null,
            "max_width": null,
            "min_height": null,
            "min_width": null,
            "object_fit": null,
            "object_position": null,
            "order": null,
            "overflow": null,
            "overflow_x": null,
            "overflow_y": null,
            "padding": null,
            "right": null,
            "top": null,
            "visibility": null,
            "width": null
          }
        },
        "4d96d31b6f6247f1951b3c8a50558e88": {
          "model_module": "@jupyter-widgets/controls",
          "model_name": "ProgressStyleModel",
          "model_module_version": "1.5.0",
          "state": {
            "_model_module": "@jupyter-widgets/controls",
            "_model_module_version": "1.5.0",
            "_model_name": "ProgressStyleModel",
            "_view_count": null,
            "_view_module": "@jupyter-widgets/base",
            "_view_module_version": "1.2.0",
            "_view_name": "StyleView",
            "bar_color": null,
            "description_width": ""
          }
        },
        "c7ab6ccf4e7c4359bd15b034bf7498b3": {
          "model_module": "@jupyter-widgets/base",
          "model_name": "LayoutModel",
          "model_module_version": "1.2.0",
          "state": {
            "_model_module": "@jupyter-widgets/base",
            "_model_module_version": "1.2.0",
            "_model_name": "LayoutModel",
            "_view_count": null,
            "_view_module": "@jupyter-widgets/base",
            "_view_module_version": "1.2.0",
            "_view_name": "LayoutView",
            "align_content": null,
            "align_items": null,
            "align_self": null,
            "border": null,
            "bottom": null,
            "display": null,
            "flex": null,
            "flex_flow": null,
            "grid_area": null,
            "grid_auto_columns": null,
            "grid_auto_flow": null,
            "grid_auto_rows": null,
            "grid_column": null,
            "grid_gap": null,
            "grid_row": null,
            "grid_template_areas": null,
            "grid_template_columns": null,
            "grid_template_rows": null,
            "height": null,
            "justify_content": null,
            "justify_items": null,
            "left": null,
            "margin": null,
            "max_height": null,
            "max_width": null,
            "min_height": null,
            "min_width": null,
            "object_fit": null,
            "object_position": null,
            "order": null,
            "overflow": null,
            "overflow_x": null,
            "overflow_y": null,
            "padding": null,
            "right": null,
            "top": null,
            "visibility": null,
            "width": null
          }
        },
        "df990255b8ee4f749badd490867ee9d4": {
          "model_module": "@jupyter-widgets/controls",
          "model_name": "DescriptionStyleModel",
          "model_module_version": "1.5.0",
          "state": {
            "_model_module": "@jupyter-widgets/controls",
            "_model_module_version": "1.5.0",
            "_model_name": "DescriptionStyleModel",
            "_view_count": null,
            "_view_module": "@jupyter-widgets/base",
            "_view_module_version": "1.2.0",
            "_view_name": "StyleView",
            "description_width": ""
          }
        },
        "44d1d5a7b9914dabbf368ee7180e2bef": {
          "model_module": "@jupyter-widgets/controls",
          "model_name": "HBoxModel",
          "model_module_version": "1.5.0",
          "state": {
            "_dom_classes": [],
            "_model_module": "@jupyter-widgets/controls",
            "_model_module_version": "1.5.0",
            "_model_name": "HBoxModel",
            "_view_count": null,
            "_view_module": "@jupyter-widgets/controls",
            "_view_module_version": "1.5.0",
            "_view_name": "HBoxView",
            "box_style": "",
            "children": [
              "IPY_MODEL_e5010ef77da64d85b8793546b86d4a43",
              "IPY_MODEL_fed5939fa7da4e3aaadfe16edba72000",
              "IPY_MODEL_63a8b7c000b949559d37f2b166620e11"
            ],
            "layout": "IPY_MODEL_b4e66bc2bf574de6974449c5801a4224"
          }
        },
        "e5010ef77da64d85b8793546b86d4a43": {
          "model_module": "@jupyter-widgets/controls",
          "model_name": "HTMLModel",
          "model_module_version": "1.5.0",
          "state": {
            "_dom_classes": [],
            "_model_module": "@jupyter-widgets/controls",
            "_model_module_version": "1.5.0",
            "_model_name": "HTMLModel",
            "_view_count": null,
            "_view_module": "@jupyter-widgets/controls",
            "_view_module_version": "1.5.0",
            "_view_name": "HTMLView",
            "description": "",
            "description_tooltip": null,
            "layout": "IPY_MODEL_54d91c9e12d846aab9bf45f2aa75bbae",
            "placeholder": "​",
            "style": "IPY_MODEL_53d63b8efc5d4897b219bd205bf4ffb6",
            "value": "Map: 100%"
          }
        },
        "fed5939fa7da4e3aaadfe16edba72000": {
          "model_module": "@jupyter-widgets/controls",
          "model_name": "FloatProgressModel",
          "model_module_version": "1.5.0",
          "state": {
            "_dom_classes": [],
            "_model_module": "@jupyter-widgets/controls",
            "_model_module_version": "1.5.0",
            "_model_name": "FloatProgressModel",
            "_view_count": null,
            "_view_module": "@jupyter-widgets/controls",
            "_view_module_version": "1.5.0",
            "_view_name": "ProgressView",
            "bar_style": "",
            "description": "",
            "description_tooltip": null,
            "layout": "IPY_MODEL_7db364bb3ab844d9a769da4c22a3f6ea",
            "max": 320,
            "min": 0,
            "orientation": "horizontal",
            "style": "IPY_MODEL_e0c61f15009949c18d0aecf3c5eddb93",
            "value": 320
          }
        },
        "63a8b7c000b949559d37f2b166620e11": {
          "model_module": "@jupyter-widgets/controls",
          "model_name": "HTMLModel",
          "model_module_version": "1.5.0",
          "state": {
            "_dom_classes": [],
            "_model_module": "@jupyter-widgets/controls",
            "_model_module_version": "1.5.0",
            "_model_name": "HTMLModel",
            "_view_count": null,
            "_view_module": "@jupyter-widgets/controls",
            "_view_module_version": "1.5.0",
            "_view_name": "HTMLView",
            "description": "",
            "description_tooltip": null,
            "layout": "IPY_MODEL_7e1ab6a096384feca7f6e6ac58d8ad01",
            "placeholder": "​",
            "style": "IPY_MODEL_34bdadd60d6a40709287bb3c1c007cfa",
            "value": " 320/320 [00:00&lt;00:00, 667.61 examples/s]"
          }
        },
        "b4e66bc2bf574de6974449c5801a4224": {
          "model_module": "@jupyter-widgets/base",
          "model_name": "LayoutModel",
          "model_module_version": "1.2.0",
          "state": {
            "_model_module": "@jupyter-widgets/base",
            "_model_module_version": "1.2.0",
            "_model_name": "LayoutModel",
            "_view_count": null,
            "_view_module": "@jupyter-widgets/base",
            "_view_module_version": "1.2.0",
            "_view_name": "LayoutView",
            "align_content": null,
            "align_items": null,
            "align_self": null,
            "border": null,
            "bottom": null,
            "display": null,
            "flex": null,
            "flex_flow": null,
            "grid_area": null,
            "grid_auto_columns": null,
            "grid_auto_flow": null,
            "grid_auto_rows": null,
            "grid_column": null,
            "grid_gap": null,
            "grid_row": null,
            "grid_template_areas": null,
            "grid_template_columns": null,
            "grid_template_rows": null,
            "height": null,
            "justify_content": null,
            "justify_items": null,
            "left": null,
            "margin": null,
            "max_height": null,
            "max_width": null,
            "min_height": null,
            "min_width": null,
            "object_fit": null,
            "object_position": null,
            "order": null,
            "overflow": null,
            "overflow_x": null,
            "overflow_y": null,
            "padding": null,
            "right": null,
            "top": null,
            "visibility": "hidden",
            "width": null
          }
        },
        "54d91c9e12d846aab9bf45f2aa75bbae": {
          "model_module": "@jupyter-widgets/base",
          "model_name": "LayoutModel",
          "model_module_version": "1.2.0",
          "state": {
            "_model_module": "@jupyter-widgets/base",
            "_model_module_version": "1.2.0",
            "_model_name": "LayoutModel",
            "_view_count": null,
            "_view_module": "@jupyter-widgets/base",
            "_view_module_version": "1.2.0",
            "_view_name": "LayoutView",
            "align_content": null,
            "align_items": null,
            "align_self": null,
            "border": null,
            "bottom": null,
            "display": null,
            "flex": null,
            "flex_flow": null,
            "grid_area": null,
            "grid_auto_columns": null,
            "grid_auto_flow": null,
            "grid_auto_rows": null,
            "grid_column": null,
            "grid_gap": null,
            "grid_row": null,
            "grid_template_areas": null,
            "grid_template_columns": null,
            "grid_template_rows": null,
            "height": null,
            "justify_content": null,
            "justify_items": null,
            "left": null,
            "margin": null,
            "max_height": null,
            "max_width": null,
            "min_height": null,
            "min_width": null,
            "object_fit": null,
            "object_position": null,
            "order": null,
            "overflow": null,
            "overflow_x": null,
            "overflow_y": null,
            "padding": null,
            "right": null,
            "top": null,
            "visibility": null,
            "width": null
          }
        },
        "53d63b8efc5d4897b219bd205bf4ffb6": {
          "model_module": "@jupyter-widgets/controls",
          "model_name": "DescriptionStyleModel",
          "model_module_version": "1.5.0",
          "state": {
            "_model_module": "@jupyter-widgets/controls",
            "_model_module_version": "1.5.0",
            "_model_name": "DescriptionStyleModel",
            "_view_count": null,
            "_view_module": "@jupyter-widgets/base",
            "_view_module_version": "1.2.0",
            "_view_name": "StyleView",
            "description_width": ""
          }
        },
        "7db364bb3ab844d9a769da4c22a3f6ea": {
          "model_module": "@jupyter-widgets/base",
          "model_name": "LayoutModel",
          "model_module_version": "1.2.0",
          "state": {
            "_model_module": "@jupyter-widgets/base",
            "_model_module_version": "1.2.0",
            "_model_name": "LayoutModel",
            "_view_count": null,
            "_view_module": "@jupyter-widgets/base",
            "_view_module_version": "1.2.0",
            "_view_name": "LayoutView",
            "align_content": null,
            "align_items": null,
            "align_self": null,
            "border": null,
            "bottom": null,
            "display": null,
            "flex": null,
            "flex_flow": null,
            "grid_area": null,
            "grid_auto_columns": null,
            "grid_auto_flow": null,
            "grid_auto_rows": null,
            "grid_column": null,
            "grid_gap": null,
            "grid_row": null,
            "grid_template_areas": null,
            "grid_template_columns": null,
            "grid_template_rows": null,
            "height": null,
            "justify_content": null,
            "justify_items": null,
            "left": null,
            "margin": null,
            "max_height": null,
            "max_width": null,
            "min_height": null,
            "min_width": null,
            "object_fit": null,
            "object_position": null,
            "order": null,
            "overflow": null,
            "overflow_x": null,
            "overflow_y": null,
            "padding": null,
            "right": null,
            "top": null,
            "visibility": null,
            "width": null
          }
        },
        "e0c61f15009949c18d0aecf3c5eddb93": {
          "model_module": "@jupyter-widgets/controls",
          "model_name": "ProgressStyleModel",
          "model_module_version": "1.5.0",
          "state": {
            "_model_module": "@jupyter-widgets/controls",
            "_model_module_version": "1.5.0",
            "_model_name": "ProgressStyleModel",
            "_view_count": null,
            "_view_module": "@jupyter-widgets/base",
            "_view_module_version": "1.2.0",
            "_view_name": "StyleView",
            "bar_color": null,
            "description_width": ""
          }
        },
        "7e1ab6a096384feca7f6e6ac58d8ad01": {
          "model_module": "@jupyter-widgets/base",
          "model_name": "LayoutModel",
          "model_module_version": "1.2.0",
          "state": {
            "_model_module": "@jupyter-widgets/base",
            "_model_module_version": "1.2.0",
            "_model_name": "LayoutModel",
            "_view_count": null,
            "_view_module": "@jupyter-widgets/base",
            "_view_module_version": "1.2.0",
            "_view_name": "LayoutView",
            "align_content": null,
            "align_items": null,
            "align_self": null,
            "border": null,
            "bottom": null,
            "display": null,
            "flex": null,
            "flex_flow": null,
            "grid_area": null,
            "grid_auto_columns": null,
            "grid_auto_flow": null,
            "grid_auto_rows": null,
            "grid_column": null,
            "grid_gap": null,
            "grid_row": null,
            "grid_template_areas": null,
            "grid_template_columns": null,
            "grid_template_rows": null,
            "height": null,
            "justify_content": null,
            "justify_items": null,
            "left": null,
            "margin": null,
            "max_height": null,
            "max_width": null,
            "min_height": null,
            "min_width": null,
            "object_fit": null,
            "object_position": null,
            "order": null,
            "overflow": null,
            "overflow_x": null,
            "overflow_y": null,
            "padding": null,
            "right": null,
            "top": null,
            "visibility": null,
            "width": null
          }
        },
        "34bdadd60d6a40709287bb3c1c007cfa": {
          "model_module": "@jupyter-widgets/controls",
          "model_name": "DescriptionStyleModel",
          "model_module_version": "1.5.0",
          "state": {
            "_model_module": "@jupyter-widgets/controls",
            "_model_module_version": "1.5.0",
            "_model_name": "DescriptionStyleModel",
            "_view_count": null,
            "_view_module": "@jupyter-widgets/base",
            "_view_module_version": "1.2.0",
            "_view_name": "StyleView",
            "description_width": ""
          }
        },
        "060ce361432c4e4a82d904239ab882b0": {
          "model_module": "@jupyter-widgets/controls",
          "model_name": "HBoxModel",
          "model_module_version": "1.5.0",
          "state": {
            "_dom_classes": [],
            "_model_module": "@jupyter-widgets/controls",
            "_model_module_version": "1.5.0",
            "_model_name": "HBoxModel",
            "_view_count": null,
            "_view_module": "@jupyter-widgets/controls",
            "_view_module_version": "1.5.0",
            "_view_name": "HBoxView",
            "box_style": "",
            "children": [
              "IPY_MODEL_2cd564cb8ea44001b031488a1d34bf6b",
              "IPY_MODEL_eec272d79cf34caaaaacbcca74a01778",
              "IPY_MODEL_6ab178c37ece4f3da7913bbf02b87d77"
            ],
            "layout": "IPY_MODEL_cb2047aa04f54ebdbb7d128feed22363"
          }
        },
        "2cd564cb8ea44001b031488a1d34bf6b": {
          "model_module": "@jupyter-widgets/controls",
          "model_name": "HTMLModel",
          "model_module_version": "1.5.0",
          "state": {
            "_dom_classes": [],
            "_model_module": "@jupyter-widgets/controls",
            "_model_module_version": "1.5.0",
            "_model_name": "HTMLModel",
            "_view_count": null,
            "_view_module": "@jupyter-widgets/controls",
            "_view_module_version": "1.5.0",
            "_view_name": "HTMLView",
            "description": "",
            "description_tooltip": null,
            "layout": "IPY_MODEL_344bb21b047c4ff9ba46b61a98649941",
            "placeholder": "​",
            "style": "IPY_MODEL_cfe11de02aa6481384463deefc5e883e",
            "value": "Map: 100%"
          }
        },
        "eec272d79cf34caaaaacbcca74a01778": {
          "model_module": "@jupyter-widgets/controls",
          "model_name": "FloatProgressModel",
          "model_module_version": "1.5.0",
          "state": {
            "_dom_classes": [],
            "_model_module": "@jupyter-widgets/controls",
            "_model_module_version": "1.5.0",
            "_model_name": "FloatProgressModel",
            "_view_count": null,
            "_view_module": "@jupyter-widgets/controls",
            "_view_module_version": "1.5.0",
            "_view_name": "ProgressView",
            "bar_style": "",
            "description": "",
            "description_tooltip": null,
            "layout": "IPY_MODEL_cdbd08a1aaf245d3a777897cae0d3a89",
            "max": 500,
            "min": 0,
            "orientation": "horizontal",
            "style": "IPY_MODEL_6c284089dbf34a259044a4069f1063dc",
            "value": 500
          }
        },
        "6ab178c37ece4f3da7913bbf02b87d77": {
          "model_module": "@jupyter-widgets/controls",
          "model_name": "HTMLModel",
          "model_module_version": "1.5.0",
          "state": {
            "_dom_classes": [],
            "_model_module": "@jupyter-widgets/controls",
            "_model_module_version": "1.5.0",
            "_model_name": "HTMLModel",
            "_view_count": null,
            "_view_module": "@jupyter-widgets/controls",
            "_view_module_version": "1.5.0",
            "_view_name": "HTMLView",
            "description": "",
            "description_tooltip": null,
            "layout": "IPY_MODEL_0a5f946a225d4cd4875d5378904952ee",
            "placeholder": "​",
            "style": "IPY_MODEL_e8e615ca6d104beea22a6c292238e321",
            "value": " 500/500 [00:00&lt;00:00, 834.77 examples/s]"
          }
        },
        "cb2047aa04f54ebdbb7d128feed22363": {
          "model_module": "@jupyter-widgets/base",
          "model_name": "LayoutModel",
          "model_module_version": "1.2.0",
          "state": {
            "_model_module": "@jupyter-widgets/base",
            "_model_module_version": "1.2.0",
            "_model_name": "LayoutModel",
            "_view_count": null,
            "_view_module": "@jupyter-widgets/base",
            "_view_module_version": "1.2.0",
            "_view_name": "LayoutView",
            "align_content": null,
            "align_items": null,
            "align_self": null,
            "border": null,
            "bottom": null,
            "display": null,
            "flex": null,
            "flex_flow": null,
            "grid_area": null,
            "grid_auto_columns": null,
            "grid_auto_flow": null,
            "grid_auto_rows": null,
            "grid_column": null,
            "grid_gap": null,
            "grid_row": null,
            "grid_template_areas": null,
            "grid_template_columns": null,
            "grid_template_rows": null,
            "height": null,
            "justify_content": null,
            "justify_items": null,
            "left": null,
            "margin": null,
            "max_height": null,
            "max_width": null,
            "min_height": null,
            "min_width": null,
            "object_fit": null,
            "object_position": null,
            "order": null,
            "overflow": null,
            "overflow_x": null,
            "overflow_y": null,
            "padding": null,
            "right": null,
            "top": null,
            "visibility": "hidden",
            "width": null
          }
        },
        "344bb21b047c4ff9ba46b61a98649941": {
          "model_module": "@jupyter-widgets/base",
          "model_name": "LayoutModel",
          "model_module_version": "1.2.0",
          "state": {
            "_model_module": "@jupyter-widgets/base",
            "_model_module_version": "1.2.0",
            "_model_name": "LayoutModel",
            "_view_count": null,
            "_view_module": "@jupyter-widgets/base",
            "_view_module_version": "1.2.0",
            "_view_name": "LayoutView",
            "align_content": null,
            "align_items": null,
            "align_self": null,
            "border": null,
            "bottom": null,
            "display": null,
            "flex": null,
            "flex_flow": null,
            "grid_area": null,
            "grid_auto_columns": null,
            "grid_auto_flow": null,
            "grid_auto_rows": null,
            "grid_column": null,
            "grid_gap": null,
            "grid_row": null,
            "grid_template_areas": null,
            "grid_template_columns": null,
            "grid_template_rows": null,
            "height": null,
            "justify_content": null,
            "justify_items": null,
            "left": null,
            "margin": null,
            "max_height": null,
            "max_width": null,
            "min_height": null,
            "min_width": null,
            "object_fit": null,
            "object_position": null,
            "order": null,
            "overflow": null,
            "overflow_x": null,
            "overflow_y": null,
            "padding": null,
            "right": null,
            "top": null,
            "visibility": null,
            "width": null
          }
        },
        "cfe11de02aa6481384463deefc5e883e": {
          "model_module": "@jupyter-widgets/controls",
          "model_name": "DescriptionStyleModel",
          "model_module_version": "1.5.0",
          "state": {
            "_model_module": "@jupyter-widgets/controls",
            "_model_module_version": "1.5.0",
            "_model_name": "DescriptionStyleModel",
            "_view_count": null,
            "_view_module": "@jupyter-widgets/base",
            "_view_module_version": "1.2.0",
            "_view_name": "StyleView",
            "description_width": ""
          }
        },
        "cdbd08a1aaf245d3a777897cae0d3a89": {
          "model_module": "@jupyter-widgets/base",
          "model_name": "LayoutModel",
          "model_module_version": "1.2.0",
          "state": {
            "_model_module": "@jupyter-widgets/base",
            "_model_module_version": "1.2.0",
            "_model_name": "LayoutModel",
            "_view_count": null,
            "_view_module": "@jupyter-widgets/base",
            "_view_module_version": "1.2.0",
            "_view_name": "LayoutView",
            "align_content": null,
            "align_items": null,
            "align_self": null,
            "border": null,
            "bottom": null,
            "display": null,
            "flex": null,
            "flex_flow": null,
            "grid_area": null,
            "grid_auto_columns": null,
            "grid_auto_flow": null,
            "grid_auto_rows": null,
            "grid_column": null,
            "grid_gap": null,
            "grid_row": null,
            "grid_template_areas": null,
            "grid_template_columns": null,
            "grid_template_rows": null,
            "height": null,
            "justify_content": null,
            "justify_items": null,
            "left": null,
            "margin": null,
            "max_height": null,
            "max_width": null,
            "min_height": null,
            "min_width": null,
            "object_fit": null,
            "object_position": null,
            "order": null,
            "overflow": null,
            "overflow_x": null,
            "overflow_y": null,
            "padding": null,
            "right": null,
            "top": null,
            "visibility": null,
            "width": null
          }
        },
        "6c284089dbf34a259044a4069f1063dc": {
          "model_module": "@jupyter-widgets/controls",
          "model_name": "ProgressStyleModel",
          "model_module_version": "1.5.0",
          "state": {
            "_model_module": "@jupyter-widgets/controls",
            "_model_module_version": "1.5.0",
            "_model_name": "ProgressStyleModel",
            "_view_count": null,
            "_view_module": "@jupyter-widgets/base",
            "_view_module_version": "1.2.0",
            "_view_name": "StyleView",
            "bar_color": null,
            "description_width": ""
          }
        },
        "0a5f946a225d4cd4875d5378904952ee": {
          "model_module": "@jupyter-widgets/base",
          "model_name": "LayoutModel",
          "model_module_version": "1.2.0",
          "state": {
            "_model_module": "@jupyter-widgets/base",
            "_model_module_version": "1.2.0",
            "_model_name": "LayoutModel",
            "_view_count": null,
            "_view_module": "@jupyter-widgets/base",
            "_view_module_version": "1.2.0",
            "_view_name": "LayoutView",
            "align_content": null,
            "align_items": null,
            "align_self": null,
            "border": null,
            "bottom": null,
            "display": null,
            "flex": null,
            "flex_flow": null,
            "grid_area": null,
            "grid_auto_columns": null,
            "grid_auto_flow": null,
            "grid_auto_rows": null,
            "grid_column": null,
            "grid_gap": null,
            "grid_row": null,
            "grid_template_areas": null,
            "grid_template_columns": null,
            "grid_template_rows": null,
            "height": null,
            "justify_content": null,
            "justify_items": null,
            "left": null,
            "margin": null,
            "max_height": null,
            "max_width": null,
            "min_height": null,
            "min_width": null,
            "object_fit": null,
            "object_position": null,
            "order": null,
            "overflow": null,
            "overflow_x": null,
            "overflow_y": null,
            "padding": null,
            "right": null,
            "top": null,
            "visibility": null,
            "width": null
          }
        },
        "e8e615ca6d104beea22a6c292238e321": {
          "model_module": "@jupyter-widgets/controls",
          "model_name": "DescriptionStyleModel",
          "model_module_version": "1.5.0",
          "state": {
            "_model_module": "@jupyter-widgets/controls",
            "_model_module_version": "1.5.0",
            "_model_name": "DescriptionStyleModel",
            "_view_count": null,
            "_view_module": "@jupyter-widgets/base",
            "_view_module_version": "1.2.0",
            "_view_name": "StyleView",
            "description_width": ""
          }
        },
        "0ee02f2add794b0bb6703ee8eed1f4ec": {
          "model_module": "@jupyter-widgets/controls",
          "model_name": "HBoxModel",
          "model_module_version": "1.5.0",
          "state": {
            "_dom_classes": [],
            "_model_module": "@jupyter-widgets/controls",
            "_model_module_version": "1.5.0",
            "_model_name": "HBoxModel",
            "_view_count": null,
            "_view_module": "@jupyter-widgets/controls",
            "_view_module_version": "1.5.0",
            "_view_name": "HBoxView",
            "box_style": "",
            "children": [
              "IPY_MODEL_c994065fb5a3481c9ec87b68ab939ec3",
              "IPY_MODEL_023f4bd97e8b4514826bd788a0b1eb72",
              "IPY_MODEL_bb42806c1bd0489087e082ff49ad53f1"
            ],
            "layout": "IPY_MODEL_6fe8920b704f46c0ba0459adf574f9fc"
          }
        },
        "c994065fb5a3481c9ec87b68ab939ec3": {
          "model_module": "@jupyter-widgets/controls",
          "model_name": "HTMLModel",
          "model_module_version": "1.5.0",
          "state": {
            "_dom_classes": [],
            "_model_module": "@jupyter-widgets/controls",
            "_model_module_version": "1.5.0",
            "_model_name": "HTMLModel",
            "_view_count": null,
            "_view_module": "@jupyter-widgets/controls",
            "_view_module_version": "1.5.0",
            "_view_name": "HTMLView",
            "description": "",
            "description_tooltip": null,
            "layout": "IPY_MODEL_4a733a3a5e0a49fc8e1f53c5439262e2",
            "placeholder": "​",
            "style": "IPY_MODEL_f33931d95ae64072a31a49723177fd0c",
            "value": "Map: 100%"
          }
        },
        "023f4bd97e8b4514826bd788a0b1eb72": {
          "model_module": "@jupyter-widgets/controls",
          "model_name": "FloatProgressModel",
          "model_module_version": "1.5.0",
          "state": {
            "_dom_classes": [],
            "_model_module": "@jupyter-widgets/controls",
            "_model_module_version": "1.5.0",
            "_model_name": "FloatProgressModel",
            "_view_count": null,
            "_view_module": "@jupyter-widgets/controls",
            "_view_module_version": "1.5.0",
            "_view_name": "ProgressView",
            "bar_style": "",
            "description": "",
            "description_tooltip": null,
            "layout": "IPY_MODEL_1fb3832651544d18a54cd745b0b7b618",
            "max": 30720,
            "min": 0,
            "orientation": "horizontal",
            "style": "IPY_MODEL_0bf82f9f18b34cf7952a064265105d71",
            "value": 30720
          }
        },
        "bb42806c1bd0489087e082ff49ad53f1": {
          "model_module": "@jupyter-widgets/controls",
          "model_name": "HTMLModel",
          "model_module_version": "1.5.0",
          "state": {
            "_dom_classes": [],
            "_model_module": "@jupyter-widgets/controls",
            "_model_module_version": "1.5.0",
            "_model_name": "HTMLModel",
            "_view_count": null,
            "_view_module": "@jupyter-widgets/controls",
            "_view_module_version": "1.5.0",
            "_view_name": "HTMLView",
            "description": "",
            "description_tooltip": null,
            "layout": "IPY_MODEL_40f2a91c71e4453fadf1e80b78d459e7",
            "placeholder": "​",
            "style": "IPY_MODEL_7d7928e75795443c8bb2b02771992a88",
            "value": " 30720/30720 [00:08&lt;00:00, 3749.34 examples/s]"
          }
        },
        "6fe8920b704f46c0ba0459adf574f9fc": {
          "model_module": "@jupyter-widgets/base",
          "model_name": "LayoutModel",
          "model_module_version": "1.2.0",
          "state": {
            "_model_module": "@jupyter-widgets/base",
            "_model_module_version": "1.2.0",
            "_model_name": "LayoutModel",
            "_view_count": null,
            "_view_module": "@jupyter-widgets/base",
            "_view_module_version": "1.2.0",
            "_view_name": "LayoutView",
            "align_content": null,
            "align_items": null,
            "align_self": null,
            "border": null,
            "bottom": null,
            "display": null,
            "flex": null,
            "flex_flow": null,
            "grid_area": null,
            "grid_auto_columns": null,
            "grid_auto_flow": null,
            "grid_auto_rows": null,
            "grid_column": null,
            "grid_gap": null,
            "grid_row": null,
            "grid_template_areas": null,
            "grid_template_columns": null,
            "grid_template_rows": null,
            "height": null,
            "justify_content": null,
            "justify_items": null,
            "left": null,
            "margin": null,
            "max_height": null,
            "max_width": null,
            "min_height": null,
            "min_width": null,
            "object_fit": null,
            "object_position": null,
            "order": null,
            "overflow": null,
            "overflow_x": null,
            "overflow_y": null,
            "padding": null,
            "right": null,
            "top": null,
            "visibility": "hidden",
            "width": null
          }
        },
        "4a733a3a5e0a49fc8e1f53c5439262e2": {
          "model_module": "@jupyter-widgets/base",
          "model_name": "LayoutModel",
          "model_module_version": "1.2.0",
          "state": {
            "_model_module": "@jupyter-widgets/base",
            "_model_module_version": "1.2.0",
            "_model_name": "LayoutModel",
            "_view_count": null,
            "_view_module": "@jupyter-widgets/base",
            "_view_module_version": "1.2.0",
            "_view_name": "LayoutView",
            "align_content": null,
            "align_items": null,
            "align_self": null,
            "border": null,
            "bottom": null,
            "display": null,
            "flex": null,
            "flex_flow": null,
            "grid_area": null,
            "grid_auto_columns": null,
            "grid_auto_flow": null,
            "grid_auto_rows": null,
            "grid_column": null,
            "grid_gap": null,
            "grid_row": null,
            "grid_template_areas": null,
            "grid_template_columns": null,
            "grid_template_rows": null,
            "height": null,
            "justify_content": null,
            "justify_items": null,
            "left": null,
            "margin": null,
            "max_height": null,
            "max_width": null,
            "min_height": null,
            "min_width": null,
            "object_fit": null,
            "object_position": null,
            "order": null,
            "overflow": null,
            "overflow_x": null,
            "overflow_y": null,
            "padding": null,
            "right": null,
            "top": null,
            "visibility": null,
            "width": null
          }
        },
        "f33931d95ae64072a31a49723177fd0c": {
          "model_module": "@jupyter-widgets/controls",
          "model_name": "DescriptionStyleModel",
          "model_module_version": "1.5.0",
          "state": {
            "_model_module": "@jupyter-widgets/controls",
            "_model_module_version": "1.5.0",
            "_model_name": "DescriptionStyleModel",
            "_view_count": null,
            "_view_module": "@jupyter-widgets/base",
            "_view_module_version": "1.2.0",
            "_view_name": "StyleView",
            "description_width": ""
          }
        },
        "1fb3832651544d18a54cd745b0b7b618": {
          "model_module": "@jupyter-widgets/base",
          "model_name": "LayoutModel",
          "model_module_version": "1.2.0",
          "state": {
            "_model_module": "@jupyter-widgets/base",
            "_model_module_version": "1.2.0",
            "_model_name": "LayoutModel",
            "_view_count": null,
            "_view_module": "@jupyter-widgets/base",
            "_view_module_version": "1.2.0",
            "_view_name": "LayoutView",
            "align_content": null,
            "align_items": null,
            "align_self": null,
            "border": null,
            "bottom": null,
            "display": null,
            "flex": null,
            "flex_flow": null,
            "grid_area": null,
            "grid_auto_columns": null,
            "grid_auto_flow": null,
            "grid_auto_rows": null,
            "grid_column": null,
            "grid_gap": null,
            "grid_row": null,
            "grid_template_areas": null,
            "grid_template_columns": null,
            "grid_template_rows": null,
            "height": null,
            "justify_content": null,
            "justify_items": null,
            "left": null,
            "margin": null,
            "max_height": null,
            "max_width": null,
            "min_height": null,
            "min_width": null,
            "object_fit": null,
            "object_position": null,
            "order": null,
            "overflow": null,
            "overflow_x": null,
            "overflow_y": null,
            "padding": null,
            "right": null,
            "top": null,
            "visibility": null,
            "width": null
          }
        },
        "0bf82f9f18b34cf7952a064265105d71": {
          "model_module": "@jupyter-widgets/controls",
          "model_name": "ProgressStyleModel",
          "model_module_version": "1.5.0",
          "state": {
            "_model_module": "@jupyter-widgets/controls",
            "_model_module_version": "1.5.0",
            "_model_name": "ProgressStyleModel",
            "_view_count": null,
            "_view_module": "@jupyter-widgets/base",
            "_view_module_version": "1.2.0",
            "_view_name": "StyleView",
            "bar_color": null,
            "description_width": ""
          }
        },
        "40f2a91c71e4453fadf1e80b78d459e7": {
          "model_module": "@jupyter-widgets/base",
          "model_name": "LayoutModel",
          "model_module_version": "1.2.0",
          "state": {
            "_model_module": "@jupyter-widgets/base",
            "_model_module_version": "1.2.0",
            "_model_name": "LayoutModel",
            "_view_count": null,
            "_view_module": "@jupyter-widgets/base",
            "_view_module_version": "1.2.0",
            "_view_name": "LayoutView",
            "align_content": null,
            "align_items": null,
            "align_self": null,
            "border": null,
            "bottom": null,
            "display": null,
            "flex": null,
            "flex_flow": null,
            "grid_area": null,
            "grid_auto_columns": null,
            "grid_auto_flow": null,
            "grid_auto_rows": null,
            "grid_column": null,
            "grid_gap": null,
            "grid_row": null,
            "grid_template_areas": null,
            "grid_template_columns": null,
            "grid_template_rows": null,
            "height": null,
            "justify_content": null,
            "justify_items": null,
            "left": null,
            "margin": null,
            "max_height": null,
            "max_width": null,
            "min_height": null,
            "min_width": null,
            "object_fit": null,
            "object_position": null,
            "order": null,
            "overflow": null,
            "overflow_x": null,
            "overflow_y": null,
            "padding": null,
            "right": null,
            "top": null,
            "visibility": null,
            "width": null
          }
        },
        "7d7928e75795443c8bb2b02771992a88": {
          "model_module": "@jupyter-widgets/controls",
          "model_name": "DescriptionStyleModel",
          "model_module_version": "1.5.0",
          "state": {
            "_model_module": "@jupyter-widgets/controls",
            "_model_module_version": "1.5.0",
            "_model_name": "DescriptionStyleModel",
            "_view_count": null,
            "_view_module": "@jupyter-widgets/base",
            "_view_module_version": "1.2.0",
            "_view_name": "StyleView",
            "description_width": ""
          }
        },
        "6c6f79e798c54b629bef1f4ae8a2371f": {
          "model_module": "@jupyter-widgets/controls",
          "model_name": "HBoxModel",
          "model_module_version": "1.5.0",
          "state": {
            "_dom_classes": [],
            "_model_module": "@jupyter-widgets/controls",
            "_model_module_version": "1.5.0",
            "_model_name": "HBoxModel",
            "_view_count": null,
            "_view_module": "@jupyter-widgets/controls",
            "_view_module_version": "1.5.0",
            "_view_name": "HBoxView",
            "box_style": "",
            "children": [
              "IPY_MODEL_f502b884ee724369841f60de2443e4c5",
              "IPY_MODEL_75815af0e3c64eb0b0194b62bb897cfd",
              "IPY_MODEL_f7db445e0cf1402886d2bd0080bfe60c"
            ],
            "layout": "IPY_MODEL_2355a08c49084c968c7c5f1f0201e258"
          }
        },
        "f502b884ee724369841f60de2443e4c5": {
          "model_module": "@jupyter-widgets/controls",
          "model_name": "HTMLModel",
          "model_module_version": "1.5.0",
          "state": {
            "_dom_classes": [],
            "_model_module": "@jupyter-widgets/controls",
            "_model_module_version": "1.5.0",
            "_model_name": "HTMLModel",
            "_view_count": null,
            "_view_module": "@jupyter-widgets/controls",
            "_view_module_version": "1.5.0",
            "_view_name": "HTMLView",
            "description": "",
            "description_tooltip": null,
            "layout": "IPY_MODEL_b853abdb64784904926cc91c12992698",
            "placeholder": "​",
            "style": "IPY_MODEL_3890f131dc0440aca4c1f2bffccfc2db",
            "value": "Map: 100%"
          }
        },
        "75815af0e3c64eb0b0194b62bb897cfd": {
          "model_module": "@jupyter-widgets/controls",
          "model_name": "FloatProgressModel",
          "model_module_version": "1.5.0",
          "state": {
            "_dom_classes": [],
            "_model_module": "@jupyter-widgets/controls",
            "_model_module_version": "1.5.0",
            "_model_name": "FloatProgressModel",
            "_view_count": null,
            "_view_module": "@jupyter-widgets/controls",
            "_view_module_version": "1.5.0",
            "_view_name": "ProgressView",
            "bar_style": "",
            "description": "",
            "description_tooltip": null,
            "layout": "IPY_MODEL_211c8333170b4d11986702920ca8b8ea",
            "max": 320,
            "min": 0,
            "orientation": "horizontal",
            "style": "IPY_MODEL_9b5ae6d8fd8145de81157a817c9d2741",
            "value": 320
          }
        },
        "f7db445e0cf1402886d2bd0080bfe60c": {
          "model_module": "@jupyter-widgets/controls",
          "model_name": "HTMLModel",
          "model_module_version": "1.5.0",
          "state": {
            "_dom_classes": [],
            "_model_module": "@jupyter-widgets/controls",
            "_model_module_version": "1.5.0",
            "_model_name": "HTMLModel",
            "_view_count": null,
            "_view_module": "@jupyter-widgets/controls",
            "_view_module_version": "1.5.0",
            "_view_name": "HTMLView",
            "description": "",
            "description_tooltip": null,
            "layout": "IPY_MODEL_b04b8b165afd4f20b4d5f7a3bb7a11ae",
            "placeholder": "​",
            "style": "IPY_MODEL_dbdee38e94e443eab18748f31d2240be",
            "value": " 320/320 [00:00&lt;00:00, 2023.79 examples/s]"
          }
        },
        "2355a08c49084c968c7c5f1f0201e258": {
          "model_module": "@jupyter-widgets/base",
          "model_name": "LayoutModel",
          "model_module_version": "1.2.0",
          "state": {
            "_model_module": "@jupyter-widgets/base",
            "_model_module_version": "1.2.0",
            "_model_name": "LayoutModel",
            "_view_count": null,
            "_view_module": "@jupyter-widgets/base",
            "_view_module_version": "1.2.0",
            "_view_name": "LayoutView",
            "align_content": null,
            "align_items": null,
            "align_self": null,
            "border": null,
            "bottom": null,
            "display": null,
            "flex": null,
            "flex_flow": null,
            "grid_area": null,
            "grid_auto_columns": null,
            "grid_auto_flow": null,
            "grid_auto_rows": null,
            "grid_column": null,
            "grid_gap": null,
            "grid_row": null,
            "grid_template_areas": null,
            "grid_template_columns": null,
            "grid_template_rows": null,
            "height": null,
            "justify_content": null,
            "justify_items": null,
            "left": null,
            "margin": null,
            "max_height": null,
            "max_width": null,
            "min_height": null,
            "min_width": null,
            "object_fit": null,
            "object_position": null,
            "order": null,
            "overflow": null,
            "overflow_x": null,
            "overflow_y": null,
            "padding": null,
            "right": null,
            "top": null,
            "visibility": "hidden",
            "width": null
          }
        },
        "b853abdb64784904926cc91c12992698": {
          "model_module": "@jupyter-widgets/base",
          "model_name": "LayoutModel",
          "model_module_version": "1.2.0",
          "state": {
            "_model_module": "@jupyter-widgets/base",
            "_model_module_version": "1.2.0",
            "_model_name": "LayoutModel",
            "_view_count": null,
            "_view_module": "@jupyter-widgets/base",
            "_view_module_version": "1.2.0",
            "_view_name": "LayoutView",
            "align_content": null,
            "align_items": null,
            "align_self": null,
            "border": null,
            "bottom": null,
            "display": null,
            "flex": null,
            "flex_flow": null,
            "grid_area": null,
            "grid_auto_columns": null,
            "grid_auto_flow": null,
            "grid_auto_rows": null,
            "grid_column": null,
            "grid_gap": null,
            "grid_row": null,
            "grid_template_areas": null,
            "grid_template_columns": null,
            "grid_template_rows": null,
            "height": null,
            "justify_content": null,
            "justify_items": null,
            "left": null,
            "margin": null,
            "max_height": null,
            "max_width": null,
            "min_height": null,
            "min_width": null,
            "object_fit": null,
            "object_position": null,
            "order": null,
            "overflow": null,
            "overflow_x": null,
            "overflow_y": null,
            "padding": null,
            "right": null,
            "top": null,
            "visibility": null,
            "width": null
          }
        },
        "3890f131dc0440aca4c1f2bffccfc2db": {
          "model_module": "@jupyter-widgets/controls",
          "model_name": "DescriptionStyleModel",
          "model_module_version": "1.5.0",
          "state": {
            "_model_module": "@jupyter-widgets/controls",
            "_model_module_version": "1.5.0",
            "_model_name": "DescriptionStyleModel",
            "_view_count": null,
            "_view_module": "@jupyter-widgets/base",
            "_view_module_version": "1.2.0",
            "_view_name": "StyleView",
            "description_width": ""
          }
        },
        "211c8333170b4d11986702920ca8b8ea": {
          "model_module": "@jupyter-widgets/base",
          "model_name": "LayoutModel",
          "model_module_version": "1.2.0",
          "state": {
            "_model_module": "@jupyter-widgets/base",
            "_model_module_version": "1.2.0",
            "_model_name": "LayoutModel",
            "_view_count": null,
            "_view_module": "@jupyter-widgets/base",
            "_view_module_version": "1.2.0",
            "_view_name": "LayoutView",
            "align_content": null,
            "align_items": null,
            "align_self": null,
            "border": null,
            "bottom": null,
            "display": null,
            "flex": null,
            "flex_flow": null,
            "grid_area": null,
            "grid_auto_columns": null,
            "grid_auto_flow": null,
            "grid_auto_rows": null,
            "grid_column": null,
            "grid_gap": null,
            "grid_row": null,
            "grid_template_areas": null,
            "grid_template_columns": null,
            "grid_template_rows": null,
            "height": null,
            "justify_content": null,
            "justify_items": null,
            "left": null,
            "margin": null,
            "max_height": null,
            "max_width": null,
            "min_height": null,
            "min_width": null,
            "object_fit": null,
            "object_position": null,
            "order": null,
            "overflow": null,
            "overflow_x": null,
            "overflow_y": null,
            "padding": null,
            "right": null,
            "top": null,
            "visibility": null,
            "width": null
          }
        },
        "9b5ae6d8fd8145de81157a817c9d2741": {
          "model_module": "@jupyter-widgets/controls",
          "model_name": "ProgressStyleModel",
          "model_module_version": "1.5.0",
          "state": {
            "_model_module": "@jupyter-widgets/controls",
            "_model_module_version": "1.5.0",
            "_model_name": "ProgressStyleModel",
            "_view_count": null,
            "_view_module": "@jupyter-widgets/base",
            "_view_module_version": "1.2.0",
            "_view_name": "StyleView",
            "bar_color": null,
            "description_width": ""
          }
        },
        "b04b8b165afd4f20b4d5f7a3bb7a11ae": {
          "model_module": "@jupyter-widgets/base",
          "model_name": "LayoutModel",
          "model_module_version": "1.2.0",
          "state": {
            "_model_module": "@jupyter-widgets/base",
            "_model_module_version": "1.2.0",
            "_model_name": "LayoutModel",
            "_view_count": null,
            "_view_module": "@jupyter-widgets/base",
            "_view_module_version": "1.2.0",
            "_view_name": "LayoutView",
            "align_content": null,
            "align_items": null,
            "align_self": null,
            "border": null,
            "bottom": null,
            "display": null,
            "flex": null,
            "flex_flow": null,
            "grid_area": null,
            "grid_auto_columns": null,
            "grid_auto_flow": null,
            "grid_auto_rows": null,
            "grid_column": null,
            "grid_gap": null,
            "grid_row": null,
            "grid_template_areas": null,
            "grid_template_columns": null,
            "grid_template_rows": null,
            "height": null,
            "justify_content": null,
            "justify_items": null,
            "left": null,
            "margin": null,
            "max_height": null,
            "max_width": null,
            "min_height": null,
            "min_width": null,
            "object_fit": null,
            "object_position": null,
            "order": null,
            "overflow": null,
            "overflow_x": null,
            "overflow_y": null,
            "padding": null,
            "right": null,
            "top": null,
            "visibility": null,
            "width": null
          }
        },
        "dbdee38e94e443eab18748f31d2240be": {
          "model_module": "@jupyter-widgets/controls",
          "model_name": "DescriptionStyleModel",
          "model_module_version": "1.5.0",
          "state": {
            "_model_module": "@jupyter-widgets/controls",
            "_model_module_version": "1.5.0",
            "_model_name": "DescriptionStyleModel",
            "_view_count": null,
            "_view_module": "@jupyter-widgets/base",
            "_view_module_version": "1.2.0",
            "_view_name": "StyleView",
            "description_width": ""
          }
        },
        "4d34e43ea6fe4b0db0c52837e0e60213": {
          "model_module": "@jupyter-widgets/controls",
          "model_name": "HBoxModel",
          "model_module_version": "1.5.0",
          "state": {
            "_dom_classes": [],
            "_model_module": "@jupyter-widgets/controls",
            "_model_module_version": "1.5.0",
            "_model_name": "HBoxModel",
            "_view_count": null,
            "_view_module": "@jupyter-widgets/controls",
            "_view_module_version": "1.5.0",
            "_view_name": "HBoxView",
            "box_style": "",
            "children": [
              "IPY_MODEL_208dd9c31ef344d88763d0c89efed209",
              "IPY_MODEL_ddf2e04585e8425393007af4c2112230",
              "IPY_MODEL_cf381181763745dd801c3a5d6566e7b5"
            ],
            "layout": "IPY_MODEL_202272c7c12e40b1b17a78dfacc0e222"
          }
        },
        "208dd9c31ef344d88763d0c89efed209": {
          "model_module": "@jupyter-widgets/controls",
          "model_name": "HTMLModel",
          "model_module_version": "1.5.0",
          "state": {
            "_dom_classes": [],
            "_model_module": "@jupyter-widgets/controls",
            "_model_module_version": "1.5.0",
            "_model_name": "HTMLModel",
            "_view_count": null,
            "_view_module": "@jupyter-widgets/controls",
            "_view_module_version": "1.5.0",
            "_view_name": "HTMLView",
            "description": "",
            "description_tooltip": null,
            "layout": "IPY_MODEL_d03a4560a35b4851b64bc17ebecf8dc9",
            "placeholder": "​",
            "style": "IPY_MODEL_8bdc1f618b8145248b27e5443cfb3917",
            "value": "Map: 100%"
          }
        },
        "ddf2e04585e8425393007af4c2112230": {
          "model_module": "@jupyter-widgets/controls",
          "model_name": "FloatProgressModel",
          "model_module_version": "1.5.0",
          "state": {
            "_dom_classes": [],
            "_model_module": "@jupyter-widgets/controls",
            "_model_module_version": "1.5.0",
            "_model_name": "FloatProgressModel",
            "_view_count": null,
            "_view_module": "@jupyter-widgets/controls",
            "_view_module_version": "1.5.0",
            "_view_name": "ProgressView",
            "bar_style": "",
            "description": "",
            "description_tooltip": null,
            "layout": "IPY_MODEL_911d8a42fcb946b59568f5a060ad08a5",
            "max": 500,
            "min": 0,
            "orientation": "horizontal",
            "style": "IPY_MODEL_a70a956657714ff6885b1d65a2204cde",
            "value": 500
          }
        },
        "cf381181763745dd801c3a5d6566e7b5": {
          "model_module": "@jupyter-widgets/controls",
          "model_name": "HTMLModel",
          "model_module_version": "1.5.0",
          "state": {
            "_dom_classes": [],
            "_model_module": "@jupyter-widgets/controls",
            "_model_module_version": "1.5.0",
            "_model_name": "HTMLModel",
            "_view_count": null,
            "_view_module": "@jupyter-widgets/controls",
            "_view_module_version": "1.5.0",
            "_view_name": "HTMLView",
            "description": "",
            "description_tooltip": null,
            "layout": "IPY_MODEL_32f8ab3ee6ed48b4a47ff6a18acb69a5",
            "placeholder": "​",
            "style": "IPY_MODEL_1f57ed49e24346b4a4e06b9d95e4a794",
            "value": " 500/500 [00:00&lt;00:00, 2366.34 examples/s]"
          }
        },
        "202272c7c12e40b1b17a78dfacc0e222": {
          "model_module": "@jupyter-widgets/base",
          "model_name": "LayoutModel",
          "model_module_version": "1.2.0",
          "state": {
            "_model_module": "@jupyter-widgets/base",
            "_model_module_version": "1.2.0",
            "_model_name": "LayoutModel",
            "_view_count": null,
            "_view_module": "@jupyter-widgets/base",
            "_view_module_version": "1.2.0",
            "_view_name": "LayoutView",
            "align_content": null,
            "align_items": null,
            "align_self": null,
            "border": null,
            "bottom": null,
            "display": null,
            "flex": null,
            "flex_flow": null,
            "grid_area": null,
            "grid_auto_columns": null,
            "grid_auto_flow": null,
            "grid_auto_rows": null,
            "grid_column": null,
            "grid_gap": null,
            "grid_row": null,
            "grid_template_areas": null,
            "grid_template_columns": null,
            "grid_template_rows": null,
            "height": null,
            "justify_content": null,
            "justify_items": null,
            "left": null,
            "margin": null,
            "max_height": null,
            "max_width": null,
            "min_height": null,
            "min_width": null,
            "object_fit": null,
            "object_position": null,
            "order": null,
            "overflow": null,
            "overflow_x": null,
            "overflow_y": null,
            "padding": null,
            "right": null,
            "top": null,
            "visibility": "hidden",
            "width": null
          }
        },
        "d03a4560a35b4851b64bc17ebecf8dc9": {
          "model_module": "@jupyter-widgets/base",
          "model_name": "LayoutModel",
          "model_module_version": "1.2.0",
          "state": {
            "_model_module": "@jupyter-widgets/base",
            "_model_module_version": "1.2.0",
            "_model_name": "LayoutModel",
            "_view_count": null,
            "_view_module": "@jupyter-widgets/base",
            "_view_module_version": "1.2.0",
            "_view_name": "LayoutView",
            "align_content": null,
            "align_items": null,
            "align_self": null,
            "border": null,
            "bottom": null,
            "display": null,
            "flex": null,
            "flex_flow": null,
            "grid_area": null,
            "grid_auto_columns": null,
            "grid_auto_flow": null,
            "grid_auto_rows": null,
            "grid_column": null,
            "grid_gap": null,
            "grid_row": null,
            "grid_template_areas": null,
            "grid_template_columns": null,
            "grid_template_rows": null,
            "height": null,
            "justify_content": null,
            "justify_items": null,
            "left": null,
            "margin": null,
            "max_height": null,
            "max_width": null,
            "min_height": null,
            "min_width": null,
            "object_fit": null,
            "object_position": null,
            "order": null,
            "overflow": null,
            "overflow_x": null,
            "overflow_y": null,
            "padding": null,
            "right": null,
            "top": null,
            "visibility": null,
            "width": null
          }
        },
        "8bdc1f618b8145248b27e5443cfb3917": {
          "model_module": "@jupyter-widgets/controls",
          "model_name": "DescriptionStyleModel",
          "model_module_version": "1.5.0",
          "state": {
            "_model_module": "@jupyter-widgets/controls",
            "_model_module_version": "1.5.0",
            "_model_name": "DescriptionStyleModel",
            "_view_count": null,
            "_view_module": "@jupyter-widgets/base",
            "_view_module_version": "1.2.0",
            "_view_name": "StyleView",
            "description_width": ""
          }
        },
        "911d8a42fcb946b59568f5a060ad08a5": {
          "model_module": "@jupyter-widgets/base",
          "model_name": "LayoutModel",
          "model_module_version": "1.2.0",
          "state": {
            "_model_module": "@jupyter-widgets/base",
            "_model_module_version": "1.2.0",
            "_model_name": "LayoutModel",
            "_view_count": null,
            "_view_module": "@jupyter-widgets/base",
            "_view_module_version": "1.2.0",
            "_view_name": "LayoutView",
            "align_content": null,
            "align_items": null,
            "align_self": null,
            "border": null,
            "bottom": null,
            "display": null,
            "flex": null,
            "flex_flow": null,
            "grid_area": null,
            "grid_auto_columns": null,
            "grid_auto_flow": null,
            "grid_auto_rows": null,
            "grid_column": null,
            "grid_gap": null,
            "grid_row": null,
            "grid_template_areas": null,
            "grid_template_columns": null,
            "grid_template_rows": null,
            "height": null,
            "justify_content": null,
            "justify_items": null,
            "left": null,
            "margin": null,
            "max_height": null,
            "max_width": null,
            "min_height": null,
            "min_width": null,
            "object_fit": null,
            "object_position": null,
            "order": null,
            "overflow": null,
            "overflow_x": null,
            "overflow_y": null,
            "padding": null,
            "right": null,
            "top": null,
            "visibility": null,
            "width": null
          }
        },
        "a70a956657714ff6885b1d65a2204cde": {
          "model_module": "@jupyter-widgets/controls",
          "model_name": "ProgressStyleModel",
          "model_module_version": "1.5.0",
          "state": {
            "_model_module": "@jupyter-widgets/controls",
            "_model_module_version": "1.5.0",
            "_model_name": "ProgressStyleModel",
            "_view_count": null,
            "_view_module": "@jupyter-widgets/base",
            "_view_module_version": "1.2.0",
            "_view_name": "StyleView",
            "bar_color": null,
            "description_width": ""
          }
        },
        "32f8ab3ee6ed48b4a47ff6a18acb69a5": {
          "model_module": "@jupyter-widgets/base",
          "model_name": "LayoutModel",
          "model_module_version": "1.2.0",
          "state": {
            "_model_module": "@jupyter-widgets/base",
            "_model_module_version": "1.2.0",
            "_model_name": "LayoutModel",
            "_view_count": null,
            "_view_module": "@jupyter-widgets/base",
            "_view_module_version": "1.2.0",
            "_view_name": "LayoutView",
            "align_content": null,
            "align_items": null,
            "align_self": null,
            "border": null,
            "bottom": null,
            "display": null,
            "flex": null,
            "flex_flow": null,
            "grid_area": null,
            "grid_auto_columns": null,
            "grid_auto_flow": null,
            "grid_auto_rows": null,
            "grid_column": null,
            "grid_gap": null,
            "grid_row": null,
            "grid_template_areas": null,
            "grid_template_columns": null,
            "grid_template_rows": null,
            "height": null,
            "justify_content": null,
            "justify_items": null,
            "left": null,
            "margin": null,
            "max_height": null,
            "max_width": null,
            "min_height": null,
            "min_width": null,
            "object_fit": null,
            "object_position": null,
            "order": null,
            "overflow": null,
            "overflow_x": null,
            "overflow_y": null,
            "padding": null,
            "right": null,
            "top": null,
            "visibility": null,
            "width": null
          }
        },
        "1f57ed49e24346b4a4e06b9d95e4a794": {
          "model_module": "@jupyter-widgets/controls",
          "model_name": "DescriptionStyleModel",
          "model_module_version": "1.5.0",
          "state": {
            "_model_module": "@jupyter-widgets/controls",
            "_model_module_version": "1.5.0",
            "_model_name": "DescriptionStyleModel",
            "_view_count": null,
            "_view_module": "@jupyter-widgets/base",
            "_view_module_version": "1.2.0",
            "_view_name": "StyleView",
            "description_width": ""
          }
        },
        "2d4046bc31594e33ac2dffefa92e8072": {
          "model_module": "@jupyter-widgets/controls",
          "model_name": "HBoxModel",
          "model_module_version": "1.5.0",
          "state": {
            "_dom_classes": [],
            "_model_module": "@jupyter-widgets/controls",
            "_model_module_version": "1.5.0",
            "_model_name": "HBoxModel",
            "_view_count": null,
            "_view_module": "@jupyter-widgets/controls",
            "_view_module_version": "1.5.0",
            "_view_name": "HBoxView",
            "box_style": "",
            "children": [
              "IPY_MODEL_7cf078144d634bd2897016c585595414",
              "IPY_MODEL_4910061d02974deeb041af88c2c6dce0",
              "IPY_MODEL_e18e335da11f43408a146ede5a756a9b"
            ],
            "layout": "IPY_MODEL_f5b62cc7929644d28f0bb6893a79af3d"
          }
        },
        "7cf078144d634bd2897016c585595414": {
          "model_module": "@jupyter-widgets/controls",
          "model_name": "HTMLModel",
          "model_module_version": "1.5.0",
          "state": {
            "_dom_classes": [],
            "_model_module": "@jupyter-widgets/controls",
            "_model_module_version": "1.5.0",
            "_model_name": "HTMLModel",
            "_view_count": null,
            "_view_module": "@jupyter-widgets/controls",
            "_view_module_version": "1.5.0",
            "_view_name": "HTMLView",
            "description": "",
            "description_tooltip": null,
            "layout": "IPY_MODEL_f3458bedc43142149e3352a9670c1146",
            "placeholder": "​",
            "style": "IPY_MODEL_a3e5ff2277b3434b92e5d7023c73f22e",
            "value": "Downloading model.safetensors: 100%"
          }
        },
        "4910061d02974deeb041af88c2c6dce0": {
          "model_module": "@jupyter-widgets/controls",
          "model_name": "FloatProgressModel",
          "model_module_version": "1.5.0",
          "state": {
            "_dom_classes": [],
            "_model_module": "@jupyter-widgets/controls",
            "_model_module_version": "1.5.0",
            "_model_name": "FloatProgressModel",
            "_view_count": null,
            "_view_module": "@jupyter-widgets/controls",
            "_view_module_version": "1.5.0",
            "_view_name": "ProgressView",
            "bar_style": "success",
            "description": "",
            "description_tooltip": null,
            "layout": "IPY_MODEL_05f093771a8e4962828eda4012c741bc",
            "max": 435755784,
            "min": 0,
            "orientation": "horizontal",
            "style": "IPY_MODEL_16431a21374c46c1bea2aed755c9ae9d",
            "value": 435755784
          }
        },
        "e18e335da11f43408a146ede5a756a9b": {
          "model_module": "@jupyter-widgets/controls",
          "model_name": "HTMLModel",
          "model_module_version": "1.5.0",
          "state": {
            "_dom_classes": [],
            "_model_module": "@jupyter-widgets/controls",
            "_model_module_version": "1.5.0",
            "_model_name": "HTMLModel",
            "_view_count": null,
            "_view_module": "@jupyter-widgets/controls",
            "_view_module_version": "1.5.0",
            "_view_name": "HTMLView",
            "description": "",
            "description_tooltip": null,
            "layout": "IPY_MODEL_2bc6aacc65e644ea85354d8a1b99b575",
            "placeholder": "​",
            "style": "IPY_MODEL_94ce22aaa5ce41a4bceaddbdd82553d7",
            "value": " 436M/436M [00:07&lt;00:00, 85.5MB/s]"
          }
        },
        "f5b62cc7929644d28f0bb6893a79af3d": {
          "model_module": "@jupyter-widgets/base",
          "model_name": "LayoutModel",
          "model_module_version": "1.2.0",
          "state": {
            "_model_module": "@jupyter-widgets/base",
            "_model_module_version": "1.2.0",
            "_model_name": "LayoutModel",
            "_view_count": null,
            "_view_module": "@jupyter-widgets/base",
            "_view_module_version": "1.2.0",
            "_view_name": "LayoutView",
            "align_content": null,
            "align_items": null,
            "align_self": null,
            "border": null,
            "bottom": null,
            "display": null,
            "flex": null,
            "flex_flow": null,
            "grid_area": null,
            "grid_auto_columns": null,
            "grid_auto_flow": null,
            "grid_auto_rows": null,
            "grid_column": null,
            "grid_gap": null,
            "grid_row": null,
            "grid_template_areas": null,
            "grid_template_columns": null,
            "grid_template_rows": null,
            "height": null,
            "justify_content": null,
            "justify_items": null,
            "left": null,
            "margin": null,
            "max_height": null,
            "max_width": null,
            "min_height": null,
            "min_width": null,
            "object_fit": null,
            "object_position": null,
            "order": null,
            "overflow": null,
            "overflow_x": null,
            "overflow_y": null,
            "padding": null,
            "right": null,
            "top": null,
            "visibility": null,
            "width": null
          }
        },
        "f3458bedc43142149e3352a9670c1146": {
          "model_module": "@jupyter-widgets/base",
          "model_name": "LayoutModel",
          "model_module_version": "1.2.0",
          "state": {
            "_model_module": "@jupyter-widgets/base",
            "_model_module_version": "1.2.0",
            "_model_name": "LayoutModel",
            "_view_count": null,
            "_view_module": "@jupyter-widgets/base",
            "_view_module_version": "1.2.0",
            "_view_name": "LayoutView",
            "align_content": null,
            "align_items": null,
            "align_self": null,
            "border": null,
            "bottom": null,
            "display": null,
            "flex": null,
            "flex_flow": null,
            "grid_area": null,
            "grid_auto_columns": null,
            "grid_auto_flow": null,
            "grid_auto_rows": null,
            "grid_column": null,
            "grid_gap": null,
            "grid_row": null,
            "grid_template_areas": null,
            "grid_template_columns": null,
            "grid_template_rows": null,
            "height": null,
            "justify_content": null,
            "justify_items": null,
            "left": null,
            "margin": null,
            "max_height": null,
            "max_width": null,
            "min_height": null,
            "min_width": null,
            "object_fit": null,
            "object_position": null,
            "order": null,
            "overflow": null,
            "overflow_x": null,
            "overflow_y": null,
            "padding": null,
            "right": null,
            "top": null,
            "visibility": null,
            "width": null
          }
        },
        "a3e5ff2277b3434b92e5d7023c73f22e": {
          "model_module": "@jupyter-widgets/controls",
          "model_name": "DescriptionStyleModel",
          "model_module_version": "1.5.0",
          "state": {
            "_model_module": "@jupyter-widgets/controls",
            "_model_module_version": "1.5.0",
            "_model_name": "DescriptionStyleModel",
            "_view_count": null,
            "_view_module": "@jupyter-widgets/base",
            "_view_module_version": "1.2.0",
            "_view_name": "StyleView",
            "description_width": ""
          }
        },
        "05f093771a8e4962828eda4012c741bc": {
          "model_module": "@jupyter-widgets/base",
          "model_name": "LayoutModel",
          "model_module_version": "1.2.0",
          "state": {
            "_model_module": "@jupyter-widgets/base",
            "_model_module_version": "1.2.0",
            "_model_name": "LayoutModel",
            "_view_count": null,
            "_view_module": "@jupyter-widgets/base",
            "_view_module_version": "1.2.0",
            "_view_name": "LayoutView",
            "align_content": null,
            "align_items": null,
            "align_self": null,
            "border": null,
            "bottom": null,
            "display": null,
            "flex": null,
            "flex_flow": null,
            "grid_area": null,
            "grid_auto_columns": null,
            "grid_auto_flow": null,
            "grid_auto_rows": null,
            "grid_column": null,
            "grid_gap": null,
            "grid_row": null,
            "grid_template_areas": null,
            "grid_template_columns": null,
            "grid_template_rows": null,
            "height": null,
            "justify_content": null,
            "justify_items": null,
            "left": null,
            "margin": null,
            "max_height": null,
            "max_width": null,
            "min_height": null,
            "min_width": null,
            "object_fit": null,
            "object_position": null,
            "order": null,
            "overflow": null,
            "overflow_x": null,
            "overflow_y": null,
            "padding": null,
            "right": null,
            "top": null,
            "visibility": null,
            "width": null
          }
        },
        "16431a21374c46c1bea2aed755c9ae9d": {
          "model_module": "@jupyter-widgets/controls",
          "model_name": "ProgressStyleModel",
          "model_module_version": "1.5.0",
          "state": {
            "_model_module": "@jupyter-widgets/controls",
            "_model_module_version": "1.5.0",
            "_model_name": "ProgressStyleModel",
            "_view_count": null,
            "_view_module": "@jupyter-widgets/base",
            "_view_module_version": "1.2.0",
            "_view_name": "StyleView",
            "bar_color": null,
            "description_width": ""
          }
        },
        "2bc6aacc65e644ea85354d8a1b99b575": {
          "model_module": "@jupyter-widgets/base",
          "model_name": "LayoutModel",
          "model_module_version": "1.2.0",
          "state": {
            "_model_module": "@jupyter-widgets/base",
            "_model_module_version": "1.2.0",
            "_model_name": "LayoutModel",
            "_view_count": null,
            "_view_module": "@jupyter-widgets/base",
            "_view_module_version": "1.2.0",
            "_view_name": "LayoutView",
            "align_content": null,
            "align_items": null,
            "align_self": null,
            "border": null,
            "bottom": null,
            "display": null,
            "flex": null,
            "flex_flow": null,
            "grid_area": null,
            "grid_auto_columns": null,
            "grid_auto_flow": null,
            "grid_auto_rows": null,
            "grid_column": null,
            "grid_gap": null,
            "grid_row": null,
            "grid_template_areas": null,
            "grid_template_columns": null,
            "grid_template_rows": null,
            "height": null,
            "justify_content": null,
            "justify_items": null,
            "left": null,
            "margin": null,
            "max_height": null,
            "max_width": null,
            "min_height": null,
            "min_width": null,
            "object_fit": null,
            "object_position": null,
            "order": null,
            "overflow": null,
            "overflow_x": null,
            "overflow_y": null,
            "padding": null,
            "right": null,
            "top": null,
            "visibility": null,
            "width": null
          }
        },
        "94ce22aaa5ce41a4bceaddbdd82553d7": {
          "model_module": "@jupyter-widgets/controls",
          "model_name": "DescriptionStyleModel",
          "model_module_version": "1.5.0",
          "state": {
            "_model_module": "@jupyter-widgets/controls",
            "_model_module_version": "1.5.0",
            "_model_name": "DescriptionStyleModel",
            "_view_count": null,
            "_view_module": "@jupyter-widgets/base",
            "_view_module_version": "1.2.0",
            "_view_name": "StyleView",
            "description_width": ""
          }
        },
        "7b765d9acf6d4146b3fd5482724b4499": {
          "model_module": "@jupyter-widgets/controls",
          "model_name": "HBoxModel",
          "model_module_version": "1.5.0",
          "state": {
            "_dom_classes": [],
            "_model_module": "@jupyter-widgets/controls",
            "_model_module_version": "1.5.0",
            "_model_name": "HBoxModel",
            "_view_count": null,
            "_view_module": "@jupyter-widgets/controls",
            "_view_module_version": "1.5.0",
            "_view_name": "HBoxView",
            "box_style": "",
            "children": [
              "IPY_MODEL_1b9c6740cc7b4a5292318dad85355702",
              "IPY_MODEL_1b0e9167327649949bf30c16a4713301",
              "IPY_MODEL_0d14f43923ec4ead9f629b3dd8ea3e7a"
            ],
            "layout": "IPY_MODEL_2b69df82ca9b4084b10f826d00e8d95c"
          }
        },
        "1b9c6740cc7b4a5292318dad85355702": {
          "model_module": "@jupyter-widgets/controls",
          "model_name": "HTMLModel",
          "model_module_version": "1.5.0",
          "state": {
            "_dom_classes": [],
            "_model_module": "@jupyter-widgets/controls",
            "_model_module_version": "1.5.0",
            "_model_name": "HTMLModel",
            "_view_count": null,
            "_view_module": "@jupyter-widgets/controls",
            "_view_module_version": "1.5.0",
            "_view_name": "HTMLView",
            "description": "",
            "description_tooltip": null,
            "layout": "IPY_MODEL_ea1ff7f18f114e4294fdb19cfdd4661f",
            "placeholder": "​",
            "style": "IPY_MODEL_8dff01d718eb465c964df26894fa729b",
            "value": "Downloading builder script: 100%"
          }
        },
        "1b0e9167327649949bf30c16a4713301": {
          "model_module": "@jupyter-widgets/controls",
          "model_name": "FloatProgressModel",
          "model_module_version": "1.5.0",
          "state": {
            "_dom_classes": [],
            "_model_module": "@jupyter-widgets/controls",
            "_model_module_version": "1.5.0",
            "_model_name": "FloatProgressModel",
            "_view_count": null,
            "_view_module": "@jupyter-widgets/controls",
            "_view_module_version": "1.5.0",
            "_view_name": "ProgressView",
            "bar_style": "success",
            "description": "",
            "description_tooltip": null,
            "layout": "IPY_MODEL_fc9b193f153c4b83bedb62b6633f48a8",
            "max": 4203,
            "min": 0,
            "orientation": "horizontal",
            "style": "IPY_MODEL_01282a21691d4112a71ea0a4319c3fa2",
            "value": 4203
          }
        },
        "0d14f43923ec4ead9f629b3dd8ea3e7a": {
          "model_module": "@jupyter-widgets/controls",
          "model_name": "HTMLModel",
          "model_module_version": "1.5.0",
          "state": {
            "_dom_classes": [],
            "_model_module": "@jupyter-widgets/controls",
            "_model_module_version": "1.5.0",
            "_model_name": "HTMLModel",
            "_view_count": null,
            "_view_module": "@jupyter-widgets/controls",
            "_view_module_version": "1.5.0",
            "_view_name": "HTMLView",
            "description": "",
            "description_tooltip": null,
            "layout": "IPY_MODEL_b900517343224d93ad6a5c99f61cd876",
            "placeholder": "​",
            "style": "IPY_MODEL_7923ebd0a96f4dd9aff30e783ae74f03",
            "value": " 4.20k/4.20k [00:00&lt;00:00, 85.4kB/s]"
          }
        },
        "2b69df82ca9b4084b10f826d00e8d95c": {
          "model_module": "@jupyter-widgets/base",
          "model_name": "LayoutModel",
          "model_module_version": "1.2.0",
          "state": {
            "_model_module": "@jupyter-widgets/base",
            "_model_module_version": "1.2.0",
            "_model_name": "LayoutModel",
            "_view_count": null,
            "_view_module": "@jupyter-widgets/base",
            "_view_module_version": "1.2.0",
            "_view_name": "LayoutView",
            "align_content": null,
            "align_items": null,
            "align_self": null,
            "border": null,
            "bottom": null,
            "display": null,
            "flex": null,
            "flex_flow": null,
            "grid_area": null,
            "grid_auto_columns": null,
            "grid_auto_flow": null,
            "grid_auto_rows": null,
            "grid_column": null,
            "grid_gap": null,
            "grid_row": null,
            "grid_template_areas": null,
            "grid_template_columns": null,
            "grid_template_rows": null,
            "height": null,
            "justify_content": null,
            "justify_items": null,
            "left": null,
            "margin": null,
            "max_height": null,
            "max_width": null,
            "min_height": null,
            "min_width": null,
            "object_fit": null,
            "object_position": null,
            "order": null,
            "overflow": null,
            "overflow_x": null,
            "overflow_y": null,
            "padding": null,
            "right": null,
            "top": null,
            "visibility": null,
            "width": null
          }
        },
        "ea1ff7f18f114e4294fdb19cfdd4661f": {
          "model_module": "@jupyter-widgets/base",
          "model_name": "LayoutModel",
          "model_module_version": "1.2.0",
          "state": {
            "_model_module": "@jupyter-widgets/base",
            "_model_module_version": "1.2.0",
            "_model_name": "LayoutModel",
            "_view_count": null,
            "_view_module": "@jupyter-widgets/base",
            "_view_module_version": "1.2.0",
            "_view_name": "LayoutView",
            "align_content": null,
            "align_items": null,
            "align_self": null,
            "border": null,
            "bottom": null,
            "display": null,
            "flex": null,
            "flex_flow": null,
            "grid_area": null,
            "grid_auto_columns": null,
            "grid_auto_flow": null,
            "grid_auto_rows": null,
            "grid_column": null,
            "grid_gap": null,
            "grid_row": null,
            "grid_template_areas": null,
            "grid_template_columns": null,
            "grid_template_rows": null,
            "height": null,
            "justify_content": null,
            "justify_items": null,
            "left": null,
            "margin": null,
            "max_height": null,
            "max_width": null,
            "min_height": null,
            "min_width": null,
            "object_fit": null,
            "object_position": null,
            "order": null,
            "overflow": null,
            "overflow_x": null,
            "overflow_y": null,
            "padding": null,
            "right": null,
            "top": null,
            "visibility": null,
            "width": null
          }
        },
        "8dff01d718eb465c964df26894fa729b": {
          "model_module": "@jupyter-widgets/controls",
          "model_name": "DescriptionStyleModel",
          "model_module_version": "1.5.0",
          "state": {
            "_model_module": "@jupyter-widgets/controls",
            "_model_module_version": "1.5.0",
            "_model_name": "DescriptionStyleModel",
            "_view_count": null,
            "_view_module": "@jupyter-widgets/base",
            "_view_module_version": "1.2.0",
            "_view_name": "StyleView",
            "description_width": ""
          }
        },
        "fc9b193f153c4b83bedb62b6633f48a8": {
          "model_module": "@jupyter-widgets/base",
          "model_name": "LayoutModel",
          "model_module_version": "1.2.0",
          "state": {
            "_model_module": "@jupyter-widgets/base",
            "_model_module_version": "1.2.0",
            "_model_name": "LayoutModel",
            "_view_count": null,
            "_view_module": "@jupyter-widgets/base",
            "_view_module_version": "1.2.0",
            "_view_name": "LayoutView",
            "align_content": null,
            "align_items": null,
            "align_self": null,
            "border": null,
            "bottom": null,
            "display": null,
            "flex": null,
            "flex_flow": null,
            "grid_area": null,
            "grid_auto_columns": null,
            "grid_auto_flow": null,
            "grid_auto_rows": null,
            "grid_column": null,
            "grid_gap": null,
            "grid_row": null,
            "grid_template_areas": null,
            "grid_template_columns": null,
            "grid_template_rows": null,
            "height": null,
            "justify_content": null,
            "justify_items": null,
            "left": null,
            "margin": null,
            "max_height": null,
            "max_width": null,
            "min_height": null,
            "min_width": null,
            "object_fit": null,
            "object_position": null,
            "order": null,
            "overflow": null,
            "overflow_x": null,
            "overflow_y": null,
            "padding": null,
            "right": null,
            "top": null,
            "visibility": null,
            "width": null
          }
        },
        "01282a21691d4112a71ea0a4319c3fa2": {
          "model_module": "@jupyter-widgets/controls",
          "model_name": "ProgressStyleModel",
          "model_module_version": "1.5.0",
          "state": {
            "_model_module": "@jupyter-widgets/controls",
            "_model_module_version": "1.5.0",
            "_model_name": "ProgressStyleModel",
            "_view_count": null,
            "_view_module": "@jupyter-widgets/base",
            "_view_module_version": "1.2.0",
            "_view_name": "StyleView",
            "bar_color": null,
            "description_width": ""
          }
        },
        "b900517343224d93ad6a5c99f61cd876": {
          "model_module": "@jupyter-widgets/base",
          "model_name": "LayoutModel",
          "model_module_version": "1.2.0",
          "state": {
            "_model_module": "@jupyter-widgets/base",
            "_model_module_version": "1.2.0",
            "_model_name": "LayoutModel",
            "_view_count": null,
            "_view_module": "@jupyter-widgets/base",
            "_view_module_version": "1.2.0",
            "_view_name": "LayoutView",
            "align_content": null,
            "align_items": null,
            "align_self": null,
            "border": null,
            "bottom": null,
            "display": null,
            "flex": null,
            "flex_flow": null,
            "grid_area": null,
            "grid_auto_columns": null,
            "grid_auto_flow": null,
            "grid_auto_rows": null,
            "grid_column": null,
            "grid_gap": null,
            "grid_row": null,
            "grid_template_areas": null,
            "grid_template_columns": null,
            "grid_template_rows": null,
            "height": null,
            "justify_content": null,
            "justify_items": null,
            "left": null,
            "margin": null,
            "max_height": null,
            "max_width": null,
            "min_height": null,
            "min_width": null,
            "object_fit": null,
            "object_position": null,
            "order": null,
            "overflow": null,
            "overflow_x": null,
            "overflow_y": null,
            "padding": null,
            "right": null,
            "top": null,
            "visibility": null,
            "width": null
          }
        },
        "7923ebd0a96f4dd9aff30e783ae74f03": {
          "model_module": "@jupyter-widgets/controls",
          "model_name": "DescriptionStyleModel",
          "model_module_version": "1.5.0",
          "state": {
            "_model_module": "@jupyter-widgets/controls",
            "_model_module_version": "1.5.0",
            "_model_name": "DescriptionStyleModel",
            "_view_count": null,
            "_view_module": "@jupyter-widgets/base",
            "_view_module_version": "1.2.0",
            "_view_name": "StyleView",
            "description_width": ""
          }
        }
      }
    }
  },
  "cells": [
    {
      "cell_type": "markdown",
      "metadata": {
        "id": "view-in-github",
        "colab_type": "text"
      },
      "source": [
        "<a href=\"https://colab.research.google.com/github/flaviohds/MVP_Machine_Learning/blob/main/MVP_machine_learning2.ipynb\" target=\"_parent\"><img src=\"https://colab.research.google.com/assets/colab-badge.svg\" alt=\"Open In Colab\"/></a>"
      ]
    },
    {
      "cell_type": "markdown",
      "source": [
        "Tempo aproximado de execução do notebook: 5 minutos.\n",
        "\n",
        "---\n",
        "---\n",
        "---\n"
      ],
      "metadata": {
        "id": "qdoOK-dEcZEP"
      }
    },
    {
      "cell_type": "markdown",
      "source": [
        "MVP feito para a *sprint* de **Machine Learning & Analytics** do MBA em **Ciencia de Dados e Analytics** pela PUC-rio\n",
        "*   Autor: **Flávio Horsth De Seta**.\n",
        "*   Projeto disponível em https://github.com/flaviohds/MVP_Machine_Learning .\n",
        "\n",
        "Este MVP contém dois projetos indiretamente relacionados.\n",
        "\n",
        "O primeiro projeto é um problema de previsão de série temporal e será resolvido com modelos clássicos de machine learning. O segundo problema é de processamento de linguagem natural e será resolvido com um modelo de deep learning.\n",
        "\n",
        "Link para o notebook principal: [parte 1+parte 2](https://colab.research.google.com/drive/1qiKffNoR0W031-O7yry6P6eq3ExayouP?usp=sharing)"
      ],
      "metadata": {
        "id": "6QNwYc2Tw1wz"
      }
    },
    {
      "cell_type": "code",
      "source": [
        "# CÉLULA PARA DECIDIR SE O MODELO SERÁ TREINADO OU IMPORTADO\n",
        "\n",
        "##############################################################\n",
        "# MUDE \"TRAIN_MODEL\" PARA 1 CASO DESEJE RETREINAR O MODELO\n",
        "\n",
        "TRAIN_MODEL = 0\n",
        "\n",
        "# TEMPO ESTIMADO PARA RETREINAR O MODELO COM 128, 240: 6 HORAS\n",
        "##############################################################\n",
        "\n",
        "batch_size = 128\n",
        "steps = 240"
      ],
      "metadata": {
        "id": "WyxlJcgwQYOo"
      },
      "execution_count": 2,
      "outputs": []
    },
    {
      "cell_type": "markdown",
      "source": [
        "## Preparando o ambiente"
      ],
      "metadata": {
        "id": "31O4rJF4YMEl"
      }
    },
    {
      "cell_type": "code",
      "execution_count": 3,
      "metadata": {
        "id": "U0NKETJNyryo",
        "colab": {
          "base_uri": "https://localhost:8080/"
        },
        "outputId": "5f2aca62-52b4-46fe-bcc4-3f3553e444e9"
      },
      "outputs": [
        {
          "output_type": "stream",
          "name": "stdout",
          "text": [
            "\u001b[2K     \u001b[90m━━━━━━━━━━━━━━━━━━━━━━━━━━━━━━━━━━━━━━━━\u001b[0m \u001b[32m7.4/7.4 MB\u001b[0m \u001b[31m14.4 MB/s\u001b[0m eta \u001b[36m0:00:00\u001b[0m\n",
            "\u001b[2K     \u001b[90m━━━━━━━━━━━━━━━━━━━━━━━━━━━━━━━━━━━━━━\u001b[0m \u001b[32m268.8/268.8 kB\u001b[0m \u001b[31m21.9 MB/s\u001b[0m eta \u001b[36m0:00:00\u001b[0m\n",
            "\u001b[2K     \u001b[90m━━━━━━━━━━━━━━━━━━━━━━━━━━━━━━━━━━━━━━━━\u001b[0m \u001b[32m7.8/7.8 MB\u001b[0m \u001b[31m36.8 MB/s\u001b[0m eta \u001b[36m0:00:00\u001b[0m\n",
            "\u001b[2K     \u001b[90m━━━━━━━━━━━━━━━━━━━━━━━━━━━━━━━━━━━━━━━━\u001b[0m \u001b[32m1.3/1.3 MB\u001b[0m \u001b[31m40.8 MB/s\u001b[0m eta \u001b[36m0:00:00\u001b[0m\n",
            "\u001b[2K     \u001b[90m━━━━━━━━━━━━━━━━━━━━━━━━━━━━━━━━━━━━━━\u001b[0m \u001b[32m244.2/244.2 kB\u001b[0m \u001b[31m21.7 MB/s\u001b[0m eta \u001b[36m0:00:00\u001b[0m\n",
            "\u001b[2K     \u001b[90m━━━━━━━━━━━━━━━━━━━━━━━━━━━━━━━━━━━━━━━\u001b[0m \u001b[32m486.2/486.2 kB\u001b[0m \u001b[31m4.9 MB/s\u001b[0m eta \u001b[36m0:00:00\u001b[0m\n",
            "\u001b[2K     \u001b[90m━━━━━━━━━━━━━━━━━━━━━━━━━━━━━━━━━━━━━━━\u001b[0m \u001b[32m110.5/110.5 kB\u001b[0m \u001b[31m5.9 MB/s\u001b[0m eta \u001b[36m0:00:00\u001b[0m\n",
            "\u001b[2K     \u001b[90m━━━━━━━━━━━━━━━━━━━━━━━━━━━━━━━━━━━━━━━\u001b[0m \u001b[32m212.5/212.5 kB\u001b[0m \u001b[31m6.9 MB/s\u001b[0m eta \u001b[36m0:00:00\u001b[0m\n",
            "\u001b[2K     \u001b[90m━━━━━━━━━━━━━━━━━━━━━━━━━━━━━━━━━━━━━━━\u001b[0m \u001b[32m134.3/134.3 kB\u001b[0m \u001b[31m7.3 MB/s\u001b[0m eta \u001b[36m0:00:00\u001b[0m\n",
            "\u001b[2K     \u001b[90m━━━━━━━━━━━━━━━━━━━━━━━━━━━━━━━━━━━━━━━━\u001b[0m \u001b[32m81.4/81.4 kB\u001b[0m \u001b[31m1.8 MB/s\u001b[0m eta \u001b[36m0:00:00\u001b[0m\n",
            "\u001b[?25h"
          ]
        }
      ],
      "source": [
        "# Instalando dependências\n",
        "! pip install transformers[torch] -q\n",
        "! pip install datasets -q\n",
        "! pip install evaluate -q"
      ]
    },
    {
      "cell_type": "code",
      "source": [
        "# BIBLIOTECA                                          # FOI UTILIZADO PARA\n",
        "# bibliotecas da parte 2:\n",
        "import pandas as pd                                   # manipular dataframes\n",
        "import matplotlib.pyplot as plt                       # confecção de gráficos\n",
        "import seaborn as sns                                 # confecção de gráficos\n",
        "import numpy as np                                    # acessar e funções matemáticas\n",
        "\n",
        "import gdown                                          # baixar arquivos do google drive\n",
        "import os                                             # manipular o diretório do ambiente\n",
        "import zipfile                                        # manipular arquivos compactados\n",
        "import evaluate                                       # acessar métria de acurácia\n",
        "\n",
        "from sklearn.metrics import confusion_matrix          # gerar matriz de confusão\n",
        "from sklearn.metrics import classification_report     # gerar métricas de classificação\n",
        "from collections import Counter                       # contar valores numa lista\n",
        "from datasets import load_dataset, Dataset            # classe de dataset do HuggingFace\n",
        "from transformers import AutoModelForSequenceClassification, AutoTokenizer # modelo e tokenizador do HuggingFace\n",
        "from transformers import Trainer, TrainingArguments   # treinador e argumentos do HuggingFace"
      ],
      "metadata": {
        "id": "zWecEunF9HPk"
      },
      "execution_count": 46,
      "outputs": []
    },
    {
      "cell_type": "code",
      "source": [
        "sns.set_theme()                                       # estilizar os gráficos\n",
        "seed = 33                                             # reprodutibilidade do notebook\n",
        "np.random.seed(seed)                                  # reprodutibilidade do notebook\n",
        "pd.set_option('display.precision', 3)                 # facilidade de leitura do dataframe"
      ],
      "metadata": {
        "id": "ms0ASkl_cUji"
      },
      "execution_count": 5,
      "outputs": []
    },
    {
      "cell_type": "markdown",
      "source": [
        "---\n",
        "# <center> Parte 2: Processamento de linguagem natural com Deep Learning\n",
        "---"
      ],
      "metadata": {
        "id": "NMzjQnZCw-zO"
      }
    },
    {
      "cell_type": "markdown",
      "source": [
        "## 2.1 Introdução"
      ],
      "metadata": {
        "id": "4hQnRlHyZNmi"
      }
    },
    {
      "cell_type": "markdown",
      "source": [
        "Em um mundo cada vez mais digital, a quantidade de dados gerado e o interesse de empresas nesses dados cresce exponencialmente. Considerando essa constante mudança, é natural as empresas não terem capacidade de analisar e realizar previsões bem fundamentadas, pelo menos não tão rápido quanto elas gostariam. É nessa necessidade que se encaixa o machine learning.\n",
        "\n",
        "Em problemas comuns com dados estruturados o machine learning clássico é capaz de realizar previsões muito boas. Porém, em problemas com dados não estruturados e matematicamente complexos, uma regressão linear ou árvore de decisão simples não é capaz de obter resultados satisfatórios. O problema de processamento de linguagem natural (NLP) é um desses casos em que os algoritmos de machine learning clássico têm dificuldade. Com o avanço da área de redes neurais, nascem os algoritmos de deep learning, que se mostram cada vez mais capazes de tratar de problemas de NLP. Porém, esse tipo de algoritmo apresenta um grande problema. Frente à complexidade do algoritmo e seu grande número de variáveis a serem ajustadas, é necessária uma grande quantidade de dados.\n",
        "\n",
        "O problema em si não é a quantidade de dados, já que o mundo digital gera mais dados do que se é capaz de armazenar, mas sim a necessidade de rotular esses dados. Considerando o volume de dados necessário para o treinamento de uma rede de deep learning, a tarefar de rotular milhares de frases passa a ser muito custosa. Surge então a ideia de reduzir este problema utilizando dados rotulados pelos próprios usuários em reviews de produtos para treinamento."
      ],
      "metadata": {
        "id": "bcPkp_p0593q"
      }
    },
    {
      "cell_type": "markdown",
      "source": [
        "---\n",
        "\n",
        "## 2.2 Descrição do problema"
      ],
      "metadata": {
        "id": "I7ossOjmhOr6"
      }
    },
    {
      "cell_type": "markdown",
      "source": [
        "Este MVP utilizará uma base de reviews de produtos para treinar um modelo que seja capaz de prever a nota dada para o produto baseado no texto do review. Além disso, no final do projeto este modelo será testado para dar uma nota para tweets simulados que falem sobre o desempenho dos produtos e satisfação do consumidor. Ou seja, o objetivo do projeto é realizar um breve estudo da capacidade de transferência de tarefa de prever notas de um review para análise de sentimento de tweets, desde que dentro do mesmo escopo de satisfação de um cliente com um produto. A ideia é apresentar uma possível solução para o problema de falta de rótulos enfrentado por empresas de varejo ao monitorar reações do público em redes sociais.\n",
        "\n",
        "O modelo não será treinado do zero. Considerando a quantidade de dados necessária para um modelo de NLP aprender a relação de cada palavra existente em uma língua, foi escolhido pegar o modelo base do [Google BERT](https://huggingface.co/bert-base-cased). Porém, será realizado um treinamento de fine-tuning em cima do dataset de reviews. Toda a vez que for mencionado \"treinamento\" ou \"treino\" neste notebook, estará se referindo ao treinamento de fine-tunning que será realizado na seção 2.5, enquanto o treinamento do zero (feito pelo grupo google, [que utilizou mais de 800 milhões de palavras](https://www.analyticssteps.com/blogs/history-importance-and-use-cases-bert-model#:~:text=The%20first%20version%20of%20the,of%20these%20models%20are%20enormous!)) do BERT será referido como pré-treinamento.\n",
        "\n",
        "O [dataset utilizado](https://huggingface.co/datasets/amazon_reviews_multi) contém informações sobre reviews de produtos da amazon. Os reviews se apresentam em 6 possíveis línguas e 31 possíveis categorias de produto. Afim de relacionar as duas partes do MVP, o dataset será filtrado apenas para reviews na língua inglesa e de categorias parecidas com as presentes na primeira parte.\n",
        "\n",
        "Os atributos do dataset são:\n",
        "\n",
        "- **review_id**: identificador do review (string)\n",
        "- **product_id**: identificador do produto (string)\n",
        "- **reviewer_id**: identificador do consumidor (string)\n",
        "- **stars**: nota dada pelo consumidor para o produto (inteiro, discreto, 1-5)\n",
        "- **review_body**: o corpo do review (string)\n",
        "- **review_title**: o título do review (string)\n",
        "- **language**: sigla da língua em que o review se encontra (string)\n",
        "- **product_category**: categoria do produto do review (string)"
      ],
      "metadata": {
        "id": "giDRsAYahTAi"
      }
    },
    {
      "cell_type": "markdown",
      "source": [
        "---\n",
        "\n",
        "## 2.3 Filtragem prévia do dataset e breve análise dos dados"
      ],
      "metadata": {
        "id": "y0qMA2QvsOZn"
      }
    },
    {
      "cell_type": "markdown",
      "source": [
        "O [dataset](https://huggingface.co/datasets/amazon_reviews_multi) foi carregado e filtrado em um [notebook separado](https://colab.research.google.com/drive/1vJ9PfVA9-vChhwNRTBpqmyQU0SCnlWIZ?usp=sharing), afim de reduzir o tempo de execução deste notebook principal. No notebook de filtragem, foram aproveitados apenas os reviews em inglês de produtos que se encaixavam nas categorias vistas no [primeiro MVP](https://colab.research.google.com/drive/18IbiSGZq93gUoOOAWgPGpZfT-E8HHNPz?usp=sharing) e explicitadas na primeira parte deste notebook (eletrônicos, mobília e material de escritório). As categorias do dataset da amazon utilizadas foram: home, wireless, home_improvement, pc, electronics, office_product, furniture, camera, video_games e watch."
      ],
      "metadata": {
        "id": "ugA31AVZdWT5"
      }
    },
    {
      "cell_type": "markdown",
      "source": [
        "Os datasets de treino, validação e teste foram salvos e podem ser encontrados no [github do MVP](https://github.com/flaviohds/MVP_Machine_Learning) com os nomes de NLP_df_train.csv, NLP_df_validation.csv e NLP_df_test.csv, respectivamente.\n",
        "\n",
        "Começa-se carregando os dados filtrados."
      ],
      "metadata": {
        "id": "qdeE8BEul1mJ"
      }
    },
    {
      "cell_type": "code",
      "source": [
        "# Os dataframes serão organizados em um dicionário\n",
        "df_raw = {}\n",
        "\n",
        "# Carregando os dataframes do github do projeto\n",
        "base_url = 'https://raw.githubusercontent.com/flaviohds/MVP_Machine_Learning/main/'\n",
        "df_raw['train'] = pd.read_csv(base_url+'NLP_df_train.csv', index_col=0)\n",
        "df_raw['validation'] = pd.read_csv(base_url+'NLP_df_validation.csv', index_col=0)\n",
        "df_raw['test'] = pd.read_csv(base_url+'NLP_df_test.csv', index_col=0)"
      ],
      "metadata": {
        "id": "ufB6hTnax7w6"
      },
      "execution_count": 6,
      "outputs": []
    },
    {
      "cell_type": "markdown",
      "source": [
        "Agora que carregamos os datasets, podemos começar a verificar a organização dos nossos dados."
      ],
      "metadata": {
        "id": "byPiOdFSotjB"
      }
    },
    {
      "cell_type": "code",
      "source": [
        "# Verificando o número de observações em cada partição\n",
        "print('observações de treino: ', df_raw['train'].shape[0])\n",
        "print('observações de validação: ', df_raw['validation'].shape[0])\n",
        "print('observações de teste: ', df_raw['test'].shape[0])"
      ],
      "metadata": {
        "id": "jspNH2NjbMEE",
        "colab": {
          "base_uri": "https://localhost:8080/"
        },
        "outputId": "4e2e5979-c617-4c6d-dcee-f01aa9da10cf"
      },
      "execution_count": 7,
      "outputs": [
        {
          "output_type": "stream",
          "name": "stdout",
          "text": [
            "observações de treino:  65299\n",
            "observações de validação:  1560\n",
            "observações de teste:  1603\n"
          ]
        }
      ]
    },
    {
      "cell_type": "markdown",
      "source": [
        "Nota-se um número muito grande de reviews no dataset de treino. Provavelmente não será possível utilizar todo o dataset no treinamento.\n",
        "\n",
        "Será interessante ver o dataframe de treino como um todo e verificar se temos linhas duplicadas ou valores nulos."
      ],
      "metadata": {
        "id": "krqU9Te32GUC"
      }
    },
    {
      "cell_type": "code",
      "source": [
        "df_raw['train']"
      ],
      "metadata": {
        "id": "ezjVBDBvbMB_",
        "colab": {
          "base_uri": "https://localhost:8080/",
          "height": 424
        },
        "outputId": "9746da82-0af1-4a5e-8484-55a4be2e0484"
      },
      "execution_count": 8,
      "outputs": [
        {
          "output_type": "execute_result",
          "data": {
            "text/plain": [
              "        review_id          product_id          reviewer_id  stars  \\\n",
              "0      en_0964290  product_en_0740675  reviewer_en_0342986      1   \n",
              "1      en_0690095  product_en_0440378  reviewer_en_0133349      1   \n",
              "2      en_0311558  product_en_0399702  reviewer_en_0152034      1   \n",
              "3      en_0044972  product_en_0444063  reviewer_en_0656967      1   \n",
              "4      en_0784379  product_en_0139353  reviewer_en_0757638      1   \n",
              "...           ...                 ...                  ...    ...   \n",
              "65294  en_0689115  product_en_0879422  reviewer_en_0482175      5   \n",
              "65295  en_0982040  product_en_0640040  reviewer_en_0210391      5   \n",
              "65296  en_0297888  product_en_0125756  reviewer_en_0645859      5   \n",
              "65297  en_0589358  product_en_0402982  reviewer_en_0199163      5   \n",
              "65298  en_0750030  product_en_0843981  reviewer_en_0775729      5   \n",
              "\n",
              "                                             review_body  \\\n",
              "0      Arrived broken. Manufacturer defect. Two of th...   \n",
              "1      the cabinet dot were all detached from backing...   \n",
              "2      I received my first order of this product and ...   \n",
              "3      This product is a piece of shit. Do not buy. D...   \n",
              "4      went through 3 in one day doesn't fit correct ...   \n",
              "...                                                  ...   \n",
              "65294  I loved this doorbell. Worked very well in our...   \n",
              "65295        The colors are bright and fits the bed nice   \n",
              "65296  Love this! Put this on the wall above my bed a...   \n",
              "65297       Replaced my battery with it. Works like new.   \n",
              "65298  Very good for my village lights are bright I l...   \n",
              "\n",
              "                                            review_title language  \\\n",
              "0      I'll spend twice the amount of time boxing up ...       en   \n",
              "1                                           Not use able       en   \n",
              "2                                   The product is junk.       en   \n",
              "3                                 Fucking waste of money       en   \n",
              "4                                                 bubble       en   \n",
              "...                                                  ...      ...   \n",
              "65294                              I loved this doorbell       en   \n",
              "65295                                                 Hi       en   \n",
              "65296                                         Five Stars       en   \n",
              "65297                                         This works       en   \n",
              "65298  Very good for my village lights are bright I l...       en   \n",
              "\n",
              "       product_category  \n",
              "0             furniture  \n",
              "1      home_improvement  \n",
              "2                  home  \n",
              "3              wireless  \n",
              "4                    pc  \n",
              "...                 ...  \n",
              "65294  home_improvement  \n",
              "65295              home  \n",
              "65296              home  \n",
              "65297          wireless  \n",
              "65298              home  \n",
              "\n",
              "[65299 rows x 8 columns]"
            ],
            "text/html": [
              "\n",
              "\n",
              "  <div id=\"df-c5a73a61-9368-4928-9ea4-021616328170\">\n",
              "    <div class=\"colab-df-container\">\n",
              "      <div>\n",
              "<style scoped>\n",
              "    .dataframe tbody tr th:only-of-type {\n",
              "        vertical-align: middle;\n",
              "    }\n",
              "\n",
              "    .dataframe tbody tr th {\n",
              "        vertical-align: top;\n",
              "    }\n",
              "\n",
              "    .dataframe thead th {\n",
              "        text-align: right;\n",
              "    }\n",
              "</style>\n",
              "<table border=\"1\" class=\"dataframe\">\n",
              "  <thead>\n",
              "    <tr style=\"text-align: right;\">\n",
              "      <th></th>\n",
              "      <th>review_id</th>\n",
              "      <th>product_id</th>\n",
              "      <th>reviewer_id</th>\n",
              "      <th>stars</th>\n",
              "      <th>review_body</th>\n",
              "      <th>review_title</th>\n",
              "      <th>language</th>\n",
              "      <th>product_category</th>\n",
              "    </tr>\n",
              "  </thead>\n",
              "  <tbody>\n",
              "    <tr>\n",
              "      <th>0</th>\n",
              "      <td>en_0964290</td>\n",
              "      <td>product_en_0740675</td>\n",
              "      <td>reviewer_en_0342986</td>\n",
              "      <td>1</td>\n",
              "      <td>Arrived broken. Manufacturer defect. Two of th...</td>\n",
              "      <td>I'll spend twice the amount of time boxing up ...</td>\n",
              "      <td>en</td>\n",
              "      <td>furniture</td>\n",
              "    </tr>\n",
              "    <tr>\n",
              "      <th>1</th>\n",
              "      <td>en_0690095</td>\n",
              "      <td>product_en_0440378</td>\n",
              "      <td>reviewer_en_0133349</td>\n",
              "      <td>1</td>\n",
              "      <td>the cabinet dot were all detached from backing...</td>\n",
              "      <td>Not use able</td>\n",
              "      <td>en</td>\n",
              "      <td>home_improvement</td>\n",
              "    </tr>\n",
              "    <tr>\n",
              "      <th>2</th>\n",
              "      <td>en_0311558</td>\n",
              "      <td>product_en_0399702</td>\n",
              "      <td>reviewer_en_0152034</td>\n",
              "      <td>1</td>\n",
              "      <td>I received my first order of this product and ...</td>\n",
              "      <td>The product is junk.</td>\n",
              "      <td>en</td>\n",
              "      <td>home</td>\n",
              "    </tr>\n",
              "    <tr>\n",
              "      <th>3</th>\n",
              "      <td>en_0044972</td>\n",
              "      <td>product_en_0444063</td>\n",
              "      <td>reviewer_en_0656967</td>\n",
              "      <td>1</td>\n",
              "      <td>This product is a piece of shit. Do not buy. D...</td>\n",
              "      <td>Fucking waste of money</td>\n",
              "      <td>en</td>\n",
              "      <td>wireless</td>\n",
              "    </tr>\n",
              "    <tr>\n",
              "      <th>4</th>\n",
              "      <td>en_0784379</td>\n",
              "      <td>product_en_0139353</td>\n",
              "      <td>reviewer_en_0757638</td>\n",
              "      <td>1</td>\n",
              "      <td>went through 3 in one day doesn't fit correct ...</td>\n",
              "      <td>bubble</td>\n",
              "      <td>en</td>\n",
              "      <td>pc</td>\n",
              "    </tr>\n",
              "    <tr>\n",
              "      <th>...</th>\n",
              "      <td>...</td>\n",
              "      <td>...</td>\n",
              "      <td>...</td>\n",
              "      <td>...</td>\n",
              "      <td>...</td>\n",
              "      <td>...</td>\n",
              "      <td>...</td>\n",
              "      <td>...</td>\n",
              "    </tr>\n",
              "    <tr>\n",
              "      <th>65294</th>\n",
              "      <td>en_0689115</td>\n",
              "      <td>product_en_0879422</td>\n",
              "      <td>reviewer_en_0482175</td>\n",
              "      <td>5</td>\n",
              "      <td>I loved this doorbell. Worked very well in our...</td>\n",
              "      <td>I loved this doorbell</td>\n",
              "      <td>en</td>\n",
              "      <td>home_improvement</td>\n",
              "    </tr>\n",
              "    <tr>\n",
              "      <th>65295</th>\n",
              "      <td>en_0982040</td>\n",
              "      <td>product_en_0640040</td>\n",
              "      <td>reviewer_en_0210391</td>\n",
              "      <td>5</td>\n",
              "      <td>The colors are bright and fits the bed nice</td>\n",
              "      <td>Hi</td>\n",
              "      <td>en</td>\n",
              "      <td>home</td>\n",
              "    </tr>\n",
              "    <tr>\n",
              "      <th>65296</th>\n",
              "      <td>en_0297888</td>\n",
              "      <td>product_en_0125756</td>\n",
              "      <td>reviewer_en_0645859</td>\n",
              "      <td>5</td>\n",
              "      <td>Love this! Put this on the wall above my bed a...</td>\n",
              "      <td>Five Stars</td>\n",
              "      <td>en</td>\n",
              "      <td>home</td>\n",
              "    </tr>\n",
              "    <tr>\n",
              "      <th>65297</th>\n",
              "      <td>en_0589358</td>\n",
              "      <td>product_en_0402982</td>\n",
              "      <td>reviewer_en_0199163</td>\n",
              "      <td>5</td>\n",
              "      <td>Replaced my battery with it. Works like new.</td>\n",
              "      <td>This works</td>\n",
              "      <td>en</td>\n",
              "      <td>wireless</td>\n",
              "    </tr>\n",
              "    <tr>\n",
              "      <th>65298</th>\n",
              "      <td>en_0750030</td>\n",
              "      <td>product_en_0843981</td>\n",
              "      <td>reviewer_en_0775729</td>\n",
              "      <td>5</td>\n",
              "      <td>Very good for my village lights are bright I l...</td>\n",
              "      <td>Very good for my village lights are bright I l...</td>\n",
              "      <td>en</td>\n",
              "      <td>home</td>\n",
              "    </tr>\n",
              "  </tbody>\n",
              "</table>\n",
              "<p>65299 rows × 8 columns</p>\n",
              "</div>\n",
              "      <button class=\"colab-df-convert\" onclick=\"convertToInteractive('df-c5a73a61-9368-4928-9ea4-021616328170')\"\n",
              "              title=\"Convert this dataframe to an interactive table.\"\n",
              "              style=\"display:none;\">\n",
              "\n",
              "  <svg xmlns=\"http://www.w3.org/2000/svg\" height=\"24px\"viewBox=\"0 0 24 24\"\n",
              "       width=\"24px\">\n",
              "    <path d=\"M0 0h24v24H0V0z\" fill=\"none\"/>\n",
              "    <path d=\"M18.56 5.44l.94 2.06.94-2.06 2.06-.94-2.06-.94-.94-2.06-.94 2.06-2.06.94zm-11 1L8.5 8.5l.94-2.06 2.06-.94-2.06-.94L8.5 2.5l-.94 2.06-2.06.94zm10 10l.94 2.06.94-2.06 2.06-.94-2.06-.94-.94-2.06-.94 2.06-2.06.94z\"/><path d=\"M17.41 7.96l-1.37-1.37c-.4-.4-.92-.59-1.43-.59-.52 0-1.04.2-1.43.59L10.3 9.45l-7.72 7.72c-.78.78-.78 2.05 0 2.83L4 21.41c.39.39.9.59 1.41.59.51 0 1.02-.2 1.41-.59l7.78-7.78 2.81-2.81c.8-.78.8-2.07 0-2.86zM5.41 20L4 18.59l7.72-7.72 1.47 1.35L5.41 20z\"/>\n",
              "  </svg>\n",
              "      </button>\n",
              "\n",
              "\n",
              "\n",
              "    <div id=\"df-d85c0590-1b68-460c-a082-c0c59c38f6f5\">\n",
              "      <button class=\"colab-df-quickchart\" onclick=\"quickchart('df-d85c0590-1b68-460c-a082-c0c59c38f6f5')\"\n",
              "              title=\"Suggest charts.\"\n",
              "              style=\"display:none;\">\n",
              "\n",
              "<svg xmlns=\"http://www.w3.org/2000/svg\" height=\"24px\"viewBox=\"0 0 24 24\"\n",
              "     width=\"24px\">\n",
              "    <g>\n",
              "        <path d=\"M19 3H5c-1.1 0-2 .9-2 2v14c0 1.1.9 2 2 2h14c1.1 0 2-.9 2-2V5c0-1.1-.9-2-2-2zM9 17H7v-7h2v7zm4 0h-2V7h2v10zm4 0h-2v-4h2v4z\"/>\n",
              "    </g>\n",
              "</svg>\n",
              "      </button>\n",
              "    </div>\n",
              "\n",
              "<style>\n",
              "  .colab-df-quickchart {\n",
              "    background-color: #E8F0FE;\n",
              "    border: none;\n",
              "    border-radius: 50%;\n",
              "    cursor: pointer;\n",
              "    display: none;\n",
              "    fill: #1967D2;\n",
              "    height: 32px;\n",
              "    padding: 0 0 0 0;\n",
              "    width: 32px;\n",
              "  }\n",
              "\n",
              "  .colab-df-quickchart:hover {\n",
              "    background-color: #E2EBFA;\n",
              "    box-shadow: 0px 1px 2px rgba(60, 64, 67, 0.3), 0px 1px 3px 1px rgba(60, 64, 67, 0.15);\n",
              "    fill: #174EA6;\n",
              "  }\n",
              "\n",
              "  [theme=dark] .colab-df-quickchart {\n",
              "    background-color: #3B4455;\n",
              "    fill: #D2E3FC;\n",
              "  }\n",
              "\n",
              "  [theme=dark] .colab-df-quickchart:hover {\n",
              "    background-color: #434B5C;\n",
              "    box-shadow: 0px 1px 3px 1px rgba(0, 0, 0, 0.15);\n",
              "    filter: drop-shadow(0px 1px 2px rgba(0, 0, 0, 0.3));\n",
              "    fill: #FFFFFF;\n",
              "  }\n",
              "</style>\n",
              "\n",
              "    <script>\n",
              "      async function quickchart(key) {\n",
              "        const containerElement = document.querySelector('#' + key);\n",
              "        const charts = await google.colab.kernel.invokeFunction(\n",
              "            'suggestCharts', [key], {});\n",
              "      }\n",
              "    </script>\n",
              "\n",
              "      <script>\n",
              "\n",
              "function displayQuickchartButton(domScope) {\n",
              "  let quickchartButtonEl =\n",
              "    domScope.querySelector('#df-d85c0590-1b68-460c-a082-c0c59c38f6f5 button.colab-df-quickchart');\n",
              "  quickchartButtonEl.style.display =\n",
              "    google.colab.kernel.accessAllowed ? 'block' : 'none';\n",
              "}\n",
              "\n",
              "        displayQuickchartButton(document);\n",
              "      </script>\n",
              "      <style>\n",
              "    .colab-df-container {\n",
              "      display:flex;\n",
              "      flex-wrap:wrap;\n",
              "      gap: 12px;\n",
              "    }\n",
              "\n",
              "    .colab-df-convert {\n",
              "      background-color: #E8F0FE;\n",
              "      border: none;\n",
              "      border-radius: 50%;\n",
              "      cursor: pointer;\n",
              "      display: none;\n",
              "      fill: #1967D2;\n",
              "      height: 32px;\n",
              "      padding: 0 0 0 0;\n",
              "      width: 32px;\n",
              "    }\n",
              "\n",
              "    .colab-df-convert:hover {\n",
              "      background-color: #E2EBFA;\n",
              "      box-shadow: 0px 1px 2px rgba(60, 64, 67, 0.3), 0px 1px 3px 1px rgba(60, 64, 67, 0.15);\n",
              "      fill: #174EA6;\n",
              "    }\n",
              "\n",
              "    [theme=dark] .colab-df-convert {\n",
              "      background-color: #3B4455;\n",
              "      fill: #D2E3FC;\n",
              "    }\n",
              "\n",
              "    [theme=dark] .colab-df-convert:hover {\n",
              "      background-color: #434B5C;\n",
              "      box-shadow: 0px 1px 3px 1px rgba(0, 0, 0, 0.15);\n",
              "      filter: drop-shadow(0px 1px 2px rgba(0, 0, 0, 0.3));\n",
              "      fill: #FFFFFF;\n",
              "    }\n",
              "  </style>\n",
              "\n",
              "      <script>\n",
              "        const buttonEl =\n",
              "          document.querySelector('#df-c5a73a61-9368-4928-9ea4-021616328170 button.colab-df-convert');\n",
              "        buttonEl.style.display =\n",
              "          google.colab.kernel.accessAllowed ? 'block' : 'none';\n",
              "\n",
              "        async function convertToInteractive(key) {\n",
              "          const element = document.querySelector('#df-c5a73a61-9368-4928-9ea4-021616328170');\n",
              "          const dataTable =\n",
              "            await google.colab.kernel.invokeFunction('convertToInteractive',\n",
              "                                                     [key], {});\n",
              "          if (!dataTable) return;\n",
              "\n",
              "          const docLinkHtml = 'Like what you see? Visit the ' +\n",
              "            '<a target=\"_blank\" href=https://colab.research.google.com/notebooks/data_table.ipynb>data table notebook</a>'\n",
              "            + ' to learn more about interactive tables.';\n",
              "          element.innerHTML = '';\n",
              "          dataTable['output_type'] = 'display_data';\n",
              "          await google.colab.output.renderOutput(dataTable, element);\n",
              "          const docLink = document.createElement('div');\n",
              "          docLink.innerHTML = docLinkHtml;\n",
              "          element.appendChild(docLink);\n",
              "        }\n",
              "      </script>\n",
              "    </div>\n",
              "  </div>\n"
            ]
          },
          "metadata": {},
          "execution_count": 8
        }
      ]
    },
    {
      "cell_type": "markdown",
      "source": [
        "Temos diversos atributos que seriam úteis em uma análise mais profunda dos dados. Porém, para o objetivo desse projeto, utilizaremos apenas os atributos de corpo do review e o atributo alvo de estrelas dadas pelo usuário."
      ],
      "metadata": {
        "id": "QHImn-fduVxB"
      }
    },
    {
      "cell_type": "code",
      "source": [
        "# Verificando linhas duplicadas\n",
        "df_raw['train'].duplicated().value_counts()"
      ],
      "metadata": {
        "colab": {
          "base_uri": "https://localhost:8080/"
        },
        "id": "JcDlRqZwmuAE",
        "outputId": "1836a946-c6f0-45cf-ef6e-8a4eef2b6edc"
      },
      "execution_count": 9,
      "outputs": [
        {
          "output_type": "execute_result",
          "data": {
            "text/plain": [
              "False    65299\n",
              "dtype: int64"
            ]
          },
          "metadata": {},
          "execution_count": 9
        }
      ]
    },
    {
      "cell_type": "markdown",
      "source": [
        "Nenhuma linha duplicada encontrada."
      ],
      "metadata": {
        "id": "lIMgSImvufRY"
      }
    },
    {
      "cell_type": "code",
      "source": [
        "# Verificando valores nulos e retornando a linha onde se encontram\n",
        "df_raw['train'][df_raw['train'].isnull().any(axis=1)]"
      ],
      "metadata": {
        "colab": {
          "base_uri": "https://localhost:8080/",
          "height": 394
        },
        "id": "y86DijK1KqnR",
        "outputId": "9e83d401-b4c6-401d-c15c-dc4025a6c503"
      },
      "execution_count": 10,
      "outputs": [
        {
          "output_type": "execute_result",
          "data": {
            "text/plain": [
              "        review_id          product_id          reviewer_id  stars  \\\n",
              "1356   en_0584273  product_en_0593276  reviewer_en_0270470      1   \n",
              "13097  en_0363452  product_en_0991504  reviewer_en_0350541      1   \n",
              "17416  en_0684361  product_en_0827066  reviewer_en_0375788      2   \n",
              "23897  en_0342117  product_en_0720417  reviewer_en_0712502      2   \n",
              "29828  en_0678684  product_en_0531413  reviewer_en_0033052      3   \n",
              "37658  en_0216864  product_en_0116972  reviewer_en_0323091      3   \n",
              "52642  en_0958193  product_en_0927553  reviewer_en_0358321      5   \n",
              "52827  en_0523164  product_en_0595195  reviewer_en_0533312      5   \n",
              "55867  en_0441023  product_en_0580596  reviewer_en_0108372      5   \n",
              "60003  en_0978799  product_en_0138960  reviewer_en_0354304      5   \n",
              "61186  en_0535854  product_en_0106506  reviewer_en_0772876      5   \n",
              "\n",
              "                                             review_body review_title  \\\n",
              "1356                      I never received your product.          NaN   \n",
              "13097  Garbage!!!!!! Do not buy!!!!!! Very bad recept...          NaN   \n",
              "17416        They r nice but they don’t stay in the ears          NaN   \n",
              "23897  Nice modern farmhouse touch to decor. Color is...          NaN   \n",
              "29828  Easy to assemble just be aware that when screw...          NaN   \n",
              "37658  I don't have a review for this product as I ha...          NaN   \n",
              "52642  Watch band and case works great, mine cracked ...          NaN   \n",
              "52827                      It was very nice!! Loving it!          NaN   \n",
              "55867           My husband love this cover for his ipad,          NaN   \n",
              "60003                           Very Happy with purchase          NaN   \n",
              "61186  Fit perfectly for older model facuet. Cannot f...          NaN   \n",
              "\n",
              "      language  product_category  \n",
              "1356        en            camera  \n",
              "13097       en       electronics  \n",
              "17416       en          wireless  \n",
              "23897       en         furniture  \n",
              "29828       en         furniture  \n",
              "37658       en       video_games  \n",
              "52642       en          wireless  \n",
              "52827       en          wireless  \n",
              "55867       en                pc  \n",
              "60003       en          wireless  \n",
              "61186       en  home_improvement  "
            ],
            "text/html": [
              "\n",
              "\n",
              "  <div id=\"df-c46b54fa-3e5e-42d8-be86-56704f8614de\">\n",
              "    <div class=\"colab-df-container\">\n",
              "      <div>\n",
              "<style scoped>\n",
              "    .dataframe tbody tr th:only-of-type {\n",
              "        vertical-align: middle;\n",
              "    }\n",
              "\n",
              "    .dataframe tbody tr th {\n",
              "        vertical-align: top;\n",
              "    }\n",
              "\n",
              "    .dataframe thead th {\n",
              "        text-align: right;\n",
              "    }\n",
              "</style>\n",
              "<table border=\"1\" class=\"dataframe\">\n",
              "  <thead>\n",
              "    <tr style=\"text-align: right;\">\n",
              "      <th></th>\n",
              "      <th>review_id</th>\n",
              "      <th>product_id</th>\n",
              "      <th>reviewer_id</th>\n",
              "      <th>stars</th>\n",
              "      <th>review_body</th>\n",
              "      <th>review_title</th>\n",
              "      <th>language</th>\n",
              "      <th>product_category</th>\n",
              "    </tr>\n",
              "  </thead>\n",
              "  <tbody>\n",
              "    <tr>\n",
              "      <th>1356</th>\n",
              "      <td>en_0584273</td>\n",
              "      <td>product_en_0593276</td>\n",
              "      <td>reviewer_en_0270470</td>\n",
              "      <td>1</td>\n",
              "      <td>I never received your product.</td>\n",
              "      <td>NaN</td>\n",
              "      <td>en</td>\n",
              "      <td>camera</td>\n",
              "    </tr>\n",
              "    <tr>\n",
              "      <th>13097</th>\n",
              "      <td>en_0363452</td>\n",
              "      <td>product_en_0991504</td>\n",
              "      <td>reviewer_en_0350541</td>\n",
              "      <td>1</td>\n",
              "      <td>Garbage!!!!!! Do not buy!!!!!! Very bad recept...</td>\n",
              "      <td>NaN</td>\n",
              "      <td>en</td>\n",
              "      <td>electronics</td>\n",
              "    </tr>\n",
              "    <tr>\n",
              "      <th>17416</th>\n",
              "      <td>en_0684361</td>\n",
              "      <td>product_en_0827066</td>\n",
              "      <td>reviewer_en_0375788</td>\n",
              "      <td>2</td>\n",
              "      <td>They r nice but they don’t stay in the ears</td>\n",
              "      <td>NaN</td>\n",
              "      <td>en</td>\n",
              "      <td>wireless</td>\n",
              "    </tr>\n",
              "    <tr>\n",
              "      <th>23897</th>\n",
              "      <td>en_0342117</td>\n",
              "      <td>product_en_0720417</td>\n",
              "      <td>reviewer_en_0712502</td>\n",
              "      <td>2</td>\n",
              "      <td>Nice modern farmhouse touch to decor. Color is...</td>\n",
              "      <td>NaN</td>\n",
              "      <td>en</td>\n",
              "      <td>furniture</td>\n",
              "    </tr>\n",
              "    <tr>\n",
              "      <th>29828</th>\n",
              "      <td>en_0678684</td>\n",
              "      <td>product_en_0531413</td>\n",
              "      <td>reviewer_en_0033052</td>\n",
              "      <td>3</td>\n",
              "      <td>Easy to assemble just be aware that when screw...</td>\n",
              "      <td>NaN</td>\n",
              "      <td>en</td>\n",
              "      <td>furniture</td>\n",
              "    </tr>\n",
              "    <tr>\n",
              "      <th>37658</th>\n",
              "      <td>en_0216864</td>\n",
              "      <td>product_en_0116972</td>\n",
              "      <td>reviewer_en_0323091</td>\n",
              "      <td>3</td>\n",
              "      <td>I don't have a review for this product as I ha...</td>\n",
              "      <td>NaN</td>\n",
              "      <td>en</td>\n",
              "      <td>video_games</td>\n",
              "    </tr>\n",
              "    <tr>\n",
              "      <th>52642</th>\n",
              "      <td>en_0958193</td>\n",
              "      <td>product_en_0927553</td>\n",
              "      <td>reviewer_en_0358321</td>\n",
              "      <td>5</td>\n",
              "      <td>Watch band and case works great, mine cracked ...</td>\n",
              "      <td>NaN</td>\n",
              "      <td>en</td>\n",
              "      <td>wireless</td>\n",
              "    </tr>\n",
              "    <tr>\n",
              "      <th>52827</th>\n",
              "      <td>en_0523164</td>\n",
              "      <td>product_en_0595195</td>\n",
              "      <td>reviewer_en_0533312</td>\n",
              "      <td>5</td>\n",
              "      <td>It was very nice!! Loving it!</td>\n",
              "      <td>NaN</td>\n",
              "      <td>en</td>\n",
              "      <td>wireless</td>\n",
              "    </tr>\n",
              "    <tr>\n",
              "      <th>55867</th>\n",
              "      <td>en_0441023</td>\n",
              "      <td>product_en_0580596</td>\n",
              "      <td>reviewer_en_0108372</td>\n",
              "      <td>5</td>\n",
              "      <td>My husband love this cover for his ipad,</td>\n",
              "      <td>NaN</td>\n",
              "      <td>en</td>\n",
              "      <td>pc</td>\n",
              "    </tr>\n",
              "    <tr>\n",
              "      <th>60003</th>\n",
              "      <td>en_0978799</td>\n",
              "      <td>product_en_0138960</td>\n",
              "      <td>reviewer_en_0354304</td>\n",
              "      <td>5</td>\n",
              "      <td>Very Happy with purchase</td>\n",
              "      <td>NaN</td>\n",
              "      <td>en</td>\n",
              "      <td>wireless</td>\n",
              "    </tr>\n",
              "    <tr>\n",
              "      <th>61186</th>\n",
              "      <td>en_0535854</td>\n",
              "      <td>product_en_0106506</td>\n",
              "      <td>reviewer_en_0772876</td>\n",
              "      <td>5</td>\n",
              "      <td>Fit perfectly for older model facuet. Cannot f...</td>\n",
              "      <td>NaN</td>\n",
              "      <td>en</td>\n",
              "      <td>home_improvement</td>\n",
              "    </tr>\n",
              "  </tbody>\n",
              "</table>\n",
              "</div>\n",
              "      <button class=\"colab-df-convert\" onclick=\"convertToInteractive('df-c46b54fa-3e5e-42d8-be86-56704f8614de')\"\n",
              "              title=\"Convert this dataframe to an interactive table.\"\n",
              "              style=\"display:none;\">\n",
              "\n",
              "  <svg xmlns=\"http://www.w3.org/2000/svg\" height=\"24px\"viewBox=\"0 0 24 24\"\n",
              "       width=\"24px\">\n",
              "    <path d=\"M0 0h24v24H0V0z\" fill=\"none\"/>\n",
              "    <path d=\"M18.56 5.44l.94 2.06.94-2.06 2.06-.94-2.06-.94-.94-2.06-.94 2.06-2.06.94zm-11 1L8.5 8.5l.94-2.06 2.06-.94-2.06-.94L8.5 2.5l-.94 2.06-2.06.94zm10 10l.94 2.06.94-2.06 2.06-.94-2.06-.94-.94-2.06-.94 2.06-2.06.94z\"/><path d=\"M17.41 7.96l-1.37-1.37c-.4-.4-.92-.59-1.43-.59-.52 0-1.04.2-1.43.59L10.3 9.45l-7.72 7.72c-.78.78-.78 2.05 0 2.83L4 21.41c.39.39.9.59 1.41.59.51 0 1.02-.2 1.41-.59l7.78-7.78 2.81-2.81c.8-.78.8-2.07 0-2.86zM5.41 20L4 18.59l7.72-7.72 1.47 1.35L5.41 20z\"/>\n",
              "  </svg>\n",
              "      </button>\n",
              "\n",
              "\n",
              "\n",
              "    <div id=\"df-9ff0559a-3b0e-4e8d-817c-ac0d5e1e6fb3\">\n",
              "      <button class=\"colab-df-quickchart\" onclick=\"quickchart('df-9ff0559a-3b0e-4e8d-817c-ac0d5e1e6fb3')\"\n",
              "              title=\"Suggest charts.\"\n",
              "              style=\"display:none;\">\n",
              "\n",
              "<svg xmlns=\"http://www.w3.org/2000/svg\" height=\"24px\"viewBox=\"0 0 24 24\"\n",
              "     width=\"24px\">\n",
              "    <g>\n",
              "        <path d=\"M19 3H5c-1.1 0-2 .9-2 2v14c0 1.1.9 2 2 2h14c1.1 0 2-.9 2-2V5c0-1.1-.9-2-2-2zM9 17H7v-7h2v7zm4 0h-2V7h2v10zm4 0h-2v-4h2v4z\"/>\n",
              "    </g>\n",
              "</svg>\n",
              "      </button>\n",
              "    </div>\n",
              "\n",
              "<style>\n",
              "  .colab-df-quickchart {\n",
              "    background-color: #E8F0FE;\n",
              "    border: none;\n",
              "    border-radius: 50%;\n",
              "    cursor: pointer;\n",
              "    display: none;\n",
              "    fill: #1967D2;\n",
              "    height: 32px;\n",
              "    padding: 0 0 0 0;\n",
              "    width: 32px;\n",
              "  }\n",
              "\n",
              "  .colab-df-quickchart:hover {\n",
              "    background-color: #E2EBFA;\n",
              "    box-shadow: 0px 1px 2px rgba(60, 64, 67, 0.3), 0px 1px 3px 1px rgba(60, 64, 67, 0.15);\n",
              "    fill: #174EA6;\n",
              "  }\n",
              "\n",
              "  [theme=dark] .colab-df-quickchart {\n",
              "    background-color: #3B4455;\n",
              "    fill: #D2E3FC;\n",
              "  }\n",
              "\n",
              "  [theme=dark] .colab-df-quickchart:hover {\n",
              "    background-color: #434B5C;\n",
              "    box-shadow: 0px 1px 3px 1px rgba(0, 0, 0, 0.15);\n",
              "    filter: drop-shadow(0px 1px 2px rgba(0, 0, 0, 0.3));\n",
              "    fill: #FFFFFF;\n",
              "  }\n",
              "</style>\n",
              "\n",
              "    <script>\n",
              "      async function quickchart(key) {\n",
              "        const containerElement = document.querySelector('#' + key);\n",
              "        const charts = await google.colab.kernel.invokeFunction(\n",
              "            'suggestCharts', [key], {});\n",
              "      }\n",
              "    </script>\n",
              "\n",
              "      <script>\n",
              "\n",
              "function displayQuickchartButton(domScope) {\n",
              "  let quickchartButtonEl =\n",
              "    domScope.querySelector('#df-9ff0559a-3b0e-4e8d-817c-ac0d5e1e6fb3 button.colab-df-quickchart');\n",
              "  quickchartButtonEl.style.display =\n",
              "    google.colab.kernel.accessAllowed ? 'block' : 'none';\n",
              "}\n",
              "\n",
              "        displayQuickchartButton(document);\n",
              "      </script>\n",
              "      <style>\n",
              "    .colab-df-container {\n",
              "      display:flex;\n",
              "      flex-wrap:wrap;\n",
              "      gap: 12px;\n",
              "    }\n",
              "\n",
              "    .colab-df-convert {\n",
              "      background-color: #E8F0FE;\n",
              "      border: none;\n",
              "      border-radius: 50%;\n",
              "      cursor: pointer;\n",
              "      display: none;\n",
              "      fill: #1967D2;\n",
              "      height: 32px;\n",
              "      padding: 0 0 0 0;\n",
              "      width: 32px;\n",
              "    }\n",
              "\n",
              "    .colab-df-convert:hover {\n",
              "      background-color: #E2EBFA;\n",
              "      box-shadow: 0px 1px 2px rgba(60, 64, 67, 0.3), 0px 1px 3px 1px rgba(60, 64, 67, 0.15);\n",
              "      fill: #174EA6;\n",
              "    }\n",
              "\n",
              "    [theme=dark] .colab-df-convert {\n",
              "      background-color: #3B4455;\n",
              "      fill: #D2E3FC;\n",
              "    }\n",
              "\n",
              "    [theme=dark] .colab-df-convert:hover {\n",
              "      background-color: #434B5C;\n",
              "      box-shadow: 0px 1px 3px 1px rgba(0, 0, 0, 0.15);\n",
              "      filter: drop-shadow(0px 1px 2px rgba(0, 0, 0, 0.3));\n",
              "      fill: #FFFFFF;\n",
              "    }\n",
              "  </style>\n",
              "\n",
              "      <script>\n",
              "        const buttonEl =\n",
              "          document.querySelector('#df-c46b54fa-3e5e-42d8-be86-56704f8614de button.colab-df-convert');\n",
              "        buttonEl.style.display =\n",
              "          google.colab.kernel.accessAllowed ? 'block' : 'none';\n",
              "\n",
              "        async function convertToInteractive(key) {\n",
              "          const element = document.querySelector('#df-c46b54fa-3e5e-42d8-be86-56704f8614de');\n",
              "          const dataTable =\n",
              "            await google.colab.kernel.invokeFunction('convertToInteractive',\n",
              "                                                     [key], {});\n",
              "          if (!dataTable) return;\n",
              "\n",
              "          const docLinkHtml = 'Like what you see? Visit the ' +\n",
              "            '<a target=\"_blank\" href=https://colab.research.google.com/notebooks/data_table.ipynb>data table notebook</a>'\n",
              "            + ' to learn more about interactive tables.';\n",
              "          element.innerHTML = '';\n",
              "          dataTable['output_type'] = 'display_data';\n",
              "          await google.colab.output.renderOutput(dataTable, element);\n",
              "          const docLink = document.createElement('div');\n",
              "          docLink.innerHTML = docLinkHtml;\n",
              "          element.appendChild(docLink);\n",
              "        }\n",
              "      </script>\n",
              "    </div>\n",
              "  </div>\n"
            ]
          },
          "metadata": {},
          "execution_count": 10
        }
      ]
    },
    {
      "cell_type": "markdown",
      "source": [
        "Os únicos valores nulos encontrados foram na coluna de título do review. Como temos muitas observações, seria válido remover essas linhas. Porém, como não utilizaremos esta coluna para treinamento do modelo, podemos ignorar esses valores nulos."
      ],
      "metadata": {
        "id": "ZViGfz6ruktt"
      }
    },
    {
      "cell_type": "markdown",
      "source": [
        "Também é importante conferir se o notebook de filtragem retirou todas as línguas e tipos de produtos indesejados."
      ],
      "metadata": {
        "id": "ZGQUdtdEciWl"
      }
    },
    {
      "cell_type": "code",
      "source": [
        "df_raw['train'].language.value_counts()"
      ],
      "metadata": {
        "colab": {
          "base_uri": "https://localhost:8080/"
        },
        "id": "eGemykU2hmi_",
        "outputId": "4c551636-c3ea-40bc-8f60-22236fb35f43"
      },
      "execution_count": 11,
      "outputs": [
        {
          "output_type": "execute_result",
          "data": {
            "text/plain": [
              "en    65299\n",
              "Name: language, dtype: int64"
            ]
          },
          "metadata": {},
          "execution_count": 11
        }
      ]
    },
    {
      "cell_type": "code",
      "source": [
        "df_raw['train'].product_category.value_counts()"
      ],
      "metadata": {
        "colab": {
          "base_uri": "https://localhost:8080/"
        },
        "id": "5QjO9DqpbLxU",
        "outputId": "a7c818a0-f611-41ff-b500-1e1a066cf28f"
      },
      "execution_count": 12,
      "outputs": [
        {
          "output_type": "execute_result",
          "data": {
            "text/plain": [
              "home                17679\n",
              "wireless            15717\n",
              "home_improvement     7136\n",
              "pc                   6401\n",
              "electronics          6186\n",
              "office_product       5521\n",
              "furniture            2984\n",
              "camera               2139\n",
              "video_games           775\n",
              "watch                 761\n",
              "Name: product_category, dtype: int64"
            ]
          },
          "metadata": {},
          "execution_count": 12
        }
      ]
    },
    {
      "cell_type": "markdown",
      "source": [
        "Aparentemente, os dados estão de acordo com o esperado."
      ],
      "metadata": {
        "id": "XDnMKkTniFS6"
      }
    },
    {
      "cell_type": "markdown",
      "source": [
        "É importante lembrar que, apesar de o dataset originário estar balanceado, realizamos alguns filtros, o que pode causar desbalanceamento do dataset em relação ao atributo alvo 'stars'."
      ],
      "metadata": {
        "id": "xpM-65FUiPnp"
      }
    },
    {
      "cell_type": "code",
      "source": [
        "df_raw['train'].stars.value_counts(sort=False)"
      ],
      "metadata": {
        "id": "wYEpS2Uvhl6z",
        "colab": {
          "base_uri": "https://localhost:8080/"
        },
        "outputId": "14ed3989-115d-4058-c6a2-aeb5d9c14d0d"
      },
      "execution_count": 13,
      "outputs": [
        {
          "output_type": "execute_result",
          "data": {
            "text/plain": [
              "1    14418\n",
              "2    13561\n",
              "3    12370\n",
              "4    12117\n",
              "5    12833\n",
              "Name: stars, dtype: int64"
            ]
          },
          "metadata": {},
          "execution_count": 13
        }
      ]
    },
    {
      "cell_type": "markdown",
      "source": [
        "Temos um leve desbalanceamento. Trataremos isso na próxima seção."
      ],
      "metadata": {
        "id": "cYGvo6kMim7C"
      }
    },
    {
      "cell_type": "markdown",
      "source": [
        "Para finalizar a análise, será interessante verificar o tamanho dos diferentes corpos de review."
      ],
      "metadata": {
        "id": "4-jUrX-FGGGU"
      }
    },
    {
      "cell_type": "code",
      "source": [
        "# Matriz de partição X número de palavras em cada observação\n",
        "number_words_matrix = []\n",
        "\n",
        "for key in df_raw.keys():\n",
        "  # Guarda o tamanho de cada observação em uma lista e armazena na matriz\n",
        "  number_words_list = [len(x.split()) for x in df_raw[key].review_body.to_list()]\n",
        "  number_words_matrix.append(number_words_list)"
      ],
      "metadata": {
        "id": "_eisACJWH8W9"
      },
      "execution_count": 14,
      "outputs": []
    },
    {
      "cell_type": "code",
      "source": [
        "fig, ax1 = plt.subplots(figsize=(10, 6))\n",
        "\n",
        "ax1.boxplot(number_words_matrix)\n",
        "ax1.set(\n",
        "        title='Boxplot do número de palavras',\n",
        "        xlabel='Partição',\n",
        "        ylabel='Número de palavras',\n",
        "        )\n",
        "ax1.set_xticklabels(['treino','validação','teste'])\n",
        "plt.show()"
      ],
      "metadata": {
        "colab": {
          "base_uri": "https://localhost:8080/",
          "height": 573
        },
        "id": "k57F0e46JDOj",
        "outputId": "c2f59fea-d5e5-421a-e681-130606be65f8"
      },
      "execution_count": 15,
      "outputs": [
        {
          "output_type": "display_data",
          "data": {
            "text/plain": [
              "<Figure size 1000x600 with 1 Axes>"
            ],
            "image/png": "[encoded data removed]"
          },
          "metadata": {}
        }
      ]
    },
    {
      "cell_type": "markdown",
      "source": [
        "Nota-se que existe uma grande variação no número de palavras em cada review, variando de menos de 10 até mais de 600. Essa variação pode causar problemas para o modelo, já que ele precisa lidar com vetores de tamanho 'fixo'. Além disso, é fácil de se imaginar que após certo número de palavras, o sentimento expresso por cada frase acaba se repetindo, fazendo com que pouco informação nova seja adicionada por frases no final do review."
      ],
      "metadata": {
        "id": "453AzZMhKvKA"
      }
    },
    {
      "cell_type": "markdown",
      "source": [
        "---\n",
        "\n",
        "## 2.4 Pré-processamento"
      ],
      "metadata": {
        "id": "bXlI7zptxex3"
      }
    },
    {
      "cell_type": "markdown",
      "source": [
        "Nesta seção trataremos os dados em relação aos problemas vistos até agora e em especificidades que o modelo utilizado requer."
      ],
      "metadata": {
        "id": "8_pP0poVlEP-"
      }
    },
    {
      "cell_type": "markdown",
      "source": [
        "### Ajuste dos atributos relevantes"
      ],
      "metadata": {
        "id": "nU1LDZ2SC_GW"
      }
    },
    {
      "cell_type": "markdown",
      "source": [
        "Primeiramente, removeremos os atributos que não serão utilizados pelo modelo. Os únicos atributos que necessitamos são o número de estrelas dadas pelo usuário e o texto do review do produto.\n",
        "\n",
        "Além disso, aproveitaremos para fazer duas mudanças necessárias para o modelo. A primeira é a modificação da nossa variável alvo de 1 a 5, para 0 a 4. A segunda modificação é a alteração dos nomes das colunas para 'text' e 'label'.\n",
        "\n",
        "Todas essas mudanças serão realizadas nos dataframes de treino, validação e teste."
      ],
      "metadata": {
        "id": "PtNNR1pnlK_W"
      }
    },
    {
      "cell_type": "code",
      "source": [
        "df = {}\n",
        "for key in df_raw.keys():\n",
        "  # É necessário criar uma cópia por conta do funcionamento interno das\n",
        "  # variáveis no pandas/python. As mudanças serão feitas nessa cópia afim\n",
        "  # de manter uma versão do dataframe original.\n",
        "  df[key] = df_raw[key].copy()\n",
        "  df[key] = df[key].drop(['review_id','product_id','reviewer_id','review_title',\n",
        "                          'language','product_category'], axis=1)\n",
        "  df[key].stars.replace({1: 0, 2: 1, 3: 2, 4: 3, 5: 4}, inplace=True)\n",
        "  df[key].rename(columns={'stars': 'label', 'review_body': 'text'}, inplace=True)"
      ],
      "metadata": {
        "id": "p4h51JvThbZR"
      },
      "execution_count": 16,
      "outputs": []
    },
    {
      "cell_type": "markdown",
      "source": [
        "Visualizando o dataframe de treino resultante:"
      ],
      "metadata": {
        "id": "KcY6fiWInmlm"
      }
    },
    {
      "cell_type": "code",
      "source": [
        "df['train']"
      ],
      "metadata": {
        "colab": {
          "base_uri": "https://localhost:8080/",
          "height": 424
        },
        "id": "UJD8MYCqvNHH",
        "outputId": "76954e97-3708-4dfd-f39e-f6999f764847"
      },
      "execution_count": 17,
      "outputs": [
        {
          "output_type": "execute_result",
          "data": {
            "text/plain": [
              "       label                                               text\n",
              "0          0  Arrived broken. Manufacturer defect. Two of th...\n",
              "1          0  the cabinet dot were all detached from backing...\n",
              "2          0  I received my first order of this product and ...\n",
              "3          0  This product is a piece of shit. Do not buy. D...\n",
              "4          0  went through 3 in one day doesn't fit correct ...\n",
              "...      ...                                                ...\n",
              "65294      4  I loved this doorbell. Worked very well in our...\n",
              "65295      4        The colors are bright and fits the bed nice\n",
              "65296      4  Love this! Put this on the wall above my bed a...\n",
              "65297      4       Replaced my battery with it. Works like new.\n",
              "65298      4  Very good for my village lights are bright I l...\n",
              "\n",
              "[65299 rows x 2 columns]"
            ],
            "text/html": [
              "\n",
              "\n",
              "  <div id=\"df-f45dbc31-3c4d-40d6-95ef-17bbdec9f5c9\">\n",
              "    <div class=\"colab-df-container\">\n",
              "      <div>\n",
              "<style scoped>\n",
              "    .dataframe tbody tr th:only-of-type {\n",
              "        vertical-align: middle;\n",
              "    }\n",
              "\n",
              "    .dataframe tbody tr th {\n",
              "        vertical-align: top;\n",
              "    }\n",
              "\n",
              "    .dataframe thead th {\n",
              "        text-align: right;\n",
              "    }\n",
              "</style>\n",
              "<table border=\"1\" class=\"dataframe\">\n",
              "  <thead>\n",
              "    <tr style=\"text-align: right;\">\n",
              "      <th></th>\n",
              "      <th>label</th>\n",
              "      <th>text</th>\n",
              "    </tr>\n",
              "  </thead>\n",
              "  <tbody>\n",
              "    <tr>\n",
              "      <th>0</th>\n",
              "      <td>0</td>\n",
              "      <td>Arrived broken. Manufacturer defect. Two of th...</td>\n",
              "    </tr>\n",
              "    <tr>\n",
              "      <th>1</th>\n",
              "      <td>0</td>\n",
              "      <td>the cabinet dot were all detached from backing...</td>\n",
              "    </tr>\n",
              "    <tr>\n",
              "      <th>2</th>\n",
              "      <td>0</td>\n",
              "      <td>I received my first order of this product and ...</td>\n",
              "    </tr>\n",
              "    <tr>\n",
              "      <th>3</th>\n",
              "      <td>0</td>\n",
              "      <td>This product is a piece of shit. Do not buy. D...</td>\n",
              "    </tr>\n",
              "    <tr>\n",
              "      <th>4</th>\n",
              "      <td>0</td>\n",
              "      <td>went through 3 in one day doesn't fit correct ...</td>\n",
              "    </tr>\n",
              "    <tr>\n",
              "      <th>...</th>\n",
              "      <td>...</td>\n",
              "      <td>...</td>\n",
              "    </tr>\n",
              "    <tr>\n",
              "      <th>65294</th>\n",
              "      <td>4</td>\n",
              "      <td>I loved this doorbell. Worked very well in our...</td>\n",
              "    </tr>\n",
              "    <tr>\n",
              "      <th>65295</th>\n",
              "      <td>4</td>\n",
              "      <td>The colors are bright and fits the bed nice</td>\n",
              "    </tr>\n",
              "    <tr>\n",
              "      <th>65296</th>\n",
              "      <td>4</td>\n",
              "      <td>Love this! Put this on the wall above my bed a...</td>\n",
              "    </tr>\n",
              "    <tr>\n",
              "      <th>65297</th>\n",
              "      <td>4</td>\n",
              "      <td>Replaced my battery with it. Works like new.</td>\n",
              "    </tr>\n",
              "    <tr>\n",
              "      <th>65298</th>\n",
              "      <td>4</td>\n",
              "      <td>Very good for my village lights are bright I l...</td>\n",
              "    </tr>\n",
              "  </tbody>\n",
              "</table>\n",
              "<p>65299 rows × 2 columns</p>\n",
              "</div>\n",
              "      <button class=\"colab-df-convert\" onclick=\"convertToInteractive('df-f45dbc31-3c4d-40d6-95ef-17bbdec9f5c9')\"\n",
              "              title=\"Convert this dataframe to an interactive table.\"\n",
              "              style=\"display:none;\">\n",
              "\n",
              "  <svg xmlns=\"http://www.w3.org/2000/svg\" height=\"24px\"viewBox=\"0 0 24 24\"\n",
              "       width=\"24px\">\n",
              "    <path d=\"M0 0h24v24H0V0z\" fill=\"none\"/>\n",
              "    <path d=\"M18.56 5.44l.94 2.06.94-2.06 2.06-.94-2.06-.94-.94-2.06-.94 2.06-2.06.94zm-11 1L8.5 8.5l.94-2.06 2.06-.94-2.06-.94L8.5 2.5l-.94 2.06-2.06.94zm10 10l.94 2.06.94-2.06 2.06-.94-2.06-.94-.94-2.06-.94 2.06-2.06.94z\"/><path d=\"M17.41 7.96l-1.37-1.37c-.4-.4-.92-.59-1.43-.59-.52 0-1.04.2-1.43.59L10.3 9.45l-7.72 7.72c-.78.78-.78 2.05 0 2.83L4 21.41c.39.39.9.59 1.41.59.51 0 1.02-.2 1.41-.59l7.78-7.78 2.81-2.81c.8-.78.8-2.07 0-2.86zM5.41 20L4 18.59l7.72-7.72 1.47 1.35L5.41 20z\"/>\n",
              "  </svg>\n",
              "      </button>\n",
              "\n",
              "\n",
              "\n",
              "    <div id=\"df-a938a7ca-446d-4649-90ef-9dd3dfab798b\">\n",
              "      <button class=\"colab-df-quickchart\" onclick=\"quickchart('df-a938a7ca-446d-4649-90ef-9dd3dfab798b')\"\n",
              "              title=\"Suggest charts.\"\n",
              "              style=\"display:none;\">\n",
              "\n",
              "<svg xmlns=\"http://www.w3.org/2000/svg\" height=\"24px\"viewBox=\"0 0 24 24\"\n",
              "     width=\"24px\">\n",
              "    <g>\n",
              "        <path d=\"M19 3H5c-1.1 0-2 .9-2 2v14c0 1.1.9 2 2 2h14c1.1 0 2-.9 2-2V5c0-1.1-.9-2-2-2zM9 17H7v-7h2v7zm4 0h-2V7h2v10zm4 0h-2v-4h2v4z\"/>\n",
              "    </g>\n",
              "</svg>\n",
              "      </button>\n",
              "    </div>\n",
              "\n",
              "<style>\n",
              "  .colab-df-quickchart {\n",
              "    background-color: #E8F0FE;\n",
              "    border: none;\n",
              "    border-radius: 50%;\n",
              "    cursor: pointer;\n",
              "    display: none;\n",
              "    fill: #1967D2;\n",
              "    height: 32px;\n",
              "    padding: 0 0 0 0;\n",
              "    width: 32px;\n",
              "  }\n",
              "\n",
              "  .colab-df-quickchart:hover {\n",
              "    background-color: #E2EBFA;\n",
              "    box-shadow: 0px 1px 2px rgba(60, 64, 67, 0.3), 0px 1px 3px 1px rgba(60, 64, 67, 0.15);\n",
              "    fill: #174EA6;\n",
              "  }\n",
              "\n",
              "  [theme=dark] .colab-df-quickchart {\n",
              "    background-color: #3B4455;\n",
              "    fill: #D2E3FC;\n",
              "  }\n",
              "\n",
              "  [theme=dark] .colab-df-quickchart:hover {\n",
              "    background-color: #434B5C;\n",
              "    box-shadow: 0px 1px 3px 1px rgba(0, 0, 0, 0.15);\n",
              "    filter: drop-shadow(0px 1px 2px rgba(0, 0, 0, 0.3));\n",
              "    fill: #FFFFFF;\n",
              "  }\n",
              "</style>\n",
              "\n",
              "    <script>\n",
              "      async function quickchart(key) {\n",
              "        const containerElement = document.querySelector('#' + key);\n",
              "        const charts = await google.colab.kernel.invokeFunction(\n",
              "            'suggestCharts', [key], {});\n",
              "      }\n",
              "    </script>\n",
              "\n",
              "      <script>\n",
              "\n",
              "function displayQuickchartButton(domScope) {\n",
              "  let quickchartButtonEl =\n",
              "    domScope.querySelector('#df-a938a7ca-446d-4649-90ef-9dd3dfab798b button.colab-df-quickchart');\n",
              "  quickchartButtonEl.style.display =\n",
              "    google.colab.kernel.accessAllowed ? 'block' : 'none';\n",
              "}\n",
              "\n",
              "        displayQuickchartButton(document);\n",
              "      </script>\n",
              "      <style>\n",
              "    .colab-df-container {\n",
              "      display:flex;\n",
              "      flex-wrap:wrap;\n",
              "      gap: 12px;\n",
              "    }\n",
              "\n",
              "    .colab-df-convert {\n",
              "      background-color: #E8F0FE;\n",
              "      border: none;\n",
              "      border-radius: 50%;\n",
              "      cursor: pointer;\n",
              "      display: none;\n",
              "      fill: #1967D2;\n",
              "      height: 32px;\n",
              "      padding: 0 0 0 0;\n",
              "      width: 32px;\n",
              "    }\n",
              "\n",
              "    .colab-df-convert:hover {\n",
              "      background-color: #E2EBFA;\n",
              "      box-shadow: 0px 1px 2px rgba(60, 64, 67, 0.3), 0px 1px 3px 1px rgba(60, 64, 67, 0.15);\n",
              "      fill: #174EA6;\n",
              "    }\n",
              "\n",
              "    [theme=dark] .colab-df-convert {\n",
              "      background-color: #3B4455;\n",
              "      fill: #D2E3FC;\n",
              "    }\n",
              "\n",
              "    [theme=dark] .colab-df-convert:hover {\n",
              "      background-color: #434B5C;\n",
              "      box-shadow: 0px 1px 3px 1px rgba(0, 0, 0, 0.15);\n",
              "      filter: drop-shadow(0px 1px 2px rgba(0, 0, 0, 0.3));\n",
              "      fill: #FFFFFF;\n",
              "    }\n",
              "  </style>\n",
              "\n",
              "      <script>\n",
              "        const buttonEl =\n",
              "          document.querySelector('#df-f45dbc31-3c4d-40d6-95ef-17bbdec9f5c9 button.colab-df-convert');\n",
              "        buttonEl.style.display =\n",
              "          google.colab.kernel.accessAllowed ? 'block' : 'none';\n",
              "\n",
              "        async function convertToInteractive(key) {\n",
              "          const element = document.querySelector('#df-f45dbc31-3c4d-40d6-95ef-17bbdec9f5c9');\n",
              "          const dataTable =\n",
              "            await google.colab.kernel.invokeFunction('convertToInteractive',\n",
              "                                                     [key], {});\n",
              "          if (!dataTable) return;\n",
              "\n",
              "          const docLinkHtml = 'Like what you see? Visit the ' +\n",
              "            '<a target=\"_blank\" href=https://colab.research.google.com/notebooks/data_table.ipynb>data table notebook</a>'\n",
              "            + ' to learn more about interactive tables.';\n",
              "          element.innerHTML = '';\n",
              "          dataTable['output_type'] = 'display_data';\n",
              "          await google.colab.output.renderOutput(dataTable, element);\n",
              "          const docLink = document.createElement('div');\n",
              "          docLink.innerHTML = docLinkHtml;\n",
              "          element.appendChild(docLink);\n",
              "        }\n",
              "      </script>\n",
              "    </div>\n",
              "  </div>\n"
            ]
          },
          "metadata": {},
          "execution_count": 17
        }
      ]
    },
    {
      "cell_type": "markdown",
      "source": [
        "### Balanceamento"
      ],
      "metadata": {
        "id": "GGQr_tRoDIlh"
      }
    },
    {
      "cell_type": "markdown",
      "source": [
        "O desbalanceamento visto foi de menos de 13% na pior das classes, o que provavelmente não seria o suficiente para enviesar consideravelmente o treino do modelo. Porém, como temos mais amostras de treino do que será possível utilizar, é interessante balancear as classes. Além disso, balancear os datasets agora é mais simples do que forçar um balanceamento no treino do modelo.\n",
        "\n",
        "Como não estamos preocupados com perder de algumas amostras, o balanceamento escolhido será feito pela remoção de observações até atingirmos o valor da classe menos representada (no caso do dataset de treino: 4 estrelas, 12117 observações)."
      ],
      "metadata": {
        "id": "KVeqGOOVn8rm"
      }
    },
    {
      "cell_type": "code",
      "source": [
        "# Para garantir a reprodutibilidade da célula\n",
        "np.random.seed(seed)\n",
        "\n",
        "df_balanced = {}\n",
        "\n",
        "# Loop para cada partição. Calcula qual classe é menos representada\n",
        "for key in df.keys():\n",
        "  label_count = df[key].label.value_counts(sort=False)\n",
        "  minimum_count = min(label_count)\n",
        "  df_balanced[key] = df[key].copy()\n",
        "  # Loop para cada classe. Calcula número de observações a serem removidas,\n",
        "  # escolhe os índices e remove do novo dataset.\n",
        "  for label, count in zip(label_count.index, label_count):\n",
        "    n_to_remove = count - minimum_count\n",
        "    df_label = df[key][df[key].label == label]\n",
        "    indexes_to_remove = np.random.choice(df_label.index, n_to_remove, replace=False)\n",
        "    df_balanced[key].drop(indexes_to_remove, inplace=True)\n",
        "\n",
        "  # Reseta o índice e printa os valores das classes do novo dataset\n",
        "  df_balanced[key].reset_index(drop=True, inplace=True)\n",
        "  print(key, 'label count:')\n",
        "  print(df_balanced[key].label.value_counts(sort=False))\n",
        "  print('')\n",
        "\n",
        "\n",
        "# # modo alternativo deixado aqui para referência futura\n",
        "# g = df['train'].groupby('label', group_keys=False)\n",
        "# g = g.apply(lambda x: x.sample(g.size().min())).reset_index(drop=True)\n",
        "# g"
      ],
      "metadata": {
        "colab": {
          "base_uri": "https://localhost:8080/"
        },
        "id": "Yd4BpTvtDMJ4",
        "outputId": "ea3ce78e-2fca-4651-a6b2-973673865c5b"
      },
      "execution_count": 18,
      "outputs": [
        {
          "output_type": "stream",
          "name": "stdout",
          "text": [
            "train label count:\n",
            "0    12117\n",
            "1    12117\n",
            "2    12117\n",
            "3    12117\n",
            "4    12117\n",
            "Name: label, dtype: int64\n",
            "\n",
            "validation label count:\n",
            "0    269\n",
            "1    269\n",
            "2    269\n",
            "3    269\n",
            "4    269\n",
            "Name: label, dtype: int64\n",
            "\n",
            "test label count:\n",
            "0    295\n",
            "1    295\n",
            "2    295\n",
            "3    295\n",
            "4    295\n",
            "Name: label, dtype: int64\n",
            "\n"
          ]
        }
      ]
    },
    {
      "cell_type": "markdown",
      "source": [
        "Agora todos os datasets estão balanceados."
      ],
      "metadata": {
        "id": "gYdbnTTP6nGO"
      }
    },
    {
      "cell_type": "markdown",
      "source": [
        "### Amostragem"
      ],
      "metadata": {
        "id": "yo2JHEaOCneW"
      }
    },
    {
      "cell_type": "markdown",
      "source": [
        "Como foi mencionado anteriormente, nosso dataset é bem maior do que esperado. Obviamente, seria interessante ter a maior quantidade possível de dados para treinamento e validação, mas, infelizmente, não temos tempo e memória computacional ilimitada.\n",
        "\n",
        "Como utilizaremos apenas uma época e tamanho de batch limitado, ficaremos limitados ao número de observações de treino $T = batch \\times steps$. A vantagem de pegar uma amostragem da partição de treino agora é que conseguimos garantir que o treino visto pelo modelo seja estratificado. Após alguns testes, o treinamento que melhor obteve resultados foi com um batch de 128 e 240 steps, resultando em um total de 30720 observações de treino. Esta decisão de batch e steps é mais discutida na seção de treinamento do modelo.\n",
        "\n",
        "Em relação ao conjunto de validação, temos um problema similar com o tempo de processamento. Teoricamente, um número muito grande de observações para validação garante que a nossa validação seja heterogênea. Porém, na prática, a validação também aumenta o tempo computacional do treino, já que ela é feita várias vezes, afim de guardar o modelo que obteve maior acurácia ao longo do treino. Também realizaremos uma amostragem estratificada para garantir o balanceamento das classes na validação."
      ],
      "metadata": {
        "id": "qGVLafEt7cRf"
      }
    },
    {
      "cell_type": "code",
      "source": [
        "np.random.seed(seed)\n",
        "\n",
        "df_sample = {}\n",
        "\n",
        "# Número de observações que serão vistas no treino\n",
        "T = batch_size*steps\n",
        "\n",
        "# Pega N amostras de cada classe em cada partição\n",
        "df_sample['train'] = df_balanced['train'].groupby(\"label\", group_keys=False).apply(lambda x:x.sample(int(T/5)))\n",
        "df_sample['validation'] = df_balanced['validation'].groupby(\"label\", group_keys=False).apply(lambda x:x.sample(64))\n",
        "df_sample['test'] = df_balanced['test'].groupby(\"label\", group_keys=False).apply(lambda x:x.sample(100))\n",
        "\n",
        "print('observações da amostragem de treino: ', df_sample['train'].shape[0])\n",
        "print('observações da amostragem de validação: ', df_sample['validation'].shape[0])\n",
        "print('observações da amostragem de teste: ', df_sample['test'].shape[0])"
      ],
      "metadata": {
        "colab": {
          "base_uri": "https://localhost:8080/"
        },
        "id": "NIiw35ZqtmMU",
        "outputId": "78cd1898-0159-4f2f-a3e3-926fee3b64c4"
      },
      "execution_count": 19,
      "outputs": [
        {
          "output_type": "stream",
          "name": "stdout",
          "text": [
            "observações da amostragem de treino:  30720\n",
            "observações da amostragem de validação:  320\n",
            "observações da amostragem de teste:  500\n"
          ]
        }
      ]
    },
    {
      "cell_type": "markdown",
      "source": [
        "Verificando se a amostragem de treino tem as classes balanceadas:"
      ],
      "metadata": {
        "id": "Cu28dHDOFuoZ"
      }
    },
    {
      "cell_type": "code",
      "source": [
        "df_sample['train']['label'].value_counts()"
      ],
      "metadata": {
        "colab": {
          "base_uri": "https://localhost:8080/"
        },
        "id": "94k6PZT8xxxS",
        "outputId": "2f5577dd-17a2-45ea-8021-b12fe7394d6f"
      },
      "execution_count": 20,
      "outputs": [
        {
          "output_type": "execute_result",
          "data": {
            "text/plain": [
              "0    6144\n",
              "1    6144\n",
              "2    6144\n",
              "3    6144\n",
              "4    6144\n",
              "Name: label, dtype: int64"
            ]
          },
          "metadata": {},
          "execution_count": 20
        }
      ]
    },
    {
      "cell_type": "markdown",
      "source": [
        "### Tokenização"
      ],
      "metadata": {
        "id": "-HwcmH2jyJPv"
      }
    },
    {
      "cell_type": "markdown",
      "source": [
        "Agora que a maioria das modificações foi feita, podemos começar a passar os dados para o formato pedido pelos modelos do Hugging Face."
      ],
      "metadata": {
        "id": "wTGdxHvDF-dh"
      }
    },
    {
      "cell_type": "code",
      "source": [
        "dataset = {}\n",
        "\n",
        "# Instancia os objetos de dataset, requisitados pelos modelos do HuggingFace\n",
        "for key in df_sample.keys():\n",
        "  dataset[key] = Dataset.from_pandas(df_sample[key])\n",
        "\n",
        "dataset"
      ],
      "metadata": {
        "colab": {
          "base_uri": "https://localhost:8080/"
        },
        "id": "ZEgHWXSUv9G8",
        "outputId": "aa1d97b0-61b4-41e9-8a0c-295ac4fa9887"
      },
      "execution_count": 21,
      "outputs": [
        {
          "output_type": "execute_result",
          "data": {
            "text/plain": [
              "{'train': Dataset({\n",
              "     features: ['label', 'text', '__index_level_0__'],\n",
              "     num_rows: 30720\n",
              " }),\n",
              " 'validation': Dataset({\n",
              "     features: ['label', 'text', '__index_level_0__'],\n",
              "     num_rows: 320\n",
              " }),\n",
              " 'test': Dataset({\n",
              "     features: ['label', 'text', '__index_level_0__'],\n",
              "     num_rows: 500\n",
              " })}"
            ]
          },
          "metadata": {},
          "execution_count": 21
        }
      ]
    },
    {
      "cell_type": "markdown",
      "source": [
        "Agora, passamos o dataset pelo tokenizador do modelo BERT."
      ],
      "metadata": {
        "id": "MZNip9ATMcM9"
      }
    },
    {
      "cell_type": "code",
      "source": [
        "# Carrega do tokenizador do BERT\n",
        "tokenizer = AutoTokenizer.from_pretrained(\"bert-base-cased\")\n",
        "\n",
        "# Função que tokeniza uma frase\n",
        "def tokenize_function(examples):\n",
        "    return tokenizer(examples[\"text\"], padding=\"max_length\", truncation=True)\n",
        "\n",
        "# Aplica a função tokenizadora em cada partição\n",
        "tokenized_train_dataset = dataset['train'].map(tokenize_function, batched=True)\n",
        "tokenized_validation_dataset = dataset['validation'].map(tokenize_function, batched=True)\n",
        "tokenized_test_dataset = dataset['test'].map(tokenize_function, batched=True)"
      ],
      "metadata": {
        "colab": {
          "base_uri": "https://localhost:8080/",
          "height": 145,
          "referenced_widgets": [
            "3fbf83e3443944d8bff8b70acb84f7d6",
            "8293ebf9e48b4b69b368e5482a9b1f1a",
            "9bc7f4bb33454bf6a5f7e6eb6b86b641",
            "d1c96c17ad124289b918189c7ed4b6c6",
            "d12402ce553a4e49ad0c9bb48b56668e",
            "441eafd8c49f46a5bf3161a7a99ab8f1",
            "185c45b2367c4885818fff08146cbf12",
            "626aeedb9580410caccd45093501fc9d",
            "74664b12fe244079ae45e067b8428ce7",
            "74c40dad0b7042c78e0e677fc42e91d2",
            "a92e2324344744e2ae7ead2a706c118e",
            "de0d858a07fe4fa1ba1927e4817b1a10",
            "2f85c0e91e824d1e9a2bb1ecda82459c",
            "2668ad1cc9664fe98ffb13788bee56f7",
            "a226bdab182944abbcb0f02cac6c0bdd",
            "9893cdd1d0cf4716bbe69e9a655229d5",
            "c341df11ea344532a7ec77e5cb2a8bb3",
            "3ef59181b0e3420b8a27a5c370542670",
            "7cc7c9d4d4fa4acf8fce5db28959a8e5",
            "2f4ac59a11f047ba83d4429db596dc9d",
            "b61c3620f90543f2889567f59bd69088",
            "562fe6299d044f44a09f1ee5ba26e574",
            "6f59c94d84464553a8adbb4140819657",
            "1a27da39b3974697a784ee0b64df4f87",
            "5ffe81f3a4c34186b4ff0e9e36a7e8a9",
            "f32cef1e78f14bd4ac2237616e683b3c",
            "f619a6ce49c849889eea08b310c29c21",
            "1417eadfe61c4f158d05b41dff97c636",
            "13344776f5094e10adc4a99df0cd633d",
            "9e6258bb97254c718d76d643c19a73c4",
            "e63dbf8b3b4640de809f05a76d75a333",
            "3abe912f0d4e479da32276cc79594e5e",
            "bd19391fed0645ac9d41947ddb0b81b1",
            "4fc168ca04c040c487a34b7fcee2a3b7",
            "41bd856b31f84feb8a967b081b325c0d",
            "623bf6b177094d84aa3e6bceea35ebc9",
            "3f5fcc5770674b8aaa82ee91cb06a226",
            "b2287402f56a48fe800df3328e91ffbd",
            "64ddcf64c8004e2ba4cd7923f0783fd6",
            "de2c09da38ad46f19a3283b716cb06d4",
            "3cad9da4fad6445fa9e97ed359721680",
            "c3e70709a42148608357b15490d600f1",
            "15dad87d4d59454b9e5ad655ab950993",
            "ad1535cf18cf40e9b690a34911d31925",
            "e5fd00fc333e4a87a868b1cc8f32025c",
            "09589ea09e8e4f06b12786f4efcedc56",
            "3dd38cd2a32a4129966ba4daa2179cdf",
            "bd57179b1c3843419b3dcb902cff1c54",
            "95e6872490fe48d797ae4841f508b0c9",
            "4cc3b8c821824d0383cafa09872387cc",
            "f3481b6a252243ab90767fcdaded24e5",
            "6c70fc809663458ea70c860980e00500",
            "4d96d31b6f6247f1951b3c8a50558e88",
            "c7ab6ccf4e7c4359bd15b034bf7498b3",
            "df990255b8ee4f749badd490867ee9d4",
            "44d1d5a7b9914dabbf368ee7180e2bef",
            "e5010ef77da64d85b8793546b86d4a43",
            "fed5939fa7da4e3aaadfe16edba72000",
            "63a8b7c000b949559d37f2b166620e11",
            "b4e66bc2bf574de6974449c5801a4224",
            "54d91c9e12d846aab9bf45f2aa75bbae",
            "53d63b8efc5d4897b219bd205bf4ffb6",
            "7db364bb3ab844d9a769da4c22a3f6ea",
            "e0c61f15009949c18d0aecf3c5eddb93",
            "7e1ab6a096384feca7f6e6ac58d8ad01",
            "34bdadd60d6a40709287bb3c1c007cfa",
            "060ce361432c4e4a82d904239ab882b0",
            "2cd564cb8ea44001b031488a1d34bf6b",
            "eec272d79cf34caaaaacbcca74a01778",
            "6ab178c37ece4f3da7913bbf02b87d77",
            "cb2047aa04f54ebdbb7d128feed22363",
            "344bb21b047c4ff9ba46b61a98649941",
            "cfe11de02aa6481384463deefc5e883e",
            "cdbd08a1aaf245d3a777897cae0d3a89",
            "6c284089dbf34a259044a4069f1063dc",
            "0a5f946a225d4cd4875d5378904952ee",
            "e8e615ca6d104beea22a6c292238e321"
          ]
        },
        "id": "5INxqdDN8oCv",
        "outputId": "63b73d1f-e293-4b32-8707-c9285c6ad35f"
      },
      "execution_count": 22,
      "outputs": [
        {
          "output_type": "display_data",
          "data": {
            "text/plain": [
              "Downloading (…)okenizer_config.json:   0%|          | 0.00/29.0 [00:00<?, ?B/s]"
            ],
            "application/vnd.jupyter.widget-view+json": {
              "version_major": 2,
              "version_minor": 0,
              "model_id": "3fbf83e3443944d8bff8b70acb84f7d6"
            }
          },
          "metadata": {}
        },
        {
          "output_type": "display_data",
          "data": {
            "text/plain": [
              "Downloading (…)lve/main/config.json:   0%|          | 0.00/570 [00:00<?, ?B/s]"
            ],
            "application/vnd.jupyter.widget-view+json": {
              "version_major": 2,
              "version_minor": 0,
              "model_id": "de0d858a07fe4fa1ba1927e4817b1a10"
            }
          },
          "metadata": {}
        },
        {
          "output_type": "display_data",
          "data": {
            "text/plain": [
              "Downloading (…)solve/main/vocab.txt:   0%|          | 0.00/213k [00:00<?, ?B/s]"
            ],
            "application/vnd.jupyter.widget-view+json": {
              "version_major": 2,
              "version_minor": 0,
              "model_id": "6f59c94d84464553a8adbb4140819657"
            }
          },
          "metadata": {}
        },
        {
          "output_type": "display_data",
          "data": {
            "text/plain": [
              "Downloading (…)/main/tokenizer.json:   0%|          | 0.00/436k [00:00<?, ?B/s]"
            ],
            "application/vnd.jupyter.widget-view+json": {
              "version_major": 2,
              "version_minor": 0,
              "model_id": "4fc168ca04c040c487a34b7fcee2a3b7"
            }
          },
          "metadata": {}
        },
        {
          "output_type": "display_data",
          "data": {
            "text/plain": [
              "Map:   0%|          | 0/30720 [00:00<?, ? examples/s]"
            ],
            "application/vnd.jupyter.widget-view+json": {
              "version_major": 2,
              "version_minor": 0,
              "model_id": "e5fd00fc333e4a87a868b1cc8f32025c"
            }
          },
          "metadata": {}
        },
        {
          "output_type": "display_data",
          "data": {
            "text/plain": [
              "Map:   0%|          | 0/320 [00:00<?, ? examples/s]"
            ],
            "application/vnd.jupyter.widget-view+json": {
              "version_major": 2,
              "version_minor": 0,
              "model_id": "44d1d5a7b9914dabbf368ee7180e2bef"
            }
          },
          "metadata": {}
        },
        {
          "output_type": "display_data",
          "data": {
            "text/plain": [
              "Map:   0%|          | 0/500 [00:00<?, ? examples/s]"
            ],
            "application/vnd.jupyter.widget-view+json": {
              "version_major": 2,
              "version_minor": 0,
              "model_id": "060ce361432c4e4a82d904239ab882b0"
            }
          },
          "metadata": {}
        }
      ]
    },
    {
      "cell_type": "code",
      "source": [
        "tokenized_train_dataset"
      ],
      "metadata": {
        "id": "_IPvvBPMDurs",
        "colab": {
          "base_uri": "https://localhost:8080/"
        },
        "outputId": "b886a905-ea8c-44ae-fa6d-9403dd9b9490"
      },
      "execution_count": 23,
      "outputs": [
        {
          "output_type": "execute_result",
          "data": {
            "text/plain": [
              "Dataset({\n",
              "    features: ['label', 'text', '__index_level_0__', 'input_ids', 'token_type_ids', 'attention_mask'],\n",
              "    num_rows: 30720\n",
              "})"
            ]
          },
          "metadata": {},
          "execution_count": 23
        }
      ]
    },
    {
      "cell_type": "markdown",
      "source": [
        "Nota-se que o tokenizador criou diversos atributos, necessários para o funcionamento de modelos do tipo transformer para NLP.\n",
        "\n",
        "Um dos atributos importantes para o modelo é o de input_ids. Ele consiste em números correspondentes às palavras do review_body do nosso dataset original. Porém, como o modelo precisa de um número fixo de tamanho de vetor, quando não existem mais palavras para serem transformadas em IDs, o vetor é completado com 0s nas posições restantes. Como o modelo base do BERT consegue lidar com textos grandes, os vetores resultantes acabam por consistir em poucos valores e muitos zeros, como pode ser visto no exemplo abaixo."
      ],
      "metadata": {
        "id": "La68-mcVM61C"
      }
    },
    {
      "cell_type": "code",
      "source": [
        "i = 0\n",
        "print('composição do texto tokenizado na posição', i)\n",
        "print('não-zeros:', np.count_nonzero(tokenized_train_dataset[i]['input_ids']))\n",
        "print('zeros:', tokenized_train_dataset[i]['input_ids'].count(0))"
      ],
      "metadata": {
        "colab": {
          "base_uri": "https://localhost:8080/"
        },
        "id": "GH4IOl29XA4-",
        "outputId": "6c8d7f15-e271-4840-ee74-77eda1b80235"
      },
      "execution_count": 24,
      "outputs": [
        {
          "output_type": "stream",
          "name": "stdout",
          "text": [
            "composição do texto tokenizado na posição 0\n",
            "não-zeros: 57\n",
            "zeros: 455\n"
          ]
        }
      ]
    },
    {
      "cell_type": "markdown",
      "source": [
        "Esses grandes vetores causaram problemas de memória e de tempo computacional em tentativas anteriores de treino. Nota-se que o número máximo de tokens aceito pelo BERT é 512.\n",
        "\n",
        "A ideia é fazer um truncamento dos vetores para reduzir os recursos computacionais necessários. Para escolher qual o valor mínimo de truncamento, é interessante ver a distribuição do tamanho desses vetores."
      ],
      "metadata": {
        "id": "lpahBdBBPomT"
      }
    },
    {
      "cell_type": "code",
      "source": [
        "datasets = [tokenized_train_dataset, tokenized_validation_dataset, tokenized_test_dataset]\n",
        "number_ids_matrix = []\n",
        "\n",
        "# Conta quantos tokens não-zero existem em cada texto de cada dataset\n",
        "for i_dataset in datasets:\n",
        "  number_ids_list = []\n",
        "\n",
        "  input_ids_matrix = i_dataset['input_ids']\n",
        "\n",
        "  for input_ids_list in input_ids_matrix:\n",
        "    nonzero_ids = np.count_nonzero(input_ids_list)\n",
        "    number_ids_list.append(nonzero_ids)\n",
        "\n",
        "  number_ids_matrix.append(number_ids_list)\n"
      ],
      "metadata": {
        "id": "t48M7q0FhoNA"
      },
      "execution_count": 25,
      "outputs": []
    },
    {
      "cell_type": "code",
      "source": [
        "fig, ax1 = plt.subplots(figsize=(10, 6))\n",
        "\n",
        "ax1.boxplot(number_ids_matrix)\n",
        "ax1.set(\n",
        "        title='Boxplot dos dados tokenizados',\n",
        "        xlabel='Partição',\n",
        "        ylabel='Tokens não-zero',\n",
        "        )\n",
        "ax1.set_yticks([0, 60, 100, 200, 500])\n",
        "ax1.set_xticklabels(['treino','validação','teste'])\n",
        "plt.show()"
      ],
      "metadata": {
        "colab": {
          "base_uri": "https://localhost:8080/",
          "height": 573
        },
        "id": "6AJVyhx9z7qs",
        "outputId": "807217d3-4c6c-4709-b037-fbbb36454a5c"
      },
      "execution_count": 26,
      "outputs": [
        {
          "output_type": "display_data",
          "data": {
            "text/plain": [
              "<Figure size 1000x600 with 1 Axes>"
            ],
            "image/png": "[encoded data removed]"
          },
          "metadata": {}
        }
      ]
    },
    {
      "cell_type": "markdown",
      "source": [
        "Agora que podemos visualizar a distribuição do tamanho do vetor de tokens para cada review, é possível fazer uma escolha coerente. Se escolhermos o valor de 60 para truncamento, manteremos 75% dos reviews intactos. Ao mesmo tempo, é fácil inferir que, em reviews com mais de 60 palavras, o sentimento das diversas frases se repete. Obviamente, mais palavras darão mais confiança para a previsão do modelo, mas temos que considerar o custo e benefício que cada parâmetro terá.\n",
        "\n",
        "Logo, será refeita a tokenização com o limite máximo de 60 tokens por review."
      ],
      "metadata": {
        "id": "jMSDDmndQikp"
      }
    },
    {
      "cell_type": "code",
      "source": [
        "# Nova tokenização com limite de 60 tokens por frase\n",
        "def tokenize_function_truncate(examples):\n",
        "    return tokenizer(examples[\"text\"], padding=\"max_length\", truncation=True, max_length=60)\n",
        "\n",
        "tokenized_train_dataset = dataset['train'].map(tokenize_function_truncate, batched=True)\n",
        "tokenized_validation_dataset = dataset['validation'].map(tokenize_function_truncate, batched=True)\n",
        "tokenized_test_dataset = dataset['test'].map(tokenize_function_truncate, batched=True)"
      ],
      "metadata": {
        "colab": {
          "base_uri": "https://localhost:8080/",
          "height": 17,
          "referenced_widgets": [
            "0ee02f2add794b0bb6703ee8eed1f4ec",
            "c994065fb5a3481c9ec87b68ab939ec3",
            "023f4bd97e8b4514826bd788a0b1eb72",
            "bb42806c1bd0489087e082ff49ad53f1",
            "6fe8920b704f46c0ba0459adf574f9fc",
            "4a733a3a5e0a49fc8e1f53c5439262e2",
            "f33931d95ae64072a31a49723177fd0c",
            "1fb3832651544d18a54cd745b0b7b618",
            "0bf82f9f18b34cf7952a064265105d71",
            "40f2a91c71e4453fadf1e80b78d459e7",
            "7d7928e75795443c8bb2b02771992a88",
            "6c6f79e798c54b629bef1f4ae8a2371f",
            "f502b884ee724369841f60de2443e4c5",
            "75815af0e3c64eb0b0194b62bb897cfd",
            "f7db445e0cf1402886d2bd0080bfe60c",
            "2355a08c49084c968c7c5f1f0201e258",
            "b853abdb64784904926cc91c12992698",
            "3890f131dc0440aca4c1f2bffccfc2db",
            "211c8333170b4d11986702920ca8b8ea",
            "9b5ae6d8fd8145de81157a817c9d2741",
            "b04b8b165afd4f20b4d5f7a3bb7a11ae",
            "dbdee38e94e443eab18748f31d2240be",
            "4d34e43ea6fe4b0db0c52837e0e60213",
            "208dd9c31ef344d88763d0c89efed209",
            "ddf2e04585e8425393007af4c2112230",
            "cf381181763745dd801c3a5d6566e7b5",
            "202272c7c12e40b1b17a78dfacc0e222",
            "d03a4560a35b4851b64bc17ebecf8dc9",
            "8bdc1f618b8145248b27e5443cfb3917",
            "911d8a42fcb946b59568f5a060ad08a5",
            "a70a956657714ff6885b1d65a2204cde",
            "32f8ab3ee6ed48b4a47ff6a18acb69a5",
            "1f57ed49e24346b4a4e06b9d95e4a794"
          ]
        },
        "id": "MO_SWXhfg2JX",
        "outputId": "70f6a474-493b-4a93-e733-99cf06d93867"
      },
      "execution_count": 27,
      "outputs": [
        {
          "output_type": "display_data",
          "data": {
            "text/plain": [
              "Map:   0%|          | 0/30720 [00:00<?, ? examples/s]"
            ],
            "application/vnd.jupyter.widget-view+json": {
              "version_major": 2,
              "version_minor": 0,
              "model_id": "0ee02f2add794b0bb6703ee8eed1f4ec"
            }
          },
          "metadata": {}
        },
        {
          "output_type": "display_data",
          "data": {
            "text/plain": [
              "Map:   0%|          | 0/320 [00:00<?, ? examples/s]"
            ],
            "application/vnd.jupyter.widget-view+json": {
              "version_major": 2,
              "version_minor": 0,
              "model_id": "6c6f79e798c54b629bef1f4ae8a2371f"
            }
          },
          "metadata": {}
        },
        {
          "output_type": "display_data",
          "data": {
            "text/plain": [
              "Map:   0%|          | 0/500 [00:00<?, ? examples/s]"
            ],
            "application/vnd.jupyter.widget-view+json": {
              "version_major": 2,
              "version_minor": 0,
              "model_id": "4d34e43ea6fe4b0db0c52837e0e60213"
            }
          },
          "metadata": {}
        }
      ]
    },
    {
      "cell_type": "code",
      "source": [
        "print('nova composição do texto tokenizado na posição', i)\n",
        "print('não-zeros:', np.count_nonzero(tokenized_train_dataset[i]['input_ids']))\n",
        "print('zeros:', tokenized_train_dataset[i]['input_ids'].count(0))"
      ],
      "metadata": {
        "colab": {
          "base_uri": "https://localhost:8080/"
        },
        "id": "tMvwct5Q8TGZ",
        "outputId": "4616e489-01ce-47f3-ba8c-443bffcdf031"
      },
      "execution_count": 28,
      "outputs": [
        {
          "output_type": "stream",
          "name": "stdout",
          "text": [
            "nova composição do texto tokenizado na posição 0\n",
            "não-zeros: 57\n",
            "zeros: 3\n"
          ]
        }
      ]
    },
    {
      "cell_type": "markdown",
      "source": [
        "### Demais pré-processamentos"
      ],
      "metadata": {
        "id": "CAxy61PTzZRO"
      }
    },
    {
      "cell_type": "markdown",
      "source": [
        "É importante ressaltar o porquê de não termos feito outros pré-processamentos comuns em problemas de NLP. Normalmente, teriam sido considerados os tratamentos de:\n",
        "\n",
        "- Remoção de stop-words. Seriam retiradas palavras que servem apenas para estruturar uma frase, mas não adicionam contexto ao review. Por exemplo, artigos, pronomes e verbos auxiliares tendem a não alterar a intenção das frases.\n",
        "\n",
        "- Remoção de caracteres especiais (%, #, =, &, etc.). Caracteres especiais raramente são relevantes e são incomuns o suficiente para o modelo não conseguir aprender nada de útil com eles.\n",
        "\n",
        "- Lematização. A redução das palavras à sua palavra originária (é → ser) tende a reduzir a quantidade de palavras necessárias a serem aprendidas.\n",
        "\n",
        "- Remoção de acentos. Apesar de ser incomum na língua inglesa, o ato de colocar ou não colocar um acento erroneamente faz com que o modelo veja aquilo como duas palavras diferentes.\n",
        "\n",
        "- Expansão de contrações (you've → you have). Muito comum em inglês, as contrações também resultam em mais palavras a serem aprendidas, já que o modelo trata a contração como uma palavra nova.\n",
        "\n",
        "- Remoção de letras maiúsculas. Outro método de remover diversas apresentações da mesma palavra.\n",
        "\n",
        "Porém, grande parte desses pré-processamentos já são feitos direta ou indiretamente pelo BERT. O tokenizador, além de transformar as palavras em números, também cria um vetor de atenção que diz quais tokens o modelo deve priorizar. O tokenizador também atribui tokens especiais a caracteres ou palavras que se mostraram pouco relevantes no pré-treinamento. Além disso, em relação aos pré-processamentos que reduziriam a quantidade de palavras a serem aprendidas pelo modelo, esta quantidade passa a ser um problema menor quando foi utilizada uma quantidade absurda de frases como foi feito no pré-processamento do BERT.\n",
        "\n",
        "Por fim, o BERT é um modelo de transformer bidirecional, ou seja, ele depende das palavras anteriores e posteriores a cada palavra na frase. Considerando que ele realizou um treinamento com 800 milhões de palavras sem os pré-processamentos acima, não é difícil imaginar que [modificar muito o texto original piora a acurácia dos modelos baseados no BERT](https://towardsdatascience.com/does-bert-need-clean-data-part-2-classification-d29adf9f745a). Frente aos fatos citados, foi escolhido não realizar os passos de pré-processamento mencionados acima."
      ],
      "metadata": {
        "id": "rbacHNGwzdFl"
      }
    },
    {
      "cell_type": "markdown",
      "source": [
        "---\n",
        "\n",
        "## 2.5 Treinamento do modelo"
      ],
      "metadata": {
        "id": "YEdPyzKS7mKE"
      }
    },
    {
      "cell_type": "markdown",
      "source": [
        "Finalmente podemos começar o treinamento do modelo. Primeiramente, baixamos o modelo BERT pré-treinado para classificações sequenciais e dizemos quantos valores possíveis nosso modelo terá que prever."
      ],
      "metadata": {
        "id": "mn_xU6oMKQQa"
      }
    },
    {
      "cell_type": "code",
      "source": [
        "np.random.seed(seed)\n",
        "\n",
        "model = AutoModelForSequenceClassification.from_pretrained(\"bert-base-cased\", num_labels=5)"
      ],
      "metadata": {
        "colab": {
          "base_uri": "https://localhost:8080/",
          "height": 84,
          "referenced_widgets": [
            "2d4046bc31594e33ac2dffefa92e8072",
            "7cf078144d634bd2897016c585595414",
            "4910061d02974deeb041af88c2c6dce0",
            "e18e335da11f43408a146ede5a756a9b",
            "f5b62cc7929644d28f0bb6893a79af3d",
            "f3458bedc43142149e3352a9670c1146",
            "a3e5ff2277b3434b92e5d7023c73f22e",
            "05f093771a8e4962828eda4012c741bc",
            "16431a21374c46c1bea2aed755c9ae9d",
            "2bc6aacc65e644ea85354d8a1b99b575",
            "94ce22aaa5ce41a4bceaddbdd82553d7"
          ]
        },
        "id": "lbyyqyq86E8M",
        "outputId": "07ee98af-2e92-47b7-d727-ec97420fc836"
      },
      "execution_count": 29,
      "outputs": [
        {
          "output_type": "display_data",
          "data": {
            "text/plain": [
              "Downloading model.safetensors:   0%|          | 0.00/436M [00:00<?, ?B/s]"
            ],
            "application/vnd.jupyter.widget-view+json": {
              "version_major": 2,
              "version_minor": 0,
              "model_id": "2d4046bc31594e33ac2dffefa92e8072"
            }
          },
          "metadata": {}
        },
        {
          "output_type": "stream",
          "name": "stderr",
          "text": [
            "Some weights of BertForSequenceClassification were not initialized from the model checkpoint at bert-base-cased and are newly initialized: ['classifier.bias', 'classifier.weight']\n",
            "You should probably TRAIN this model on a down-stream task to be able to use it for predictions and inference.\n"
          ]
        }
      ]
    },
    {
      "cell_type": "markdown",
      "source": [
        "Agora, escolhemos os hiperparâmetros do treinamento do modelo.\n",
        "\n",
        "Como temos muitas observações para treinamento, realizaremos o treino de fine-tunning com uma única época, o que significa que cada review será vista apenas uma vez no treino. Isso praticamente garantirá que não haverá overfitting do modelo, já que ele estará vendo exemplos novos a cada momento de treinamento, resultando em um modelo robusto e com grande capacidade de generalização."
      ],
      "metadata": {
        "id": "DT0j-IrN6s4Y"
      }
    },
    {
      "cell_type": "markdown",
      "source": [
        "Como utilizaremos o treinamento de época única, temos que dizer para o modelo de quantos em quantos steps ele realizará as tarefas de log, avaliação e salvamento do modelo parcialmente treinado. Foi escolhido 10 steps para a anotação do log e 20 para avaliação e salvamento do modelo, caso este apresente o melhor desempenho até então.\n",
        "\n"
      ],
      "metadata": {
        "id": "VBYJozE_smbQ"
      }
    },
    {
      "cell_type": "markdown",
      "source": [
        "Depois disso, temos que especificar que queremos que, caso a avaliação do modelo no final do treinamento seja menor que a avaliação em um step anterior, a configuração com melhor avaliação deve ser utilizada. Para isso, temos que especificar que a métrica escolhida para esta avaliação é a acurácia e que queremos maximizar esta métrica. Para diminuir a quantidade de arquivos gerados, apenas os dois melhores modelos serão salvos.\n",
        "\n"
      ],
      "metadata": {
        "id": "sP7nySAjsuA2"
      }
    },
    {
      "cell_type": "markdown",
      "source": [
        "Em relação ao learning rate, valores maiores que $10^{-4}$ se mostraram majoritariamente inúteis, já que resultaram em acurácia ao redor da aleatoriedade (20% para o nosso caso de 5 classes). Isso é corroborado pelos autores do BERT, que recomendam learning rate entre $2.10^{-5}$ e $5.10^{-5}$. Valores testados menores que $10^{-6}$ apresentaram estabilidade, mas demoraram muito para apresentar uma acurácia satisfatória, significando que os steps iniciais foram pouco eficientes. O valor de learning rate que apresentou melhor resultado inicial foi o de $3.10^{-5}$. É importante ressaltar que este parâmetro apenas controla o valor inicial do learning rate, já que o método de treinamento utilizado varia seu valor ao longo do treino.\n",
        "\n"
      ],
      "metadata": {
        "id": "kuJGK6XjswJH"
      }
    },
    {
      "cell_type": "markdown",
      "source": [
        "Por fim, temos que escolher os dois parâmetros mais importantes para o desempenho do modelo: tamanho de batch e máximo de steps. O tamanho do batch e os steps foram escolhidos afim de maximizar o número de observações vistas no treino $T = batch \\times steps$. Diversas combinações foram testadas para estes parâmetros.\n",
        "\n",
        "Tamanhos de batch menor do que 16 demoraram bem mais para obter acurácia acima de 50%, mesmo aumentando o número de steps para igualar o $T$. Isso provavelmente se deve ao tamanho do BERT e seu número de pesos. Quanto maior o número de pesos, mais demora a atualização entre os steps. Logo, mesmo que o par 100 steps e batch 2 resulte no mesmo número de observações que 25 steps e batch 8, a segunda configuração acaba por ser mais eficiente em relação ao tempo computacional.\n",
        "\n",
        "Ao mesmo tempo, batchs muito grandes diminuem as avaliações intermediárias, aumentando as chances de cairmos em um mínimo local. Além disso, somos limitados pela memória máxima que pode ser utilizada pelo colab. Tendo essas consequências e limitações em mente, foram testadas várias configurações e o modelo pareceu continuar aprendendo independentemente dos parâmetros de step e batch, desde que continuássemos fornecendo mais observações para o treinamento dele e seu batch fosse maior que 16. Então, foi tomada a decisão de utilizar o máximo de memória e o máximo de tempo ininterrupto de execução que o colab permitisse.\n",
        "\n",
        "Após algumas tentativas de treino, chegou-se nos parâmetros que obtiveram o modelo de melhor desempenho. O tamanho de batch máximo que a memória do colab aceitou foi de 128. Com esse tamanho de batch, o número máximo de steps que manteve o tempo estimado de treinamento abaixo de 6 horas (com alguma folga) foi de 240 steps."
      ],
      "metadata": {
        "id": "mdYE2gudsyBj"
      }
    },
    {
      "cell_type": "markdown",
      "source": [
        "Podemos agora instanciar os parâmetros de treino:"
      ],
      "metadata": {
        "id": "ubo-kLiKtNBF"
      }
    },
    {
      "cell_type": "code",
      "source": [
        "MODEL_PATH = \"trained_model\"\n",
        "\n",
        "training_args = TrainingArguments(\n",
        "    output_dir=MODEL_PATH,\n",
        "    per_device_eval_batch_size=32,\n",
        "    evaluation_strategy=\"steps\",\n",
        "    logging_strategy=\"steps\",\n",
        "    eval_steps=20,\n",
        "    save_steps=20,\n",
        "    logging_steps=10,\n",
        "    load_best_model_at_end=True,\n",
        "    metric_for_best_model=\"accuracy\",\n",
        "    greater_is_better=True,\n",
        "    save_total_limit=2,\n",
        "    learning_rate=3e-5,\n",
        "    max_steps=steps,\n",
        "    per_device_train_batch_size=batch_size\n",
        ")"
      ],
      "metadata": {
        "id": "jPcOAJ136a_i"
      },
      "execution_count": 30,
      "outputs": []
    },
    {
      "cell_type": "markdown",
      "source": [
        "Depois, instanciamos a métrica e a classe de treinador do modelo:"
      ],
      "metadata": {
        "id": "t46mShmHtUZN"
      }
    },
    {
      "cell_type": "code",
      "source": [
        "np.random.seed(seed)\n",
        "\n",
        "metric = evaluate.load(\"accuracy\")\n",
        "\n",
        "def compute_metrics(eval_pred):\n",
        "    logits, labels = eval_pred\n",
        "    predictions = np.argmax(logits, axis=-1)\n",
        "    return metric.compute(predictions=predictions, references=labels)\n",
        "\n",
        "MODEL_PATH = \"trained_model\"\n",
        "\n",
        "trainer = Trainer(\n",
        "    model=model,\n",
        "    args=training_args,\n",
        "    train_dataset=tokenized_train_dataset,\n",
        "    eval_dataset=tokenized_validation_dataset,\n",
        "    compute_metrics=compute_metrics,\n",
        ")"
      ],
      "metadata": {
        "id": "Z9_QYTfnYVyp",
        "colab": {
          "base_uri": "https://localhost:8080/",
          "height": 49,
          "referenced_widgets": [
            "7b765d9acf6d4146b3fd5482724b4499",
            "1b9c6740cc7b4a5292318dad85355702",
            "1b0e9167327649949bf30c16a4713301",
            "0d14f43923ec4ead9f629b3dd8ea3e7a",
            "2b69df82ca9b4084b10f826d00e8d95c",
            "ea1ff7f18f114e4294fdb19cfdd4661f",
            "8dff01d718eb465c964df26894fa729b",
            "fc9b193f153c4b83bedb62b6633f48a8",
            "01282a21691d4112a71ea0a4319c3fa2",
            "b900517343224d93ad6a5c99f61cd876",
            "7923ebd0a96f4dd9aff30e783ae74f03"
          ]
        },
        "outputId": "8c2c5754-63b7-4796-ef19-d0684db31681"
      },
      "execution_count": 31,
      "outputs": [
        {
          "output_type": "display_data",
          "data": {
            "text/plain": [
              "Downloading builder script:   0%|          | 0.00/4.20k [00:00<?, ?B/s]"
            ],
            "application/vnd.jupyter.widget-view+json": {
              "version_major": 2,
              "version_minor": 0,
              "model_id": "7b765d9acf6d4146b3fd5482724b4499"
            }
          },
          "metadata": {}
        }
      ]
    },
    {
      "cell_type": "markdown",
      "source": [
        "Finalmente, podemos realizar o treinamento do modelo. Note que a célula abaixo pode realizar o treinamento do modelo novamente. Porém, como padrão, ela importará o modelo que já foi treinado com os parâmetros citados acima, para diminuir o tempo de execução do notebook.\n",
        "\n",
        "Caso o leitor deseje realizar o fine-tunning do modelo novamente, basta mudar a variável TRAIN_MODEL (localizada na primeira célula de código do notebook) para o valor 1."
      ],
      "metadata": {
        "id": "DUAHo88nucDh"
      }
    },
    {
      "cell_type": "code",
      "source": [
        "np.random.seed(seed)\n",
        "\n",
        "# Treina o modelo e cria o log de treinamento. Também salva os dois em arquivos.\n",
        "if TRAIN_MODEL == 1:\n",
        "  print('treinando o modelo:')\n",
        "  trainer.train()\n",
        "\n",
        "  trainer.save_model(MODEL_PATH)\n",
        "  tokenizer.save_pretrained(MODEL_PATH)\n",
        "\n",
        "  df_log = pd.DataFrame(trainer.state.log_history)\n",
        "  df_log.to_csv('model_training_log.csv', index=False)\n",
        "\n",
        "  print('')\n",
        "  print('treinamento finalizado com sucesso!')\n",
        "\n",
        "# Importa o modelo, tokenizador e o log de treinamento. Também instancia o treinador.\n",
        "else:\n",
        "  print('importando o modelo:')\n",
        "  file_id = \"1tgKeK0QfrNsYR2gmTVOMUIW8bSmzpoNb\"\n",
        "  url = f\"https://drive.google.com/uc?id={file_id}\"\n",
        "\n",
        "  folder_path = \"./download\"  # Pasta para onde o arquivo será baixado\n",
        "  os.makedirs(folder_path, exist_ok=True) # Cria a pasta de destino se necessário\n",
        "\n",
        "  output = \"download/model.zip\"  # Especifica o nome do arquivo a descompactar\n",
        "  gdown.download(url, output)\n",
        "\n",
        "  with zipfile.ZipFile(output,'r') as zip_ref:\n",
        "    zip_ref.extractall()\n",
        "\n",
        "  model = AutoModelForSequenceClassification.from_pretrained('model')\n",
        "  tokenizer = AutoTokenizer.from_pretrained('model')\n",
        "\n",
        "  trainer = Trainer(\n",
        "                    model=model,\n",
        "                    args=training_args,\n",
        "                    train_dataset=tokenized_train_dataset,\n",
        "                    eval_dataset=tokenized_validation_dataset,\n",
        "                    compute_metrics=compute_metrics,\n",
        "                    )\n",
        "\n",
        "  df_log = pd.read_csv(base_url+'model_training_log.csv')\n",
        "\n",
        "  print('')\n",
        "  print('modelo e log de treinamento importados com sucesso!')"
      ],
      "metadata": {
        "id": "XGzp-zkm2LgZ",
        "colab": {
          "base_uri": "https://localhost:8080/"
        },
        "outputId": "94f242b9-1028-495a-e0bf-d90ffd0e2f16"
      },
      "execution_count": 32,
      "outputs": [
        {
          "output_type": "stream",
          "name": "stdout",
          "text": [
            "importando o modelo:\n"
          ]
        },
        {
          "output_type": "stream",
          "name": "stderr",
          "text": [
            "Downloading...\n",
            "From: https://drive.google.com/uc?id=1tgKeK0QfrNsYR2gmTVOMUIW8bSmzpoNb\n",
            "To: /content/download/model.zip\n",
            "100%|██████████| 402M/402M [00:05<00:00, 71.4MB/s]\n"
          ]
        },
        {
          "output_type": "stream",
          "name": "stdout",
          "text": [
            "\n",
            "modelo e log de treinamento importados com sucesso!\n"
          ]
        }
      ]
    },
    {
      "cell_type": "markdown",
      "source": [
        "---\n",
        "\n",
        "## 2.6 Resultados"
      ],
      "metadata": {
        "id": "k4pCucARD-Zo"
      }
    },
    {
      "cell_type": "markdown",
      "source": [
        "### Log do treinamento"
      ],
      "metadata": {
        "id": "fNLPQ4j_c8Z6"
      }
    },
    {
      "cell_type": "markdown",
      "source": [
        "Agora que temos os dados de treino (seja obtido pelo treinamento, ou importado) podemos plotá-los."
      ],
      "metadata": {
        "id": "JrWJ2Y52xH_m"
      }
    },
    {
      "cell_type": "code",
      "source": [
        "train_steps = df_log.step.dropna().unique()\n",
        "eval_steps = df_log.step[df_log.step.duplicated()][:-1]\n",
        "\n",
        "palette = sns.color_palette('bright')\n",
        "fig,(ax1, ax2) = plt.subplots(2, 1, figsize=(12,8), sharex=True)\n",
        "fig.subplots_adjust(hspace=0.04)\n",
        "fig.suptitle('Dados do modelo ao longo dos steps de treinamento')\n",
        "\n",
        "ax1.plot(train_steps, df_log.loss.dropna(), color=palette[0], label='treino')\n",
        "ax1.plot(eval_steps, df_log.eval_loss.dropna(), color=palette[1], label='validação')\n",
        "ax1.tick_params(top=False, labeltop=True, bottom=True, labelbottom=False)\n",
        "ax1.set(ylabel='Loss')\n",
        "handles, labels = ax1.get_legend_handles_labels()\n",
        "\n",
        "ax2.plot(eval_steps, df_log.eval_accuracy.dropna(), color=palette[1])\n",
        "ax2.tick_params(top=True, labeltop=False, bottom=False, labelbottom=True)\n",
        "ax2.set(xlabel='Steps', ylabel='Acurácia')\n",
        "\n",
        "fig.legend(handles, labels, loc='center', bbox_to_anchor=(0.5, 0.495))\n",
        "\n",
        "plt.show()"
      ],
      "metadata": {
        "id": "IkdYvop_EJT1",
        "colab": {
          "base_uri": "https://localhost:8080/",
          "height": 784
        },
        "outputId": "30720619-ce30-414c-e717-76daaba95416"
      },
      "execution_count": 33,
      "outputs": [
        {
          "output_type": "display_data",
          "data": {
            "text/plain": [
              "<Figure size 1200x800 with 2 Axes>"
            ],
            "image/png": "[encoded data removed]"
          },
          "metadata": {}
        }
      ]
    },
    {
      "cell_type": "markdown",
      "source": [
        "Podemos ver acima a evolução do modelo ao longo do treinamento. No gráfico de Loss, é possível notar que não houve overfitting. Esse fato era esperado porque, como já foi comentado anteriormente, foi utilizado uma única época de treinamento. Isso significa que o modelo viu cada observação apenas uma vez, impossibilitando-o decorar as características dessas observações. Isso resultou em um modelo capaz de generalizar muito bem os conhecimentos obtidos no treino, como pode ser notado pelo fato do loss de treino acompanhar muito de perto o de validação.\n",
        "\n",
        "No segundo gráfico podemos notar três principais características.\n",
        "\n",
        "- Foi benéfico escolher muitos steps. O modelo atingiu o mínimo local de aproximadamente 52% de acurácia no step 120, o qual foi seguido de 3 avaliações piores. Se tivéssemos parado no step 180, não obteríamos a melhora que começa a ser observada a partir do step 200. Nota-se também, que houve uma pequena queda no step 240, mas como configuramos para o treinamento para salvar o melhor modelo, esse step será ignorado e o modelo final será o do step 220.\n",
        "\n",
        "- O modelo foi capaz de entender o problema mesmo com poucas observações. Se observarmos o primeiro ponto, o modelo já tinha obtido uma acurácia de aproximadamente 45%. Essa acurácia pode parecer pior do que um modelo aleatório à primeira vista, mas como nosso problema é uma classificação de 5 classes, a acurácia aleatória é de 20%. Este desempenho mesmo com poucas observações vista no treino se deve a termos escolhido um modelo pre-treinado. Caso tivéssemos escolhido treinar um modelo do zero, ao invés de fazer um fine-tuning, teríamos de esperar milhares de observações de treino até o modelo conseguir se distanciar da aleatoriedade.\n",
        "\n",
        "- Não parece que a acurácia do modelo irá melhorar significativamente. Até o segundo ponto de validação foram vistas 5120 observações e até o último ponto foram vistas 30720. Entre esses dois pontos, melhoramos a acurácia em apenas 4%. Isto é um indício que estamos nos aproximando da acurácia máxima possível se apenas aumentarmos o número de observações, mesmo que a melhora nos últimos 3 pontos indique que é possível aumentar um pouco mais. Isto é um problema porque nosso modelo está acertando em apenas pouco mais de metade dos casos.\n",
        "\n"
      ],
      "metadata": {
        "id": "LMghdaF4078d"
      }
    },
    {
      "cell_type": "markdown",
      "source": [
        "Em relação ao último ponto citado acima, a acurácia relativamente baixa provavelmente se deve a um desafio comum no problema de reviews de usuários. Geralmente, a nossa variável objetivo (label) é algo atribuído por um conselho de especialistas com critérios bem definidos. Não só o nosso label é dado por uma única pessoa, mas é dado por uma pessoa diferente em cada observação. O resultado disso é que a nota dada por dois reviews teóricos idênticos poderia divergir se fosse dada por duas pessoas diferentes. Resumidamente, o label que estamos utilizando pode ser considerado de baixa confiabilidade ou consistência ao longo de todas as observações. Porém, é fácil de imaginar que, independente da pessoa que estiver dando a nota e escrevendo o review, o sentimento de satisfação ou insatisfação é universal. **Logo, espera-se que a inconsistência da nota esteja concentrada nos pares de nota: 0 e 1; 3 e 4.**\n",
        "\n",
        "Podemos verificar se a afirmação acima é verdadeira observando a matriz de confusão da previsão do modelo em função do label real."
      ],
      "metadata": {
        "id": "M5FbN9_A1RjC"
      }
    },
    {
      "cell_type": "markdown",
      "source": [
        "### Teste e matriz de confusão"
      ],
      "metadata": {
        "id": "Zz4R8bIXdFzB"
      }
    },
    {
      "cell_type": "markdown",
      "source": [
        "Primeiro, vamos verificar a acurácia de teste com o critério padrão, onde temos 5 classes diferentes."
      ],
      "metadata": {
        "id": "7fg37h5q1SHI"
      }
    },
    {
      "cell_type": "code",
      "source": [
        "# Chama o modelo para criar as previsões em cima da partição de teste\n",
        "test_model_output = trainer.predict(tokenized_test_dataset)\n",
        "\n",
        "# Acessa a parte onde as métricas foram armazenadas\n",
        "test_model_output.metrics"
      ],
      "metadata": {
        "colab": {
          "base_uri": "https://localhost:8080/",
          "height": 104
        },
        "id": "M0wh1kJwwLRN",
        "outputId": "d51e5d9f-56b4-47d0-a3a1-4bc3cf3f5841"
      },
      "execution_count": 34,
      "outputs": [
        {
          "output_type": "display_data",
          "data": {
            "text/plain": [
              "<IPython.core.display.HTML object>"
            ],
            "text/html": []
          },
          "metadata": {}
        },
        {
          "output_type": "execute_result",
          "data": {
            "text/plain": [
              "{'test_loss': 1.041521430015564,\n",
              " 'test_accuracy': 0.538,\n",
              " 'test_runtime': 131.4767,\n",
              " 'test_samples_per_second': 3.803,\n",
              " 'test_steps_per_second': 0.122}"
            ]
          },
          "metadata": {},
          "execution_count": 34
        }
      ]
    },
    {
      "cell_type": "markdown",
      "source": [
        "O critério padrão atingiu uma acurácia de 53,8%.\n"
      ],
      "metadata": {
        "id": "hBdKc3yJwLzj"
      }
    },
    {
      "cell_type": "markdown",
      "source": [
        "\n",
        "Antes de ver a matriz de confusão, é importante verificar o balanceamento e a tendência do modelo."
      ],
      "metadata": {
        "id": "GxigvBaZrYCP"
      }
    },
    {
      "cell_type": "code",
      "source": [
        "# Pega as previsões e valores reais para os labels de teste\n",
        "test_pred = [np.argmax(x) for x in test_model_output.predictions]\n",
        "test_real = test_model_output.label_ids"
      ],
      "metadata": {
        "id": "Cc-cna1KKRQm"
      },
      "execution_count": 35,
      "outputs": []
    },
    {
      "cell_type": "code",
      "source": [
        "Counter(test_real)"
      ],
      "metadata": {
        "colab": {
          "base_uri": "https://localhost:8080/"
        },
        "id": "5tlLxM48mTvt",
        "outputId": "8d37b407-e3a6-422a-9625-c6ce5c03da32"
      },
      "execution_count": 36,
      "outputs": [
        {
          "output_type": "execute_result",
          "data": {
            "text/plain": [
              "Counter({0: 100, 1: 100, 2: 100, 3: 100, 4: 100})"
            ]
          },
          "metadata": {},
          "execution_count": 36
        }
      ]
    },
    {
      "cell_type": "markdown",
      "source": [
        "Como esperado, a partição de teste está balanceada."
      ],
      "metadata": {
        "id": "Bp8tZrsargGB"
      }
    },
    {
      "cell_type": "markdown",
      "source": [
        "Verificando agora o número de labels previstos:"
      ],
      "metadata": {
        "id": "s0QSDCTGdRb8"
      }
    },
    {
      "cell_type": "code",
      "source": [
        "Counter(test_pred)"
      ],
      "metadata": {
        "colab": {
          "base_uri": "https://localhost:8080/"
        },
        "id": "H60Hn0dgmZx3",
        "outputId": "92116410-36c5-40d7-cd6a-7e08bc032955"
      },
      "execution_count": 37,
      "outputs": [
        {
          "output_type": "execute_result",
          "data": {
            "text/plain": [
              "Counter({0: 120, 1: 92, 2: 91, 3: 91, 4: 106})"
            ]
          },
          "metadata": {},
          "execution_count": 37
        }
      ]
    },
    {
      "cell_type": "markdown",
      "source": [
        "Aqui podemos ver que o modelo tende a prever mais valores extremos (0 e 4) do que valores intermediários (1 a 3), priorizando a nota mínima."
      ],
      "metadata": {
        "id": "E1k2BBQ3rtVL"
      }
    },
    {
      "cell_type": "markdown",
      "source": [
        "Agora podemos verificar a matriz de confusão. Plotaremos ela normalizada pelo número real do label (linhas) para visualizar melhor para onde o modelo está errando."
      ],
      "metadata": {
        "id": "gJZMbZV1sygn"
      }
    },
    {
      "cell_type": "code",
      "source": [
        "# Calcula e plota a matriz de confusão do teste\n",
        "plt.figure(figsize=(8,4))\n",
        "fx=sns.heatmap(confusion_matrix(test_real, test_pred, normalize='true'),\n",
        "               annot=True, fmt=\".2f\", cmap=\"Purples\", vmin=0, vmax=1)\n",
        "fx.set_title('Matriz de confusão normalizada pelos valores reais \\n')\n",
        "fx.set_xlabel('\\n Valor previsto pelo modelo')\n",
        "fx.set_ylabel('Valor real \\n')\n",
        "plt.show()\n",
        "\n",
        "# Calcula e printa as métricas do teste\n",
        "print(classification_report(test_real, test_pred))"
      ],
      "metadata": {
        "colab": {
          "base_uri": "https://localhost:8080/",
          "height": 668
        },
        "id": "S_Hue9ImX5Zs",
        "outputId": "a234851a-764a-4987-88ab-9ad9e650194a"
      },
      "execution_count": 38,
      "outputs": [
        {
          "output_type": "display_data",
          "data": {
            "text/plain": [
              "<Figure size 800x400 with 2 Axes>"
            ],
            "image/png": "[encoded data removed]"
          },
          "metadata": {}
        },
        {
          "output_type": "stream",
          "name": "stdout",
          "text": [
            "              precision    recall  f1-score   support\n",
            "\n",
            "           0       0.57      0.68      0.62       100\n",
            "           1       0.38      0.35      0.36       100\n",
            "           2       0.48      0.44      0.46       100\n",
            "           3       0.48      0.44      0.46       100\n",
            "           4       0.74      0.78      0.76       100\n",
            "\n",
            "    accuracy                           0.54       500\n",
            "   macro avg       0.53      0.54      0.53       500\n",
            "weighted avg       0.53      0.54      0.53       500\n",
            "\n"
          ]
        }
      ]
    },
    {
      "cell_type": "markdown",
      "source": [
        "Observando as linhas de valor real 1 e 3 é possível notar um pouco da característica mencionada. Os erros acontecem mais para o lado dos extremos (0 e 4) do que para o lado neutro (2). Este fato é mais evidente no valor real 1, onde o modelo errou mais para a previsão 0 (36%) do que acertou a previsão no próprio valor 1 (35%). É importante ressaltar que este erro (1 para 0), apesar de ser o mais comum, tem pouco impacto na tarefa que será testada na seção seguinte, já que o mais importante é reconhecer se o texto é negativo ou positivo, e não a intensidade do sentimento.\n",
        "\n",
        "Dito isso, olhando para a terceira linha da matriz, fica claro que o modelo tem dificuldades em reconhecer reviews neutros também. Porém, é interessante notar que não temos muitos erros para dois labels de distância do real. O máximo de erros onde o valor previsto está distante de dois ou mais labels do real é de 10%. Este tipo de erro é o mais impactante em classificações sequenciais, porque estaria classificando um texto positivo com um negativo, ou até mesmo um texto neutro como muito negativo.\n",
        "\n",
        "Como última observação, podemos notar também que o modelo tem maior facilidade de classificar corretamente sentimentos extremos (0 e 4), como pode ser visto na coluna de precisão. A mesma coluna também mostra que, apesar do modelo tender a classificar textos como 0, ele é melhor em classificar corretamente textos positivos.\n"
      ],
      "metadata": {
        "id": "B_negP34f4cx"
      }
    },
    {
      "cell_type": "markdown",
      "source": [
        "Agora que conhecemos melhor o comportamento e limitações do nosso modelo, podemos verificar como ele se comporta diante de uma tarefa similar."
      ],
      "metadata": {
        "id": "jpFRKeedjCIR"
      }
    },
    {
      "cell_type": "markdown",
      "source": [
        "### Tweets simulados"
      ],
      "metadata": {
        "id": "MJTvGPmlc1ES"
      }
    },
    {
      "cell_type": "markdown",
      "source": [
        "Primeiramente, temos que escolher quais serão nossos textos de teste. O ideal seria ter centenas de exemplos em um dataset balanceado. Porém, como não foi encontrado um dataset desses que falasse sobre as categorias de produtos e usasse uma linguagem parecida com a utilizada no treino, serão simulados alguns tweets aqui.\n",
        "\n",
        "A ideia é criar textos mais próximos de tweets do que reviews, mas sem utilizar abreviações ou gírias. Ao mesmo tempo, os tweets tem de ter a mesma língua utilizada e falar dos mesmos tipos de produtos que foram utilizados no treinamento (eletrônicos, mobília e material de escritório)."
      ],
      "metadata": {
        "id": "XwI0QU24BNfN"
      }
    },
    {
      "cell_type": "code",
      "source": [
        "# Cria o vetor de tweets simulados\n",
        "simulated_tweets=[\n",
        "    \"Bought a chair online and it arrived a week late\",\n",
        "    \"Just installed my new RTX. PC is flying\",\n",
        "    \"Just installed my new RTX. PC is FLYING\",\n",
        "    \"No idea why everyone is complaining about Watch_Dogs, game runs just fine on my PS4\",\n",
        "    \"Bought a cabinet that had the wrong dimensions listed... but it actually fits in my living room\",\n",
        "    \"I can't work because the monitor I ordered doesn't come with a cable\",\n",
        "    \"Just missed a meeting because my new laptop decided it needed to update windows\",\n",
        "    \"Can't believe someone could fuck up the packing this badly\",\n",
        "    \"Can't believe I lived for 30 years without a universal remote. Just spent the whole Sunday laying on my couch\",\n",
        "    \"My new table came with a huge scratch. I can't have my friends come over like this\",\n",
        "    \"The new apple watch looks weird\",\n",
        "    \"My house looks weird with the new lighting\",\n",
        "    \"My house looks awesome with the new lighting\"]"
      ],
      "metadata": {
        "id": "mkaOf2E3MpYc"
      },
      "execution_count": 39,
      "outputs": []
    },
    {
      "cell_type": "markdown",
      "source": [
        "Agora que criamos os textos dos tweets, temos que utilizar o mesmo tokenizador do modelo."
      ],
      "metadata": {
        "id": "eIZT_ZwJHE3K"
      }
    },
    {
      "cell_type": "code",
      "source": [
        "tokenized_tweets = [tokenizer(x, return_tensors=\"pt\") for x in simulated_tweets]"
      ],
      "metadata": {
        "id": "nmsD1Rpbi9cp"
      },
      "execution_count": 40,
      "outputs": []
    },
    {
      "cell_type": "markdown",
      "source": [
        "Depois, passamos os tweets tokenizados pelo modelo e tratamos a saída para obter o label previsto e as probabilidades de cada label segundo o modelo."
      ],
      "metadata": {
        "id": "Xv4vxnIRH-4_"
      }
    },
    {
      "cell_type": "code",
      "source": [
        "def softmax(x):\n",
        "    return(np.exp(x)/np.exp(x).sum())\n",
        "\n",
        "# argmax pega o maior valor de saída e softmax transforma as saídas em probabilidades\n",
        "pred_label_tweets = [np.argmax(model(**x).logits.detach().numpy()) for x in tokenized_tweets]\n",
        "prob_label_tweets = [softmax(model(**x).logits.detach().numpy()) for x in tokenized_tweets]"
      ],
      "metadata": {
        "id": "sxLE6e2blm-Y"
      },
      "execution_count": 41,
      "outputs": []
    },
    {
      "cell_type": "code",
      "source": [
        "prob_labels_tweets = [x.tolist() for x in prob_label_tweets]"
      ],
      "metadata": {
        "id": "W9zQZv2msBf-"
      },
      "execution_count": 42,
      "outputs": []
    },
    {
      "cell_type": "code",
      "source": [
        "# Um vetor de probabilidade para cada classe\n",
        "label_prob_0 = []\n",
        "label_prob_1 = []\n",
        "label_prob_2 = []\n",
        "label_prob_3 = []\n",
        "label_prob_4 = []\n",
        "for probs in prob_labels_tweets:\n",
        "  label_prob_0.append(probs[0][0])\n",
        "  label_prob_1.append(probs[0][1])\n",
        "  label_prob_2.append(probs[0][2])\n",
        "  label_prob_3.append(probs[0][3])\n",
        "  label_prob_4.append(probs[0][4])"
      ],
      "metadata": {
        "id": "4xOo0TMtutmL"
      },
      "execution_count": 43,
      "outputs": []
    },
    {
      "cell_type": "markdown",
      "source": [
        "Por fim, agrupa-se os tweets, previsão e probabilidades em um dataframe para melhor visualização."
      ],
      "metadata": {
        "id": "jjeey-ZeR7rI"
      }
    },
    {
      "cell_type": "code",
      "source": [
        "data = list(zip(simulated_tweets, pred_label_tweets, label_prob_0, label_prob_1, label_prob_2, label_prob_3, label_prob_4))\n",
        "df_tweets = pd.DataFrame(data, columns=['tweet', 'predicted', 'prob0', 'prob1', 'prob2', 'prob3', 'prob4'])\n",
        "df_tweets"
      ],
      "metadata": {
        "colab": {
          "base_uri": "https://localhost:8080/",
          "height": 457
        },
        "id": "w9qWsAFvp9S1",
        "outputId": "18792383-f2a6-43e9-dadc-b05e64d9dc53"
      },
      "execution_count": 44,
      "outputs": [
        {
          "output_type": "execute_result",
          "data": {
            "text/plain": [
              "                                                tweet  predicted  prob0  \\\n",
              "0    Bought a chair online and it arrived a week late          0  0.815   \n",
              "1             Just installed my new RTX. PC is flying          4  0.013   \n",
              "2             Just installed my new RTX. PC is FLYING          4  0.060   \n",
              "3   No idea why everyone is complaining about Watc...          3  0.013   \n",
              "4   Bought a cabinet that had the wrong dimensions...          3  0.006   \n",
              "5   I can't work because the monitor I ordered doe...          0  0.701   \n",
              "6   Just missed a meeting because my new laptop de...          2  0.270   \n",
              "7   Can't believe someone could fuck up the packin...          0  0.476   \n",
              "8   Can't believe I lived for 30 years without a u...          0  0.602   \n",
              "9   My new table came with a huge scratch. I can't...          0  0.581   \n",
              "10                    The new apple watch looks weird          2  0.133   \n",
              "11         My house looks weird with the new lighting          2  0.052   \n",
              "12       My house looks awesome with the new lighting          4  0.002   \n",
              "\n",
              "    prob1  prob2  prob3  prob4  \n",
              "0   0.118  0.047  0.012  0.009  \n",
              "1   0.011  0.030  0.190  0.755  \n",
              "2   0.025  0.055  0.189  0.671  \n",
              "3   0.030  0.100  0.432  0.425  \n",
              "4   0.019  0.069  0.467  0.439  \n",
              "5   0.207  0.074  0.012  0.006  \n",
              "6   0.245  0.317  0.123  0.045  \n",
              "7   0.206  0.169  0.082  0.067  \n",
              "8   0.132  0.092  0.067  0.107  \n",
              "9   0.207  0.134  0.045  0.033  \n",
              "10  0.373  0.393  0.083  0.018  \n",
              "11  0.323  0.468  0.135  0.022  \n",
              "12  0.005  0.017  0.193  0.782  "
            ],
            "text/html": [
              "\n",
              "\n",
              "  <div id=\"df-b87fb185-5838-4f64-8960-fe477abacaad\">\n",
              "    <div class=\"colab-df-container\">\n",
              "      <div>\n",
              "<style scoped>\n",
              "    .dataframe tbody tr th:only-of-type {\n",
              "        vertical-align: middle;\n",
              "    }\n",
              "\n",
              "    .dataframe tbody tr th {\n",
              "        vertical-align: top;\n",
              "    }\n",
              "\n",
              "    .dataframe thead th {\n",
              "        text-align: right;\n",
              "    }\n",
              "</style>\n",
              "<table border=\"1\" class=\"dataframe\">\n",
              "  <thead>\n",
              "    <tr style=\"text-align: right;\">\n",
              "      <th></th>\n",
              "      <th>tweet</th>\n",
              "      <th>predicted</th>\n",
              "      <th>prob0</th>\n",
              "      <th>prob1</th>\n",
              "      <th>prob2</th>\n",
              "      <th>prob3</th>\n",
              "      <th>prob4</th>\n",
              "    </tr>\n",
              "  </thead>\n",
              "  <tbody>\n",
              "    <tr>\n",
              "      <th>0</th>\n",
              "      <td>Bought a chair online and it arrived a week late</td>\n",
              "      <td>0</td>\n",
              "      <td>0.815</td>\n",
              "      <td>0.118</td>\n",
              "      <td>0.047</td>\n",
              "      <td>0.012</td>\n",
              "      <td>0.009</td>\n",
              "    </tr>\n",
              "    <tr>\n",
              "      <th>1</th>\n",
              "      <td>Just installed my new RTX. PC is flying</td>\n",
              "      <td>4</td>\n",
              "      <td>0.013</td>\n",
              "      <td>0.011</td>\n",
              "      <td>0.030</td>\n",
              "      <td>0.190</td>\n",
              "      <td>0.755</td>\n",
              "    </tr>\n",
              "    <tr>\n",
              "      <th>2</th>\n",
              "      <td>Just installed my new RTX. PC is FLYING</td>\n",
              "      <td>4</td>\n",
              "      <td>0.060</td>\n",
              "      <td>0.025</td>\n",
              "      <td>0.055</td>\n",
              "      <td>0.189</td>\n",
              "      <td>0.671</td>\n",
              "    </tr>\n",
              "    <tr>\n",
              "      <th>3</th>\n",
              "      <td>No idea why everyone is complaining about Watc...</td>\n",
              "      <td>3</td>\n",
              "      <td>0.013</td>\n",
              "      <td>0.030</td>\n",
              "      <td>0.100</td>\n",
              "      <td>0.432</td>\n",
              "      <td>0.425</td>\n",
              "    </tr>\n",
              "    <tr>\n",
              "      <th>4</th>\n",
              "      <td>Bought a cabinet that had the wrong dimensions...</td>\n",
              "      <td>3</td>\n",
              "      <td>0.006</td>\n",
              "      <td>0.019</td>\n",
              "      <td>0.069</td>\n",
              "      <td>0.467</td>\n",
              "      <td>0.439</td>\n",
              "    </tr>\n",
              "    <tr>\n",
              "      <th>5</th>\n",
              "      <td>I can't work because the monitor I ordered doe...</td>\n",
              "      <td>0</td>\n",
              "      <td>0.701</td>\n",
              "      <td>0.207</td>\n",
              "      <td>0.074</td>\n",
              "      <td>0.012</td>\n",
              "      <td>0.006</td>\n",
              "    </tr>\n",
              "    <tr>\n",
              "      <th>6</th>\n",
              "      <td>Just missed a meeting because my new laptop de...</td>\n",
              "      <td>2</td>\n",
              "      <td>0.270</td>\n",
              "      <td>0.245</td>\n",
              "      <td>0.317</td>\n",
              "      <td>0.123</td>\n",
              "      <td>0.045</td>\n",
              "    </tr>\n",
              "    <tr>\n",
              "      <th>7</th>\n",
              "      <td>Can't believe someone could fuck up the packin...</td>\n",
              "      <td>0</td>\n",
              "      <td>0.476</td>\n",
              "      <td>0.206</td>\n",
              "      <td>0.169</td>\n",
              "      <td>0.082</td>\n",
              "      <td>0.067</td>\n",
              "    </tr>\n",
              "    <tr>\n",
              "      <th>8</th>\n",
              "      <td>Can't believe I lived for 30 years without a u...</td>\n",
              "      <td>0</td>\n",
              "      <td>0.602</td>\n",
              "      <td>0.132</td>\n",
              "      <td>0.092</td>\n",
              "      <td>0.067</td>\n",
              "      <td>0.107</td>\n",
              "    </tr>\n",
              "    <tr>\n",
              "      <th>9</th>\n",
              "      <td>My new table came with a huge scratch. I can't...</td>\n",
              "      <td>0</td>\n",
              "      <td>0.581</td>\n",
              "      <td>0.207</td>\n",
              "      <td>0.134</td>\n",
              "      <td>0.045</td>\n",
              "      <td>0.033</td>\n",
              "    </tr>\n",
              "    <tr>\n",
              "      <th>10</th>\n",
              "      <td>The new apple watch looks weird</td>\n",
              "      <td>2</td>\n",
              "      <td>0.133</td>\n",
              "      <td>0.373</td>\n",
              "      <td>0.393</td>\n",
              "      <td>0.083</td>\n",
              "      <td>0.018</td>\n",
              "    </tr>\n",
              "    <tr>\n",
              "      <th>11</th>\n",
              "      <td>My house looks weird with the new lighting</td>\n",
              "      <td>2</td>\n",
              "      <td>0.052</td>\n",
              "      <td>0.323</td>\n",
              "      <td>0.468</td>\n",
              "      <td>0.135</td>\n",
              "      <td>0.022</td>\n",
              "    </tr>\n",
              "    <tr>\n",
              "      <th>12</th>\n",
              "      <td>My house looks awesome with the new lighting</td>\n",
              "      <td>4</td>\n",
              "      <td>0.002</td>\n",
              "      <td>0.005</td>\n",
              "      <td>0.017</td>\n",
              "      <td>0.193</td>\n",
              "      <td>0.782</td>\n",
              "    </tr>\n",
              "  </tbody>\n",
              "</table>\n",
              "</div>\n",
              "      <button class=\"colab-df-convert\" onclick=\"convertToInteractive('df-b87fb185-5838-4f64-8960-fe477abacaad')\"\n",
              "              title=\"Convert this dataframe to an interactive table.\"\n",
              "              style=\"display:none;\">\n",
              "\n",
              "  <svg xmlns=\"http://www.w3.org/2000/svg\" height=\"24px\"viewBox=\"0 0 24 24\"\n",
              "       width=\"24px\">\n",
              "    <path d=\"M0 0h24v24H0V0z\" fill=\"none\"/>\n",
              "    <path d=\"M18.56 5.44l.94 2.06.94-2.06 2.06-.94-2.06-.94-.94-2.06-.94 2.06-2.06.94zm-11 1L8.5 8.5l.94-2.06 2.06-.94-2.06-.94L8.5 2.5l-.94 2.06-2.06.94zm10 10l.94 2.06.94-2.06 2.06-.94-2.06-.94-.94-2.06-.94 2.06-2.06.94z\"/><path d=\"M17.41 7.96l-1.37-1.37c-.4-.4-.92-.59-1.43-.59-.52 0-1.04.2-1.43.59L10.3 9.45l-7.72 7.72c-.78.78-.78 2.05 0 2.83L4 21.41c.39.39.9.59 1.41.59.51 0 1.02-.2 1.41-.59l7.78-7.78 2.81-2.81c.8-.78.8-2.07 0-2.86zM5.41 20L4 18.59l7.72-7.72 1.47 1.35L5.41 20z\"/>\n",
              "  </svg>\n",
              "      </button>\n",
              "\n",
              "\n",
              "\n",
              "    <div id=\"df-027c8644-80ec-4301-8343-a78c3acb67b9\">\n",
              "      <button class=\"colab-df-quickchart\" onclick=\"quickchart('df-027c8644-80ec-4301-8343-a78c3acb67b9')\"\n",
              "              title=\"Suggest charts.\"\n",
              "              style=\"display:none;\">\n",
              "\n",
              "<svg xmlns=\"http://www.w3.org/2000/svg\" height=\"24px\"viewBox=\"0 0 24 24\"\n",
              "     width=\"24px\">\n",
              "    <g>\n",
              "        <path d=\"M19 3H5c-1.1 0-2 .9-2 2v14c0 1.1.9 2 2 2h14c1.1 0 2-.9 2-2V5c0-1.1-.9-2-2-2zM9 17H7v-7h2v7zm4 0h-2V7h2v10zm4 0h-2v-4h2v4z\"/>\n",
              "    </g>\n",
              "</svg>\n",
              "      </button>\n",
              "    </div>\n",
              "\n",
              "<style>\n",
              "  .colab-df-quickchart {\n",
              "    background-color: #E8F0FE;\n",
              "    border: none;\n",
              "    border-radius: 50%;\n",
              "    cursor: pointer;\n",
              "    display: none;\n",
              "    fill: #1967D2;\n",
              "    height: 32px;\n",
              "    padding: 0 0 0 0;\n",
              "    width: 32px;\n",
              "  }\n",
              "\n",
              "  .colab-df-quickchart:hover {\n",
              "    background-color: #E2EBFA;\n",
              "    box-shadow: 0px 1px 2px rgba(60, 64, 67, 0.3), 0px 1px 3px 1px rgba(60, 64, 67, 0.15);\n",
              "    fill: #174EA6;\n",
              "  }\n",
              "\n",
              "  [theme=dark] .colab-df-quickchart {\n",
              "    background-color: #3B4455;\n",
              "    fill: #D2E3FC;\n",
              "  }\n",
              "\n",
              "  [theme=dark] .colab-df-quickchart:hover {\n",
              "    background-color: #434B5C;\n",
              "    box-shadow: 0px 1px 3px 1px rgba(0, 0, 0, 0.15);\n",
              "    filter: drop-shadow(0px 1px 2px rgba(0, 0, 0, 0.3));\n",
              "    fill: #FFFFFF;\n",
              "  }\n",
              "</style>\n",
              "\n",
              "    <script>\n",
              "      async function quickchart(key) {\n",
              "        const containerElement = document.querySelector('#' + key);\n",
              "        const charts = await google.colab.kernel.invokeFunction(\n",
              "            'suggestCharts', [key], {});\n",
              "      }\n",
              "    </script>\n",
              "\n",
              "      <script>\n",
              "\n",
              "function displayQuickchartButton(domScope) {\n",
              "  let quickchartButtonEl =\n",
              "    domScope.querySelector('#df-027c8644-80ec-4301-8343-a78c3acb67b9 button.colab-df-quickchart');\n",
              "  quickchartButtonEl.style.display =\n",
              "    google.colab.kernel.accessAllowed ? 'block' : 'none';\n",
              "}\n",
              "\n",
              "        displayQuickchartButton(document);\n",
              "      </script>\n",
              "      <style>\n",
              "    .colab-df-container {\n",
              "      display:flex;\n",
              "      flex-wrap:wrap;\n",
              "      gap: 12px;\n",
              "    }\n",
              "\n",
              "    .colab-df-convert {\n",
              "      background-color: #E8F0FE;\n",
              "      border: none;\n",
              "      border-radius: 50%;\n",
              "      cursor: pointer;\n",
              "      display: none;\n",
              "      fill: #1967D2;\n",
              "      height: 32px;\n",
              "      padding: 0 0 0 0;\n",
              "      width: 32px;\n",
              "    }\n",
              "\n",
              "    .colab-df-convert:hover {\n",
              "      background-color: #E2EBFA;\n",
              "      box-shadow: 0px 1px 2px rgba(60, 64, 67, 0.3), 0px 1px 3px 1px rgba(60, 64, 67, 0.15);\n",
              "      fill: #174EA6;\n",
              "    }\n",
              "\n",
              "    [theme=dark] .colab-df-convert {\n",
              "      background-color: #3B4455;\n",
              "      fill: #D2E3FC;\n",
              "    }\n",
              "\n",
              "    [theme=dark] .colab-df-convert:hover {\n",
              "      background-color: #434B5C;\n",
              "      box-shadow: 0px 1px 3px 1px rgba(0, 0, 0, 0.15);\n",
              "      filter: drop-shadow(0px 1px 2px rgba(0, 0, 0, 0.3));\n",
              "      fill: #FFFFFF;\n",
              "    }\n",
              "  </style>\n",
              "\n",
              "      <script>\n",
              "        const buttonEl =\n",
              "          document.querySelector('#df-b87fb185-5838-4f64-8960-fe477abacaad button.colab-df-convert');\n",
              "        buttonEl.style.display =\n",
              "          google.colab.kernel.accessAllowed ? 'block' : 'none';\n",
              "\n",
              "        async function convertToInteractive(key) {\n",
              "          const element = document.querySelector('#df-b87fb185-5838-4f64-8960-fe477abacaad');\n",
              "          const dataTable =\n",
              "            await google.colab.kernel.invokeFunction('convertToInteractive',\n",
              "                                                     [key], {});\n",
              "          if (!dataTable) return;\n",
              "\n",
              "          const docLinkHtml = 'Like what you see? Visit the ' +\n",
              "            '<a target=\"_blank\" href=https://colab.research.google.com/notebooks/data_table.ipynb>data table notebook</a>'\n",
              "            + ' to learn more about interactive tables.';\n",
              "          element.innerHTML = '';\n",
              "          dataTable['output_type'] = 'display_data';\n",
              "          await google.colab.output.renderOutput(dataTable, element);\n",
              "          const docLink = document.createElement('div');\n",
              "          docLink.innerHTML = docLinkHtml;\n",
              "          element.appendChild(docLink);\n",
              "        }\n",
              "      </script>\n",
              "    </div>\n",
              "  </div>\n"
            ]
          },
          "metadata": {},
          "execution_count": 44
        }
      ]
    },
    {
      "cell_type": "markdown",
      "source": [
        "Dos 12 tweets criados, a maior parte foi prevista satisfatoriamente. As grandes exceções foram:\n",
        "\n",
        "- 'Just missed a meeting because my new laptop decided it needed to update windows' - A nota prevista pelo modelo foi nota 2, que deveria indicar indiferença, quando claramente este existe um sentimento negativo no texto. Mesmo que a decisão final tenha sido incorreta, é interessante notar que as probabilidades de nota 0 e 1 estão bem próximas da probabilidade da nota 2, indicando que o modelo suspeitava que fosse um tweet negativo.\n",
        "\n",
        "- 'Can't belive I lived for 30 years without a universal remote. Just spent the whole sunday laying on my couch' - Claramente este é um tweet positivo sobre ter gostado do produto novo, mas o modelo atribuiu um sentimento muito negativo (nota 0) a ele. Além disso, ele deu probabilidade muito baixa do texto ser positivo ou muito positivo.\n",
        "\n",
        "Todos os outros tweets foram classificados \"corretamente\", mesmo que alguns sejam discutíveis. É possível notar mais alguns pontos sobre as classificações acima:\n",
        "\n",
        "- Observando os tweets de índice 1 e 2, parece que o modelo penaliza a capitalização de palavras. Apesar de os dois tweets terem sido classificados como muito positivo, ao olhar a probabilidade do label 4, a capitalização da palavra 'flying' parece ter levado o modelo levemente para o lado negativo. Isso é interessante porque é fácil notar que, nesse caso, a capitalização indica animação do consumidor, o que deveria levar o sentimento mais para o lado positivo. É provável que isso tenha ocorrido porque o modelo viu mais capitalizações em reviews negativos do que positivos no treinamento.\n",
        "\n",
        "- Esperava-se que os tweets de índice 3 e 4 fossem difíceis para o modelo, já que eles possuem linguagem um pouco conflitante, mas o label previsto foi aceitável. Em \"***No idea why everyone is complaining about Watch_Dogs, game runs just fine on my PS4***\", a frase possui as palavras 'complaining' e 'just fine' o que geralmente indicaria indiferença ou até negatividade, mas o modelo atribui corretamente uma nota 3. Em \"***Bought a cabinet that had the wrong dimensions listed... but it actually fits in my living room***\" temos as palavras 'wrong dimensions' o que provavelmente foi visto nos reviews de treino como algo negativo, mas parece que a frase seguinte ser iniciada por 'but' e ter 'fits' foi o suficiente para o modelo indicar um sentimento positivo para este tweet.\n",
        "\n",
        "- Os três últimos tweets mostram claramente o poder de mudar uma única palavra. Nos dois primeiros podemos ver que a palavra 'weird' faz o modelo tender (corretamente) ao aumento das probabilidades de sentimento neutro ou negativo. Já no último tweet, vemos que ao mudar uma única palavra a probabilidade de sentimento positivo aumenta drasticamente."
      ],
      "metadata": {
        "id": "SWxQoVdzMuXB"
      }
    },
    {
      "cell_type": "markdown",
      "source": [
        "No final, pode-se dizer que a transferência de tarefa foi um sucesso, ao menos no nosso teste limitado. Dos 13 exemplos de tweets simulados, o modelo foi capaz de fazer previsões satisfatórias em 11 deles."
      ],
      "metadata": {
        "id": "1vl6tFrle2hC"
      }
    },
    {
      "cell_type": "code",
      "source": [
        "# # Código para buscar por palavras nos reviews utilizados para\n",
        "# # treinamento do modelo. Deixado aqui para conveniência do leitor.\n",
        "\n",
        "# word_to_search = 'RTX'\n",
        "\n",
        "# for i in df_sample['train'][df_sample['train']['text'].str.contains(word_to_search)].index:\n",
        "#   print(df_sample['train']['label'][i], ':', df_sample['train']['text'][i])"
      ],
      "metadata": {
        "id": "xL1EIau2C7NO"
      },
      "execution_count": 45,
      "outputs": []
    },
    {
      "cell_type": "markdown",
      "source": [
        "---\n",
        "\n",
        "## 2.7 O que mais poderia ser feito"
      ],
      "metadata": {
        "id": "OQY9ey2drcoR"
      }
    },
    {
      "cell_type": "markdown",
      "source": [
        "Frente à acurácia de 53,8% na tarefa de reviews e os testes muito limitados na tarefa de tweets, é interessante listar aqui algumas melhorias que poderiam ser feitas nesta parte do MVP, mas foram deixadas de fora por falta de tempo:\n",
        "\n",
        "- Aplicar os pré-processamentos citados no final da seção 2.4 para estudar seus efeitos na acurácia do BERT nas duas tarefas.\n",
        "\n",
        "- Treinar o modelo por mais steps ou com maior tamanho de batch. Foi utilizado quase todo o limite do Google Colab, mas o log de treinamento parece indicar que ainda é possível aumentar um pouco mais a acurácia na tarefa de reviews. Seria interessante utilizar outra plataforma para fornecer mais observações para o treino, já que utilizamos menos de 50% do nosso dataset de treino.\n",
        "\n",
        "- Aumentar o número de tweets simulados. Fica claro ao observar o nosso limitado número de tweets, que não temos um teste heterogêneo. Seria interessante aumentar o número de tweets simulados, com o intuito de melhorar a confiabilidade do teste.\n",
        "\n",
        "- Buscar um dataset de tweets que esteja dentro das limitações citadas. Ainda afim de aumentar a confiabilidade do teste da segunda tarefa, seria interessante utilizar um dataset extenso de tweets sobre produtos que não utilizasse abreviações e tags. Também seria possível realizar alguns pré-processamentos em tweets reais para remover essas limitações do dataset."
      ],
      "metadata": {
        "id": "ad5F8-uuRSzg"
      }
    },
    {
      "cell_type": "markdown",
      "source": [
        "---\n",
        "\n",
        "## 2.8 Conclusão"
      ],
      "metadata": {
        "id": "F8alLFemdnkK"
      }
    },
    {
      "cell_type": "markdown",
      "source": [
        "Nesta segunda parte do MVP, foi realizado um fine-tunning do modelo pré-treinado [BERT-base-cased](https://huggingface.co/bert-base-cased) para prever notas de reviews de consumidores em lojas de varejo. Com o modelo treinado, foi avaliada sua capacidade de prever se um tweet tem sentimento positivo ou negativo. Apesar de ter sido testado em tweets simulados, com quantidade reduzida e linguagem controlada, o modelo se mostrou capaz de realizar uma tarefa para a qual não foi diretamente treinada.\n",
        "\n",
        "O modelo foi treinado observando os textos de reviews da amazon e tentava prever a nota dada pelo usuário, que variava de 1 a 5. O treinamento do modelo utilizou uma única época com 30720 observações, tamanho de batch de 128 e 240 steps. Após o treinamento, o modelo obteve uma acurácia de 53,8% no dataset de teste, considerando as 5 classes distintas.\n",
        "\n",
        "No final, o modelo foi testado em 13 tweets simulados, que foram criados segundo os seguintes critérios:\n",
        "\n",
        "- O tweet deve expressar uma opinião sobre um produto de categoria vista no treinamento.\n",
        "\n",
        "- Apesar de permitir linguagem coloquial, o tweet não pode conter abreviações, tags e links, já que estes não foram vistas no treinamento.\n",
        "\n",
        "- Não deve haver erros graves de inglês no tweet.\n",
        "\n",
        "Com as limitações citadas acima, o modelo previu corretamente 11 dos 13 tweets simulados, mesmo que algumas das notas sejam discutíveis. Este resultado mostra que o modelo em questão foi capaz de realizar uma tarefa similar a do treinamento, desde que em um ambiente controlado.\n",
        "\n"
      ],
      "metadata": {
        "id": "tI0VVMZrgcDO"
      }
    },
    {
      "cell_type": "markdown",
      "source": [
        "---\n",
        "\n",
        "---"
      ],
      "metadata": {
        "id": "vjlxSuNZZbzU"
      }
    },
    {
      "cell_type": "markdown",
      "source": [
        "# falta\n",
        "\n",
        "aumentar número de tweets\n",
        "\n",
        "realizar preprocessamentos e testar modelo?\n",
        "\n",
        "\n",
        "\n",
        "\n"
      ],
      "metadata": {
        "id": "7JikP9SHiXpT"
      }
    },
    {
      "cell_type": "code",
      "source": [],
      "metadata": {
        "id": "1M4LB_vHixkX"
      },
      "execution_count": 45,
      "outputs": []
    }
  ]
}